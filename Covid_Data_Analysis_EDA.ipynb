{
 "cells": [
  {
   "cell_type": "markdown",
   "metadata": {},
   "source": [
    "## EDA Exploration Data Analysis\n",
    "it help to give qick data summarization (It give overview ofthe data)eg mean,median,mode\n",
    "\n",
    "it see the patterns,relations and structure of the data\n",
    "\n",
    "it can be used with preposcessing they works hand in hand \n",
    "\n",
    "it is used to gain insight from the data \n",
    "\n",
    "it is used in data visualization ,data cleaning, pattern discovery(to see the pattern of data wheather it is decreasing or increasing)(anomalies-if there is zero treat is or not), hypothesis generation(assumation to check wheather there are true are false(prove)),data exploration (data understanding)"
   ]
  },
  {
   "cell_type": "markdown",
   "metadata": {},
   "source": [
    "# Covid DataSet\n",
    "### This dataset total conatins 12 features which is described as below:\n",
    "\n",
    "1.Country: Contains 230 differnt countries names\n",
    "\n",
    "2.Total Cases: Total covid cases occured in (Millions)\n",
    "\n",
    "3.Total Deaths: Total death rate due to covid in (Millions)\n",
    "\n",
    "4.New Deaths: New Death Rate\n",
    "\n",
    "5.Total Recovered: Total recovered cases in (Million)\n",
    "\n",
    "6.Active Cases: Total Active cases in (Million)\n",
    "\n",
    "7.Serious Cases: Total Serious cases in (Thousands)\n",
    "\n",
    "8.Total Cases/1M pop: Total Covid cases occured per 1Million Population\n",
    "\n",
    "9.Deaths/1M pop: Total Death rate per 1Million Population\n",
    "\n",
    "10.Total Tests: Total Test\n",
    "\n",
    "11.Test/1M pop: Total Test of Covid cases done per 1Million Population\n",
    "\n",
    "12.Population: Total no. of Population"
   ]
  },
  {
   "cell_type": "code",
   "execution_count": 55,
   "metadata": {},
   "outputs": [],
   "source": [
    "#IMPORT LIBARIES\n",
    "import pandas as pd\n",
    "import numpy as np\n",
    "import seaborn as sns\n",
    "import matplotlib.pyplot as plt\n",
    "import warnings \n",
    "warnings.filterwarnings('ignore')\n",
    "pd.set_option(\"display.max_columns\",None)"
   ]
  },
  {
   "cell_type": "code",
   "execution_count": 56,
   "metadata": {},
   "outputs": [],
   "source": [
    "#IMPORTING THE FILE FROM THE SYSTEM\n",
    "data = pd.read_csv(r\"C:\\Users\\hp\\Downloads\\archive\\Covid Live.csv\",index_col=0)"
   ]
  },
  {
   "cell_type": "code",
   "execution_count": 57,
   "metadata": {},
   "outputs": [
    {
     "data": {
      "text/html": [
       "<div>\n",
       "<style scoped>\n",
       "    .dataframe tbody tr th:only-of-type {\n",
       "        vertical-align: middle;\n",
       "    }\n",
       "\n",
       "    .dataframe tbody tr th {\n",
       "        vertical-align: top;\n",
       "    }\n",
       "\n",
       "    .dataframe thead th {\n",
       "        text-align: right;\n",
       "    }\n",
       "</style>\n",
       "<table border=\"1\" class=\"dataframe\">\n",
       "  <thead>\n",
       "    <tr style=\"text-align: right;\">\n",
       "      <th></th>\n",
       "      <th>Country,\\nOther</th>\n",
       "      <th>Total\\nCases</th>\n",
       "      <th>Total\\nDeaths</th>\n",
       "      <th>New\\nDeaths</th>\n",
       "      <th>Total\\nRecovered</th>\n",
       "      <th>Active\\nCases</th>\n",
       "      <th>Serious,\\nCritical</th>\n",
       "      <th>Tot Cases/\\n1M pop</th>\n",
       "      <th>Deaths/\\n1M pop</th>\n",
       "      <th>Total\\nTests</th>\n",
       "      <th>Tests/\\n1M pop</th>\n",
       "      <th>Population</th>\n",
       "    </tr>\n",
       "    <tr>\n",
       "      <th>#</th>\n",
       "      <th></th>\n",
       "      <th></th>\n",
       "      <th></th>\n",
       "      <th></th>\n",
       "      <th></th>\n",
       "      <th></th>\n",
       "      <th></th>\n",
       "      <th></th>\n",
       "      <th></th>\n",
       "      <th></th>\n",
       "      <th></th>\n",
       "      <th></th>\n",
       "    </tr>\n",
       "  </thead>\n",
       "  <tbody>\n",
       "    <tr>\n",
       "      <th>1</th>\n",
       "      <td>USA</td>\n",
       "      <td>98,166,904</td>\n",
       "      <td>1,084,282</td>\n",
       "      <td>NaN</td>\n",
       "      <td>94,962,112</td>\n",
       "      <td>2,120,510</td>\n",
       "      <td>2,970</td>\n",
       "      <td>293,206</td>\n",
       "      <td>3,239</td>\n",
       "      <td>1,118,158,870</td>\n",
       "      <td>3,339,729</td>\n",
       "      <td>334,805,269</td>\n",
       "    </tr>\n",
       "    <tr>\n",
       "      <th>2</th>\n",
       "      <td>India</td>\n",
       "      <td>44,587,307</td>\n",
       "      <td>528,629</td>\n",
       "      <td>NaN</td>\n",
       "      <td>44,019,095</td>\n",
       "      <td>39,583</td>\n",
       "      <td>698</td>\n",
       "      <td>31,698</td>\n",
       "      <td>376</td>\n",
       "      <td>894,416,853</td>\n",
       "      <td>635,857</td>\n",
       "      <td>1,406,631,776</td>\n",
       "    </tr>\n",
       "    <tr>\n",
       "      <th>3</th>\n",
       "      <td>France</td>\n",
       "      <td>35,342,950</td>\n",
       "      <td>155,078</td>\n",
       "      <td>NaN</td>\n",
       "      <td>34,527,115</td>\n",
       "      <td>660,757</td>\n",
       "      <td>869</td>\n",
       "      <td>538,892</td>\n",
       "      <td>2,365</td>\n",
       "      <td>271,490,188</td>\n",
       "      <td>4,139,547</td>\n",
       "      <td>65,584,518</td>\n",
       "    </tr>\n",
       "    <tr>\n",
       "      <th>4</th>\n",
       "      <td>Brazil</td>\n",
       "      <td>34,706,757</td>\n",
       "      <td>686,027</td>\n",
       "      <td>NaN</td>\n",
       "      <td>33,838,636</td>\n",
       "      <td>182,094</td>\n",
       "      <td>8,318</td>\n",
       "      <td>161,162</td>\n",
       "      <td>3,186</td>\n",
       "      <td>63,776,166</td>\n",
       "      <td>296,146</td>\n",
       "      <td>215,353,593</td>\n",
       "    </tr>\n",
       "    <tr>\n",
       "      <th>5</th>\n",
       "      <td>Germany</td>\n",
       "      <td>33,312,373</td>\n",
       "      <td>149,948</td>\n",
       "      <td>NaN</td>\n",
       "      <td>32,315,200</td>\n",
       "      <td>847,225</td>\n",
       "      <td>1,406</td>\n",
       "      <td>397,126</td>\n",
       "      <td>1,788</td>\n",
       "      <td>122,332,384</td>\n",
       "      <td>1,458,359</td>\n",
       "      <td>83,883,596</td>\n",
       "    </tr>\n",
       "    <tr>\n",
       "      <th>...</th>\n",
       "      <td>...</td>\n",
       "      <td>...</td>\n",
       "      <td>...</td>\n",
       "      <td>...</td>\n",
       "      <td>...</td>\n",
       "      <td>...</td>\n",
       "      <td>...</td>\n",
       "      <td>...</td>\n",
       "      <td>...</td>\n",
       "      <td>...</td>\n",
       "      <td>...</td>\n",
       "      <td>...</td>\n",
       "    </tr>\n",
       "    <tr>\n",
       "      <th>226</th>\n",
       "      <td>Niue</td>\n",
       "      <td>80</td>\n",
       "      <td>NaN</td>\n",
       "      <td>NaN</td>\n",
       "      <td>80</td>\n",
       "      <td>0</td>\n",
       "      <td>NaN</td>\n",
       "      <td>49,322</td>\n",
       "      <td>NaN</td>\n",
       "      <td>NaN</td>\n",
       "      <td>NaN</td>\n",
       "      <td>1,622</td>\n",
       "    </tr>\n",
       "    <tr>\n",
       "      <th>227</th>\n",
       "      <td>Vatican City</td>\n",
       "      <td>29</td>\n",
       "      <td>NaN</td>\n",
       "      <td>NaN</td>\n",
       "      <td>29</td>\n",
       "      <td>0</td>\n",
       "      <td>NaN</td>\n",
       "      <td>36,295</td>\n",
       "      <td>NaN</td>\n",
       "      <td>NaN</td>\n",
       "      <td>NaN</td>\n",
       "      <td>799</td>\n",
       "    </tr>\n",
       "    <tr>\n",
       "      <th>228</th>\n",
       "      <td>Tuvalu</td>\n",
       "      <td>20</td>\n",
       "      <td>NaN</td>\n",
       "      <td>NaN</td>\n",
       "      <td>NaN</td>\n",
       "      <td>20</td>\n",
       "      <td>NaN</td>\n",
       "      <td>1,658</td>\n",
       "      <td>NaN</td>\n",
       "      <td>NaN</td>\n",
       "      <td>NaN</td>\n",
       "      <td>12,066</td>\n",
       "    </tr>\n",
       "    <tr>\n",
       "      <th>229</th>\n",
       "      <td>Western Sahara</td>\n",
       "      <td>10</td>\n",
       "      <td>1</td>\n",
       "      <td>NaN</td>\n",
       "      <td>9</td>\n",
       "      <td>0</td>\n",
       "      <td>NaN</td>\n",
       "      <td>16</td>\n",
       "      <td>2</td>\n",
       "      <td>NaN</td>\n",
       "      <td>NaN</td>\n",
       "      <td>626,161</td>\n",
       "    </tr>\n",
       "    <tr>\n",
       "      <th>230</th>\n",
       "      <td>MS Zaandam</td>\n",
       "      <td>9</td>\n",
       "      <td>2</td>\n",
       "      <td>NaN</td>\n",
       "      <td>7</td>\n",
       "      <td>0</td>\n",
       "      <td>NaN</td>\n",
       "      <td>NaN</td>\n",
       "      <td>NaN</td>\n",
       "      <td>NaN</td>\n",
       "      <td>NaN</td>\n",
       "      <td>NaN</td>\n",
       "    </tr>\n",
       "  </tbody>\n",
       "</table>\n",
       "<p>230 rows × 12 columns</p>\n",
       "</div>"
      ],
      "text/plain": [
       "    Country,\\nOther Total\\nCases Total\\nDeaths  New\\nDeaths Total\\nRecovered  \\\n",
       "#                                                                              \n",
       "1               USA   98,166,904     1,084,282          NaN       94,962,112   \n",
       "2             India   44,587,307       528,629          NaN       44,019,095   \n",
       "3            France   35,342,950       155,078          NaN       34,527,115   \n",
       "4            Brazil   34,706,757       686,027          NaN       33,838,636   \n",
       "5           Germany   33,312,373       149,948          NaN       32,315,200   \n",
       "..              ...          ...           ...          ...              ...   \n",
       "226            Niue           80           NaN          NaN               80   \n",
       "227    Vatican City           29           NaN          NaN               29   \n",
       "228          Tuvalu           20           NaN          NaN              NaN   \n",
       "229  Western Sahara           10             1          NaN                9   \n",
       "230      MS Zaandam            9             2          NaN                7   \n",
       "\n",
       "    Active\\nCases Serious,\\nCritical Tot Cases/\\n1M pop Deaths/\\n1M pop  \\\n",
       "#                                                                         \n",
       "1       2,120,510              2,970            293,206           3,239   \n",
       "2          39,583                698             31,698             376   \n",
       "3         660,757                869            538,892           2,365   \n",
       "4         182,094              8,318            161,162           3,186   \n",
       "5         847,225              1,406            397,126           1,788   \n",
       "..            ...                ...                ...             ...   \n",
       "226             0                NaN             49,322             NaN   \n",
       "227             0                NaN             36,295             NaN   \n",
       "228            20                NaN              1,658             NaN   \n",
       "229             0                NaN                 16               2   \n",
       "230             0                NaN                NaN             NaN   \n",
       "\n",
       "      Total\\nTests Tests/\\n1M pop     Population  \n",
       "#                                                 \n",
       "1    1,118,158,870      3,339,729    334,805,269  \n",
       "2      894,416,853        635,857  1,406,631,776  \n",
       "3      271,490,188      4,139,547     65,584,518  \n",
       "4       63,776,166        296,146    215,353,593  \n",
       "5      122,332,384      1,458,359     83,883,596  \n",
       "..             ...            ...            ...  \n",
       "226            NaN            NaN          1,622  \n",
       "227            NaN            NaN            799  \n",
       "228            NaN            NaN         12,066  \n",
       "229            NaN            NaN        626,161  \n",
       "230            NaN            NaN            NaN  \n",
       "\n",
       "[230 rows x 12 columns]"
      ]
     },
     "execution_count": 57,
     "metadata": {},
     "output_type": "execute_result"
    }
   ],
   "source": [
    "#PRINTING THE DATA\n",
    "data"
   ]
  },
  {
   "cell_type": "code",
   "execution_count": 58,
   "metadata": {},
   "outputs": [
    {
     "data": {
      "text/html": [
       "<div>\n",
       "<style scoped>\n",
       "    .dataframe tbody tr th:only-of-type {\n",
       "        vertical-align: middle;\n",
       "    }\n",
       "\n",
       "    .dataframe tbody tr th {\n",
       "        vertical-align: top;\n",
       "    }\n",
       "\n",
       "    .dataframe thead th {\n",
       "        text-align: right;\n",
       "    }\n",
       "</style>\n",
       "<table border=\"1\" class=\"dataframe\">\n",
       "  <thead>\n",
       "    <tr style=\"text-align: right;\">\n",
       "      <th></th>\n",
       "      <th>Country,\\nOther</th>\n",
       "      <th>Total\\nCases</th>\n",
       "      <th>Total\\nDeaths</th>\n",
       "      <th>New\\nDeaths</th>\n",
       "      <th>Total\\nRecovered</th>\n",
       "      <th>Active\\nCases</th>\n",
       "      <th>Serious,\\nCritical</th>\n",
       "      <th>Tot Cases/\\n1M pop</th>\n",
       "      <th>Deaths/\\n1M pop</th>\n",
       "      <th>Total\\nTests</th>\n",
       "      <th>Tests/\\n1M pop</th>\n",
       "      <th>Population</th>\n",
       "    </tr>\n",
       "    <tr>\n",
       "      <th>#</th>\n",
       "      <th></th>\n",
       "      <th></th>\n",
       "      <th></th>\n",
       "      <th></th>\n",
       "      <th></th>\n",
       "      <th></th>\n",
       "      <th></th>\n",
       "      <th></th>\n",
       "      <th></th>\n",
       "      <th></th>\n",
       "      <th></th>\n",
       "      <th></th>\n",
       "    </tr>\n",
       "  </thead>\n",
       "  <tbody>\n",
       "    <tr>\n",
       "      <th>1</th>\n",
       "      <td>USA</td>\n",
       "      <td>98,166,904</td>\n",
       "      <td>1,084,282</td>\n",
       "      <td>NaN</td>\n",
       "      <td>94,962,112</td>\n",
       "      <td>2,120,510</td>\n",
       "      <td>2,970</td>\n",
       "      <td>293,206</td>\n",
       "      <td>3,239</td>\n",
       "      <td>1,118,158,870</td>\n",
       "      <td>3,339,729</td>\n",
       "      <td>334,805,269</td>\n",
       "    </tr>\n",
       "    <tr>\n",
       "      <th>2</th>\n",
       "      <td>India</td>\n",
       "      <td>44,587,307</td>\n",
       "      <td>528,629</td>\n",
       "      <td>NaN</td>\n",
       "      <td>44,019,095</td>\n",
       "      <td>39,583</td>\n",
       "      <td>698</td>\n",
       "      <td>31,698</td>\n",
       "      <td>376</td>\n",
       "      <td>894,416,853</td>\n",
       "      <td>635,857</td>\n",
       "      <td>1,406,631,776</td>\n",
       "    </tr>\n",
       "    <tr>\n",
       "      <th>3</th>\n",
       "      <td>France</td>\n",
       "      <td>35,342,950</td>\n",
       "      <td>155,078</td>\n",
       "      <td>NaN</td>\n",
       "      <td>34,527,115</td>\n",
       "      <td>660,757</td>\n",
       "      <td>869</td>\n",
       "      <td>538,892</td>\n",
       "      <td>2,365</td>\n",
       "      <td>271,490,188</td>\n",
       "      <td>4,139,547</td>\n",
       "      <td>65,584,518</td>\n",
       "    </tr>\n",
       "    <tr>\n",
       "      <th>4</th>\n",
       "      <td>Brazil</td>\n",
       "      <td>34,706,757</td>\n",
       "      <td>686,027</td>\n",
       "      <td>NaN</td>\n",
       "      <td>33,838,636</td>\n",
       "      <td>182,094</td>\n",
       "      <td>8,318</td>\n",
       "      <td>161,162</td>\n",
       "      <td>3,186</td>\n",
       "      <td>63,776,166</td>\n",
       "      <td>296,146</td>\n",
       "      <td>215,353,593</td>\n",
       "    </tr>\n",
       "    <tr>\n",
       "      <th>5</th>\n",
       "      <td>Germany</td>\n",
       "      <td>33,312,373</td>\n",
       "      <td>149,948</td>\n",
       "      <td>NaN</td>\n",
       "      <td>32,315,200</td>\n",
       "      <td>847,225</td>\n",
       "      <td>1,406</td>\n",
       "      <td>397,126</td>\n",
       "      <td>1,788</td>\n",
       "      <td>122,332,384</td>\n",
       "      <td>1,458,359</td>\n",
       "      <td>83,883,596</td>\n",
       "    </tr>\n",
       "  </tbody>\n",
       "</table>\n",
       "</div>"
      ],
      "text/plain": [
       "  Country,\\nOther Total\\nCases Total\\nDeaths  New\\nDeaths Total\\nRecovered  \\\n",
       "#                                                                            \n",
       "1             USA   98,166,904     1,084,282          NaN       94,962,112   \n",
       "2           India   44,587,307       528,629          NaN       44,019,095   \n",
       "3          France   35,342,950       155,078          NaN       34,527,115   \n",
       "4          Brazil   34,706,757       686,027          NaN       33,838,636   \n",
       "5         Germany   33,312,373       149,948          NaN       32,315,200   \n",
       "\n",
       "  Active\\nCases Serious,\\nCritical Tot Cases/\\n1M pop Deaths/\\n1M pop  \\\n",
       "#                                                                       \n",
       "1     2,120,510              2,970            293,206           3,239   \n",
       "2        39,583                698             31,698             376   \n",
       "3       660,757                869            538,892           2,365   \n",
       "4       182,094              8,318            161,162           3,186   \n",
       "5       847,225              1,406            397,126           1,788   \n",
       "\n",
       "    Total\\nTests Tests/\\n1M pop     Population  \n",
       "#                                               \n",
       "1  1,118,158,870      3,339,729    334,805,269  \n",
       "2    894,416,853        635,857  1,406,631,776  \n",
       "3    271,490,188      4,139,547     65,584,518  \n",
       "4     63,776,166        296,146    215,353,593  \n",
       "5    122,332,384      1,458,359     83,883,596  "
      ]
     },
     "execution_count": 58,
     "metadata": {},
     "output_type": "execute_result"
    }
   ],
   "source": [
    "#PRINTING THE TOP 5 COLUMNS\n",
    "data.head()"
   ]
  },
  {
   "cell_type": "code",
   "execution_count": 59,
   "metadata": {},
   "outputs": [
    {
     "data": {
      "text/plain": [
       "(230, 12)"
      ]
     },
     "execution_count": 59,
     "metadata": {},
     "output_type": "execute_result"
    }
   ],
   "source": [
    "#shape() method is used to fetch the dimensions of Pandas and NumPy type objects in python. \n",
    "data.shape"
   ]
  },
  {
   "cell_type": "code",
   "execution_count": 60,
   "metadata": {},
   "outputs": [
    {
     "data": {
      "text/html": [
       "<div>\n",
       "<style scoped>\n",
       "    .dataframe tbody tr th:only-of-type {\n",
       "        vertical-align: middle;\n",
       "    }\n",
       "\n",
       "    .dataframe tbody tr th {\n",
       "        vertical-align: top;\n",
       "    }\n",
       "\n",
       "    .dataframe thead th {\n",
       "        text-align: right;\n",
       "    }\n",
       "</style>\n",
       "<table border=\"1\" class=\"dataframe\">\n",
       "  <thead>\n",
       "    <tr style=\"text-align: right;\">\n",
       "      <th></th>\n",
       "      <th>Country</th>\n",
       "      <th>Total_Cases</th>\n",
       "      <th>Total_Deaths</th>\n",
       "      <th>New_Death</th>\n",
       "      <th>Total_Recovered</th>\n",
       "      <th>Active_Cases</th>\n",
       "      <th>Serious_Cases</th>\n",
       "      <th>Total_Cases_in_M</th>\n",
       "      <th>Deaths_in_M</th>\n",
       "      <th>Total_Tests</th>\n",
       "      <th>Test_in_M</th>\n",
       "      <th>Population</th>\n",
       "    </tr>\n",
       "    <tr>\n",
       "      <th>#</th>\n",
       "      <th></th>\n",
       "      <th></th>\n",
       "      <th></th>\n",
       "      <th></th>\n",
       "      <th></th>\n",
       "      <th></th>\n",
       "      <th></th>\n",
       "      <th></th>\n",
       "      <th></th>\n",
       "      <th></th>\n",
       "      <th></th>\n",
       "      <th></th>\n",
       "    </tr>\n",
       "  </thead>\n",
       "  <tbody>\n",
       "    <tr>\n",
       "      <th>1</th>\n",
       "      <td>USA</td>\n",
       "      <td>98,166,904</td>\n",
       "      <td>1,084,282</td>\n",
       "      <td>NaN</td>\n",
       "      <td>94,962,112</td>\n",
       "      <td>2,120,510</td>\n",
       "      <td>2,970</td>\n",
       "      <td>293,206</td>\n",
       "      <td>3,239</td>\n",
       "      <td>1,118,158,870</td>\n",
       "      <td>3,339,729</td>\n",
       "      <td>334,805,269</td>\n",
       "    </tr>\n",
       "    <tr>\n",
       "      <th>2</th>\n",
       "      <td>India</td>\n",
       "      <td>44,587,307</td>\n",
       "      <td>528,629</td>\n",
       "      <td>NaN</td>\n",
       "      <td>44,019,095</td>\n",
       "      <td>39,583</td>\n",
       "      <td>698</td>\n",
       "      <td>31,698</td>\n",
       "      <td>376</td>\n",
       "      <td>894,416,853</td>\n",
       "      <td>635,857</td>\n",
       "      <td>1,406,631,776</td>\n",
       "    </tr>\n",
       "    <tr>\n",
       "      <th>3</th>\n",
       "      <td>France</td>\n",
       "      <td>35,342,950</td>\n",
       "      <td>155,078</td>\n",
       "      <td>NaN</td>\n",
       "      <td>34,527,115</td>\n",
       "      <td>660,757</td>\n",
       "      <td>869</td>\n",
       "      <td>538,892</td>\n",
       "      <td>2,365</td>\n",
       "      <td>271,490,188</td>\n",
       "      <td>4,139,547</td>\n",
       "      <td>65,584,518</td>\n",
       "    </tr>\n",
       "    <tr>\n",
       "      <th>4</th>\n",
       "      <td>Brazil</td>\n",
       "      <td>34,706,757</td>\n",
       "      <td>686,027</td>\n",
       "      <td>NaN</td>\n",
       "      <td>33,838,636</td>\n",
       "      <td>182,094</td>\n",
       "      <td>8,318</td>\n",
       "      <td>161,162</td>\n",
       "      <td>3,186</td>\n",
       "      <td>63,776,166</td>\n",
       "      <td>296,146</td>\n",
       "      <td>215,353,593</td>\n",
       "    </tr>\n",
       "    <tr>\n",
       "      <th>5</th>\n",
       "      <td>Germany</td>\n",
       "      <td>33,312,373</td>\n",
       "      <td>149,948</td>\n",
       "      <td>NaN</td>\n",
       "      <td>32,315,200</td>\n",
       "      <td>847,225</td>\n",
       "      <td>1,406</td>\n",
       "      <td>397,126</td>\n",
       "      <td>1,788</td>\n",
       "      <td>122,332,384</td>\n",
       "      <td>1,458,359</td>\n",
       "      <td>83,883,596</td>\n",
       "    </tr>\n",
       "  </tbody>\n",
       "</table>\n",
       "</div>"
      ],
      "text/plain": [
       "   Country Total_Cases Total_Deaths  New_Death Total_Recovered Active_Cases  \\\n",
       "#                                                                             \n",
       "1      USA  98,166,904    1,084,282        NaN      94,962,112    2,120,510   \n",
       "2    India  44,587,307      528,629        NaN      44,019,095       39,583   \n",
       "3   France  35,342,950      155,078        NaN      34,527,115      660,757   \n",
       "4   Brazil  34,706,757      686,027        NaN      33,838,636      182,094   \n",
       "5  Germany  33,312,373      149,948        NaN      32,315,200      847,225   \n",
       "\n",
       "  Serious_Cases Total_Cases_in_M Deaths_in_M    Total_Tests  Test_in_M  \\\n",
       "#                                                                        \n",
       "1         2,970          293,206       3,239  1,118,158,870  3,339,729   \n",
       "2           698           31,698         376    894,416,853    635,857   \n",
       "3           869          538,892       2,365    271,490,188  4,139,547   \n",
       "4         8,318          161,162       3,186     63,776,166    296,146   \n",
       "5         1,406          397,126       1,788    122,332,384  1,458,359   \n",
       "\n",
       "      Population  \n",
       "#                 \n",
       "1    334,805,269  \n",
       "2  1,406,631,776  \n",
       "3     65,584,518  \n",
       "4    215,353,593  \n",
       "5     83,883,596  "
      ]
     },
     "execution_count": 60,
     "metadata": {},
     "output_type": "execute_result"
    }
   ],
   "source": [
    "#lets give simple names for columns\n",
    "data.columns = [\"Country\",\"Total_Cases\",\"Total_Deaths\",\"New_Death\",\"Total_Recovered\",\"Active_Cases\",\"Serious_Cases\",\n",
    "               \"Total_Cases_in_M\",\"Deaths_in_M\",\"Total_Tests\",\"Test_in_M\",\"Population\"]\n",
    "data.head()"
   ]
  },
  {
   "cell_type": "code",
   "execution_count": 61,
   "metadata": {},
   "outputs": [
    {
     "name": "stdout",
     "output_type": "stream",
     "text": [
      "<class 'pandas.core.frame.DataFrame'>\n",
      "Int64Index: 230 entries, 1 to 230\n",
      "Data columns (total 12 columns):\n",
      " #   Column            Non-Null Count  Dtype  \n",
      "---  ------            --------------  -----  \n",
      " 0   Country           230 non-null    object \n",
      " 1   Total_Cases       230 non-null    object \n",
      " 2   Total_Deaths      225 non-null    object \n",
      " 3   New_Death         3 non-null      float64\n",
      " 4   Total_Recovered   214 non-null    object \n",
      " 5   Active_Cases      215 non-null    object \n",
      " 6   Serious_Cases     147 non-null    object \n",
      " 7   Total_Cases_in_M  228 non-null    object \n",
      " 8   Deaths_in_M       223 non-null    object \n",
      " 9   Total_Tests       214 non-null    object \n",
      " 10  Test_in_M         214 non-null    object \n",
      " 11  Population        228 non-null    object \n",
      "dtypes: float64(1), object(11)\n",
      "memory usage: 23.4+ KB\n"
     ]
    }
   ],
   "source": [
    "#info() function is used to get a concise summary of the dataframe.\n",
    "data.info()"
   ]
  },
  {
   "cell_type": "code",
   "execution_count": 62,
   "metadata": {},
   "outputs": [
    {
     "data": {
      "text/html": [
       "<div>\n",
       "<style scoped>\n",
       "    .dataframe tbody tr th:only-of-type {\n",
       "        vertical-align: middle;\n",
       "    }\n",
       "\n",
       "    .dataframe tbody tr th {\n",
       "        vertical-align: top;\n",
       "    }\n",
       "\n",
       "    .dataframe thead th {\n",
       "        text-align: right;\n",
       "    }\n",
       "</style>\n",
       "<table border=\"1\" class=\"dataframe\">\n",
       "  <thead>\n",
       "    <tr style=\"text-align: right;\">\n",
       "      <th></th>\n",
       "      <th>Country</th>\n",
       "      <th>Total_Cases</th>\n",
       "      <th>Total_Deaths</th>\n",
       "      <th>New_Death</th>\n",
       "      <th>Total_Recovered</th>\n",
       "      <th>Active_Cases</th>\n",
       "      <th>Serious_Cases</th>\n",
       "      <th>Total_Cases_in_M</th>\n",
       "      <th>Deaths_in_M</th>\n",
       "      <th>Total_Tests</th>\n",
       "      <th>Test_in_M</th>\n",
       "      <th>Population</th>\n",
       "    </tr>\n",
       "  </thead>\n",
       "  <tbody>\n",
       "    <tr>\n",
       "      <th>count</th>\n",
       "      <td>230</td>\n",
       "      <td>230</td>\n",
       "      <td>225</td>\n",
       "      <td>3.0</td>\n",
       "      <td>214</td>\n",
       "      <td>215</td>\n",
       "      <td>147</td>\n",
       "      <td>228</td>\n",
       "      <td>223</td>\n",
       "      <td>214</td>\n",
       "      <td>214</td>\n",
       "      <td>228</td>\n",
       "    </tr>\n",
       "    <tr>\n",
       "      <th>unique</th>\n",
       "      <td>230</td>\n",
       "      <td>230</td>\n",
       "      <td>210</td>\n",
       "      <td>NaN</td>\n",
       "      <td>214</td>\n",
       "      <td>196</td>\n",
       "      <td>77</td>\n",
       "      <td>228</td>\n",
       "      <td>205</td>\n",
       "      <td>213</td>\n",
       "      <td>214</td>\n",
       "      <td>228</td>\n",
       "    </tr>\n",
       "    <tr>\n",
       "      <th>top</th>\n",
       "      <td>Mauritius</td>\n",
       "      <td>27,638</td>\n",
       "      <td>1</td>\n",
       "      <td>NaN</td>\n",
       "      <td>54,078</td>\n",
       "      <td>0</td>\n",
       "      <td>1</td>\n",
       "      <td>502,506</td>\n",
       "      <td>101</td>\n",
       "      <td>78,646</td>\n",
       "      <td>203,391</td>\n",
       "      <td>117,489</td>\n",
       "    </tr>\n",
       "    <tr>\n",
       "      <th>freq</th>\n",
       "      <td>1</td>\n",
       "      <td>1</td>\n",
       "      <td>4</td>\n",
       "      <td>NaN</td>\n",
       "      <td>1</td>\n",
       "      <td>8</td>\n",
       "      <td>11</td>\n",
       "      <td>1</td>\n",
       "      <td>3</td>\n",
       "      <td>2</td>\n",
       "      <td>1</td>\n",
       "      <td>1</td>\n",
       "    </tr>\n",
       "    <tr>\n",
       "      <th>mean</th>\n",
       "      <td>NaN</td>\n",
       "      <td>NaN</td>\n",
       "      <td>NaN</td>\n",
       "      <td>18.0</td>\n",
       "      <td>NaN</td>\n",
       "      <td>NaN</td>\n",
       "      <td>NaN</td>\n",
       "      <td>NaN</td>\n",
       "      <td>NaN</td>\n",
       "      <td>NaN</td>\n",
       "      <td>NaN</td>\n",
       "      <td>NaN</td>\n",
       "    </tr>\n",
       "    <tr>\n",
       "      <th>std</th>\n",
       "      <td>NaN</td>\n",
       "      <td>NaN</td>\n",
       "      <td>NaN</td>\n",
       "      <td>21.0</td>\n",
       "      <td>NaN</td>\n",
       "      <td>NaN</td>\n",
       "      <td>NaN</td>\n",
       "      <td>NaN</td>\n",
       "      <td>NaN</td>\n",
       "      <td>NaN</td>\n",
       "      <td>NaN</td>\n",
       "      <td>NaN</td>\n",
       "    </tr>\n",
       "    <tr>\n",
       "      <th>min</th>\n",
       "      <td>NaN</td>\n",
       "      <td>NaN</td>\n",
       "      <td>NaN</td>\n",
       "      <td>3.0</td>\n",
       "      <td>NaN</td>\n",
       "      <td>NaN</td>\n",
       "      <td>NaN</td>\n",
       "      <td>NaN</td>\n",
       "      <td>NaN</td>\n",
       "      <td>NaN</td>\n",
       "      <td>NaN</td>\n",
       "      <td>NaN</td>\n",
       "    </tr>\n",
       "    <tr>\n",
       "      <th>25%</th>\n",
       "      <td>NaN</td>\n",
       "      <td>NaN</td>\n",
       "      <td>NaN</td>\n",
       "      <td>6.0</td>\n",
       "      <td>NaN</td>\n",
       "      <td>NaN</td>\n",
       "      <td>NaN</td>\n",
       "      <td>NaN</td>\n",
       "      <td>NaN</td>\n",
       "      <td>NaN</td>\n",
       "      <td>NaN</td>\n",
       "      <td>NaN</td>\n",
       "    </tr>\n",
       "    <tr>\n",
       "      <th>50%</th>\n",
       "      <td>NaN</td>\n",
       "      <td>NaN</td>\n",
       "      <td>NaN</td>\n",
       "      <td>9.0</td>\n",
       "      <td>NaN</td>\n",
       "      <td>NaN</td>\n",
       "      <td>NaN</td>\n",
       "      <td>NaN</td>\n",
       "      <td>NaN</td>\n",
       "      <td>NaN</td>\n",
       "      <td>NaN</td>\n",
       "      <td>NaN</td>\n",
       "    </tr>\n",
       "    <tr>\n",
       "      <th>75%</th>\n",
       "      <td>NaN</td>\n",
       "      <td>NaN</td>\n",
       "      <td>NaN</td>\n",
       "      <td>25.5</td>\n",
       "      <td>NaN</td>\n",
       "      <td>NaN</td>\n",
       "      <td>NaN</td>\n",
       "      <td>NaN</td>\n",
       "      <td>NaN</td>\n",
       "      <td>NaN</td>\n",
       "      <td>NaN</td>\n",
       "      <td>NaN</td>\n",
       "    </tr>\n",
       "    <tr>\n",
       "      <th>max</th>\n",
       "      <td>NaN</td>\n",
       "      <td>NaN</td>\n",
       "      <td>NaN</td>\n",
       "      <td>42.0</td>\n",
       "      <td>NaN</td>\n",
       "      <td>NaN</td>\n",
       "      <td>NaN</td>\n",
       "      <td>NaN</td>\n",
       "      <td>NaN</td>\n",
       "      <td>NaN</td>\n",
       "      <td>NaN</td>\n",
       "      <td>NaN</td>\n",
       "    </tr>\n",
       "  </tbody>\n",
       "</table>\n",
       "</div>"
      ],
      "text/plain": [
       "          Country Total_Cases Total_Deaths  New_Death Total_Recovered  \\\n",
       "count         230         230          225        3.0             214   \n",
       "unique        230         230          210        NaN             214   \n",
       "top     Mauritius      27,638            1        NaN          54,078   \n",
       "freq            1           1            4        NaN               1   \n",
       "mean          NaN         NaN          NaN       18.0             NaN   \n",
       "std           NaN         NaN          NaN       21.0             NaN   \n",
       "min           NaN         NaN          NaN        3.0             NaN   \n",
       "25%           NaN         NaN          NaN        6.0             NaN   \n",
       "50%           NaN         NaN          NaN        9.0             NaN   \n",
       "75%           NaN         NaN          NaN       25.5             NaN   \n",
       "max           NaN         NaN          NaN       42.0             NaN   \n",
       "\n",
       "       Active_Cases Serious_Cases Total_Cases_in_M Deaths_in_M Total_Tests  \\\n",
       "count           215           147              228         223         214   \n",
       "unique          196            77              228         205         213   \n",
       "top               0             1          502,506         101      78,646   \n",
       "freq              8            11                1           3           2   \n",
       "mean            NaN           NaN              NaN         NaN         NaN   \n",
       "std             NaN           NaN              NaN         NaN         NaN   \n",
       "min             NaN           NaN              NaN         NaN         NaN   \n",
       "25%             NaN           NaN              NaN         NaN         NaN   \n",
       "50%             NaN           NaN              NaN         NaN         NaN   \n",
       "75%             NaN           NaN              NaN         NaN         NaN   \n",
       "max             NaN           NaN              NaN         NaN         NaN   \n",
       "\n",
       "       Test_in_M Population  \n",
       "count        214        228  \n",
       "unique       214        228  \n",
       "top      203,391    117,489  \n",
       "freq           1          1  \n",
       "mean         NaN        NaN  \n",
       "std          NaN        NaN  \n",
       "min          NaN        NaN  \n",
       "25%          NaN        NaN  \n",
       "50%          NaN        NaN  \n",
       "75%          NaN        NaN  \n",
       "max          NaN        NaN  "
      ]
     },
     "execution_count": 62,
     "metadata": {},
     "output_type": "execute_result"
    }
   ],
   "source": [
    "#describe()-It returns description of the data in the DataFrame\n",
    "data.describe(include=\"all\")#By default It return numeric value description"
   ]
  },
  {
   "cell_type": "code",
   "execution_count": 63,
   "metadata": {},
   "outputs": [
    {
     "name": "stdout",
     "output_type": "stream",
     "text": [
      "{'Country': array(['USA', 'India', 'France', 'Brazil', 'Germany', 'S. Korea', 'UK',\n",
      "       'Italy', 'Japan', 'Russia', 'Turkey', 'Spain', 'Vietnam',\n",
      "       'Australia', 'Argentina', 'Netherlands', 'Iran', 'Mexico',\n",
      "       'Indonesia', 'Taiwan', 'Colombia', 'Poland', 'Portugal', 'Ukraine',\n",
      "       'Austria', 'Greece', 'Malaysia', 'DPRK', 'Thailand', 'Israel',\n",
      "       'Chile', 'Belgium', 'Canada', 'Peru', 'Czechia', 'Switzerland',\n",
      "       'South Africa', 'Philippines', 'Romania', 'Denmark', 'Sweden',\n",
      "       'Iraq', 'Serbia', 'Hungary', 'Bangladesh', 'Singapore', 'Slovakia',\n",
      "       'Georgia', 'New Zealand', 'Hong Kong', 'Jordan', 'Ireland',\n",
      "       'Pakistan', 'Norway', 'Kazakhstan', 'Finland', 'Morocco',\n",
      "       'Bulgaria', 'Lithuania', 'Croatia', 'Lebanon', 'Slovenia',\n",
      "       'Tunisia', 'Guatemala', 'Cuba', 'Bolivia', 'Costa Rica', 'UAE',\n",
      "       'Ecuador', 'Nepal', 'Belarus', 'Panama', 'Uruguay', 'Mongolia',\n",
      "       'Latvia', 'Azerbaijan', 'Saudi Arabia', 'Paraguay', 'Bahrain',\n",
      "       'Sri Lanka', 'Kuwait', 'Dominican Republic', 'Myanmar',\n",
      "       'Palestine', 'Estonia', 'Moldova', 'Cyprus', 'Venezuela', 'Egypt',\n",
      "       'Libya', 'Ethiopia', 'Réunion', 'Honduras', 'Qatar', 'Armenia',\n",
      "       'Bosnia and Herzegovina', 'Oman', 'North Macedonia', 'Kenya',\n",
      "       'Zambia', 'Albania', 'Botswana', 'Luxembourg', 'Montenegro',\n",
      "       'Algeria', 'Nigeria', 'Zimbabwe', 'China', 'Uzbekistan',\n",
      "       'Mozambique', 'Brunei', 'Martinique', 'Laos', 'Kyrgyzstan',\n",
      "       'Iceland', 'El Salvador', 'Afghanistan', 'Guadeloupe', 'Maldives',\n",
      "       'Trinidad and Tobago', 'Uganda', 'Namibia', 'Ghana', 'Jamaica',\n",
      "       'Cambodia', 'Rwanda', 'Cameroon', 'Malta', 'Angola', 'Barbados',\n",
      "       'French Guiana', 'DRC', 'Channel Islands', 'Senegal', 'Malawi',\n",
      "       'Ivory Coast', 'Suriname', 'French Polynesia', 'New Caledonia',\n",
      "       'Eswatini', 'Guyana', 'Belize', 'Fiji', 'Madagascar', 'Sudan',\n",
      "       'Mauritania', 'Cabo Verde', 'Bhutan', 'Syria', 'Burundi', 'Gabon',\n",
      "       'Seychelles', 'Andorra', 'Curaçao', 'Papua New Guinea', 'Aruba',\n",
      "       'Mauritius', 'Mayotte', 'Tanzania', 'Togo', 'Isle of Man',\n",
      "       'Guinea', 'Bahamas', 'Faeroe Islands', 'Lesotho', 'Haiti', 'Mali',\n",
      "       'Cayman Islands', 'Saint Lucia', 'Benin', 'Somalia', 'Congo',\n",
      "       'Timor-Leste', 'Burkina Faso', 'Solomon Islands', 'San Marino',\n",
      "       'Gibraltar', 'Liechtenstein', 'Grenada', 'Nicaragua', 'Bermuda',\n",
      "       'South Sudan', 'Tajikistan', 'Equatorial Guinea', 'Tonga', 'Samoa',\n",
      "       'Dominica', 'Djibouti', 'Marshall Islands', 'CAR', 'Monaco',\n",
      "       'Gambia', 'Saint Martin', 'Greenland', 'Yemen', 'Vanuatu',\n",
      "       'Caribbean Netherlands', 'Sint Maarten', 'Eritrea', 'Niger',\n",
      "       'Micronesia', 'Antigua and Barbuda', 'Guinea-Bissau', 'Comoros',\n",
      "       'Liberia', 'Sierra Leone', 'Chad', 'British Virgin Islands',\n",
      "       'St. Vincent Grenadines', 'Saint Kitts and Nevis', 'Cook Islands',\n",
      "       'Turks and Caicos', 'Sao Tome and Principe', 'Palau', 'St. Barth',\n",
      "       'Nauru', 'Anguilla', 'Kiribati', 'Saint Pierre Miquelon',\n",
      "       'Falkland Islands', 'Montserrat', 'Saint Helena', 'Macao',\n",
      "       'Wallis and Futuna', 'Diamond Princess', 'Niue', 'Vatican City',\n",
      "       'Tuvalu', 'Western Sahara', 'MS Zaandam'], dtype=object)}\n",
      "{'Total_Cases': array(['98,166,904', '44,587,307', '35,342,950', '34,706,757',\n",
      "       '33,312,373', '24,769,101', '23,621,952', '22,432,803',\n",
      "       '21,229,216', '20,948,470', '16,873,793', '13,412,263',\n",
      "       '11,477,886', '10,209,239', '9,708,420', '8,422,336', '7,548,320',\n",
      "       '7,084,488', '6,429,767', '6,417,941', '6,307,372', '6,289,672',\n",
      "       '5,490,639', '5,177,217', '5,118,512', '4,920,192', '4,838,872',\n",
      "       '4,772,813', '4,681,309', '4,661,096', '4,620,377', '4,533,249',\n",
      "       '4,233,468', '4,143,085', '4,100,480', '4,084,307', '4,018,769',\n",
      "       '3,945,566', '3,267,370', '3,110,831', '2,588,441', '2,459,982',\n",
      "       '2,359,530', '2,094,142', '2,024,489', '1,904,192', '1,843,220',\n",
      "       '1,780,691', '1,779,476', '1,761,381', '1,746,997', '1,663,653',\n",
      "       '1,572,598', '1,462,318', '1,393,468', '1,292,940', '1,264,935',\n",
      "       '1,258,670', '1,249,134', '1,231,575', '1,215,511', '1,181,073',\n",
      "       '1,145,686', '1,123,465', '1,111,179', '1,108,195', '1,072,807',\n",
      "       '1,027,031', '1,003,778', '999,712', '994,037', '986,866',\n",
      "       '985,422', '982,864', '929,051', '821,162', '816,389', '716,059',\n",
      "       '680,271', '670,763', '658,520', '644,016', '622,802', '620,548',\n",
      "       '601,869', '589,388', '585,313', '544,687', '515,645', '506,991',\n",
      "       '493,563', '472,336', '456,391', '450,448', '442,875', '398,668',\n",
      "       '397,993', '342,775', '338,420', '333,531', '332,173', '326,308',\n",
      "       '288,658', '280,002', '270,668', '265,382', '257,409', '250,449',\n",
      "       '244,199', '230,219', '226,237', '221,618', '215,843', '206,083',\n",
      "       '205,637', '201,785', '199,067', '192,801', '185,042', '182,597',\n",
      "       '169,396', '169,253', '169,100', '151,829', '137,870', '132,498',\n",
      "       '121,652', '114,652', '103,131', '102,546', '93,974', '92,852',\n",
      "       '91,561', '88,373', '88,024', '87,208', '81,106', '76,599',\n",
      "       '74,152', '73,390', '71,336', '68,826', '68,242', '66,676',\n",
      "       '63,285', '62,812', '62,371', '61,730', '57,299', '50,129',\n",
      "       '48,691', '47,141', '46,227', '45,127', '44,997', '42,914',\n",
      "       '40,461', '40,243', '39,440', '39,034', '38,008', '37,652',\n",
      "       '37,267', '34,658', '34,490', '33,733', '32,625', '30,661',\n",
      "       '29,408', '27,638', '27,214', '24,837', '23,253', '21,631',\n",
      "       '21,544', '20,763', '20,092', '19,713', '19,536', '18,491',\n",
      "       '18,154', '17,823', '17,786', '17,012', '16,182', '15,925',\n",
      "       '15,747', '15,690', '15,275', '14,913', '14,608', '12,508',\n",
      "       '11,978', '11,971', '11,935', '11,930', '11,235', '10,863',\n",
      "       '10,169', '9,931', '9,759', '9,098', '8,796', '8,471', '7,961',\n",
      "       '7,751', '7,583', '7,305', '7,112', '6,541', '6,389', '6,380',\n",
      "       '6,230', '5,460', '5,285', '4,611', '3,865', '3,430', '3,188',\n",
      "       '1,886', '1,396', '1,355', '793', '761', '712', '80', '29', '20',\n",
      "       '10', '9'], dtype=object)}\n",
      "{'Total_Deaths': array(['1,084,282', '528,629', '155,078', '686,027', '149,948', '28,406',\n",
      "       '189,919', '177,054', '44,678', '387,163', '101,139', '114,084',\n",
      "       '43,148', '14,984', '129,897', '22,643', '144,421', '330,065',\n",
      "       '158,093', '11,003', '141,794', '117,539', '25,024', '109,206',\n",
      "       '20,738', '33,111', '36,369', '74', '32,767', '11,698', '61,141',\n",
      "       '32,659', '44,992', '216,539', '41,059', '14,183', '102,185',\n",
      "       '62,916', '67,016', '7,065', '20,194', '25,355', '17,000',\n",
      "       '47,503', '29,362', '1,617', '20,455', '16,900', '2,959', '10,153',\n",
      "       '14,122', '7,905', '30,616', '4,098', '13,690', '5,981', '16,278',\n",
      "       '37,714', '9,320', '16,902', '10,674', '6,820', '29,249', '19,789',\n",
      "       '8,530', '22,234', '8,913', '2,345', '35,894', '12,018', '7,118',\n",
      "       '8,497', '7,485', '2,179', '5,990', '9,910', '9,351', '19,583',\n",
      "       '1,520', '16,761', '2,563', '4,384', '19,458', '5,403', '2,681',\n",
      "       '11,844', '1,180', '5,814', '24,613', '6,437', '7,572', '893',\n",
      "       '10,993', '682', '8,683', '16,136', '4,260', '9,534', '5,678',\n",
      "       '4,017', '3,588', '2,789', '1,123', '2,781', '6,879', '3,155',\n",
      "       '5,602', '5,226', '1,637', '2,221', '225', '1,044', '758', '2,991',\n",
      "       '213', '4,229', '7,799', '989', '308', '4,195', '3,628', '4,065',\n",
      "       '1,459', '3,317', '3,056', '1,466', '1,935', '806', '1,917', '559',\n",
      "       '410', '1,442', '202', '1,968', '2,682', '826', '1,385', '649',\n",
      "       '314', '1,422', '1,281', '683', '878', '1,410', '4,961', '995',\n",
      "       '21', '3,163', '38', '306', '169', '155', '282', '668', '227',\n",
      "       '1,024', '187', '845', '285', '116', '449', '833', '28', '706',\n",
      "       '857', '742', '32', '391', '163', '1,352', '386', '138', '387',\n",
      "       '153', '118', '108', '86', '237', '148', '125', '183', '12', '29',\n",
      "       '189', '17', '113', '63', '372', '2,157', '14', '36', '87', '103',\n",
      "       '312', '146', '175', '161', '294', '126', '193', '64', '115', '46',\n",
      "       '1', '77', '6', '13', nan, '8', '7', '2'], dtype=object)}\n",
      "{'New_Death': array([nan, 42.,  9.,  3.])}\n",
      "{'Total_Recovered': array(['94,962,112', '44,019,095', '34,527,115', '33,838,636',\n",
      "       '32,315,200', '24,013,461', '23,347,871', '21,779,604',\n",
      "       '20,380,089', '19,979,763', '16,754,301', '13,218,892',\n",
      "       '10,590,917', '10,133,494', '9,563,348', '8,362,464', '7,325,370',\n",
      "       '6,353,953', '6,253,317', '5,603,195', '6,134,690', '5,335,940',\n",
      "       '5,394,788', '4,973,554', '5,006,572', '4,836,903', '4,777,329',\n",
      "       '4,772,739', '4,642,083', '4,641,394', '4,540,886', '4,451,569',\n",
      "       '4,131,367', '3,914,598', '4,035,333', '4,012,833', '3,909,265',\n",
      "       '3,854,478', '3,180,124', '3,093,396', '2,548,125', '2,433,704',\n",
      "       '2,298,536', '2,014,175', '1,964,501', '1,821,160', '1,817,938',\n",
      "       '1,637,293', '1,767,660', '1,469,240', '1,731,007', '1,648,405',\n",
      "       '1,536,924', '1,457,108', '1,378,440', '1,263,711', '1,248,543',\n",
      "       '1,211,397', '1,216,151', '1,209,524', '1,087,587', '1,145,051',\n",
      "       nan, '1,102,988', '1,102,548', '1,051,789', '860,711', '1,006,369',\n",
      "       '964,320', '986,617', '985,592', '976,873', '976,760', '979,439',\n",
      "       '891,237', '810,181', '803,546', '696,110', '675,724', '653,779',\n",
      "       '655,316', '638,911', '597,898', '608,749', '524,990', '504,142',\n",
      "       '578,452', '538,033', '442,182', '500,507', '471,918', '418,572',\n",
      "       '443,418', '430,192', '376,654', '384,669', '332,806', '332,663',\n",
      "       '329,375', '326,729', '322,955', '283,668', '276,154', '182,306',\n",
      "       '258,381', '251,281', '242,254', '241,486', '227,882', '222,140',\n",
      "       '196,406', '179,410', '177,850', '163,687', '174,214', '100,431',\n",
      "       '164,813', '167,307', '99,239', '134,745', '130,955', '118,616',\n",
      "       '113,195', '101,155', '101,760', '11,254', '83,504', '90,639',\n",
      "       '86,297', '84,872', '86,338', '73,823', '71,955', '69,977',\n",
      "       '68,079', '66,302', '65,242', '57,290', '61,789', '61,890',\n",
      "       '61,564', '54,078', '49,559', '48,292', '46,446', '46,011',\n",
      "       '44,720', '43,982', '42,438', '38,786', '38,528', '36,880',\n",
      "       '36,070', '25,980', '31,307', '31,591', '8,553', '28,475',\n",
      "       '27,322', '13,182', '24,006', '23,102', '21,143', '16,357',\n",
      "       '20,524', '16,579', '19,403', '19,248', '4,225', '17,969',\n",
      "       '17,335', '17,264', '16,690', '15,638', '1,605', '15,651',\n",
      "       '15,427', '15,166', '14,520', '14,478', '12,028', '1,399', '2,761',\n",
      "       '9,124', '11,894', '10,476', '10,773', '10,063', '8,890', '157',\n",
      "       '8,923', '8,301', '8,305', '7,636', '4,874', '6,641', '6,482',\n",
      "       '6,384', '6,321', '6,132', '5,444', '4,605', '3,848', '2,703',\n",
      "       '2,449', '1,886', '1,353', '2', '787', '438', '699', '80', '29',\n",
      "       '9', '7'], dtype=object)}\n",
      "{'Active_Cases': array(['2,120,510', '39,583', '660,757', '182,094', '847,225', '727,234',\n",
      "       '84,162', '476,145', '804,449', '581,544', '18,353', '79,287',\n",
      "       '843,821', '60,761', '15,175', '37,229', '78,529', '400,470',\n",
      "       '18,357', '803,743', '30,888', '836,193', '70,827', '94,457',\n",
      "       '91,202', '50,178', '25,174', '0', '6,459', '8,004', '18,350',\n",
      "       '49,021', '57,109', '11,948', '24,088', '57,291', '7,319',\n",
      "       '28,172', '20,230', '10,370', '20,122', '923', '43,994', '32,464',\n",
      "       '30,626', '81,415', '4,827', '126,498', '8,857', '281,988',\n",
      "       '1,868', '7,343', '5,058', '1,112', '1,338', '23,248', '114',\n",
      "       '9,559', '23,663', '5,149', '117,250', '29,202', nan, '688', '101',\n",
      "       '34,172', '203,183', '18,317', '3,564', '1,077', '1,327', '1,496',\n",
      "       '1,177', '1,246', '31,824', '1,071', '3,492', '366', '3,027',\n",
      "       '223', '641', '721', '5,446', '6,396', '74,198', '73,402', '5,681',\n",
      "       '840', '48,850', '47', '14,073', '52,871', '6,348', '4,000',\n",
      "       '5,878', '9,064', '435', '79', '139', '1,856', '564', '3,867',\n",
      "       '1,067', '81,483', '3,846', '526', '2,969', '1,076', '116',\n",
      "       '3,872', '6,686', '18,146', '13,418', '21,047', '4,188', '65,337',\n",
      "       '375', '334', '49,273', '69', '77', '1,101', '651', '59', '227',\n",
      "       '82,310', '7,906', '720', '108', '470', '44', '15', '13', '78',\n",
      "       '64', '1,062', '24', '1,034', '28', '71', '145', '58', '532', '93',\n",
      "       '61', '125', '347', '249', '221', '323', '364', '7,804', '1,569',\n",
      "       '292', '22,076', '542', '153', '12,680', '445', '5,034', '121',\n",
      "       '3,405', '224', '51', '14,041', '37', '350', '397', '14,291', '22',\n",
      "       '74', '92', '280', '67', '10,516', '9,189', '654', '723', '3',\n",
      "       '729', '9,573', '29', '320', '5', '31', '2,516', '356', '4', '23',\n",
      "       '21', '10', '714', '738', '35', '1,353', '316', '20'], dtype=object)}\n",
      "{'Serious_Cases': array(['2,970', '698', '869', '8,318', '1,406', '352', '146', '141',\n",
      "       '204', '2,300', '975', '339', '106', '49', '294', '35', '157',\n",
      "       '4,798', '2,771', nan, '342', '3,086', '61', '177', '47', '115',\n",
      "       '43', '1,496', '101', '124', '48', '99', '147', '39', '54', '192',\n",
      "       '696', '123', '13', '21', '33', '18', '1,331', '9', '22', '8',\n",
      "       '59', '20', '24', '293', '12', '10', '74', '5', '23', '220', '52',\n",
      "       '759', '16', '32', '7', '2', '3', '4', '17', '60', '36', '122',\n",
      "       '1', '105', '6', '11', '131', '1,124', '19', '25', '67', '14'],\n",
      "      dtype=object)}\n",
      "{'Total_Cases_in_M': array(['293,206', '31,698', '538,892', '161,162', '397,126', '482,547',\n",
      "       '344,857', '372,250', '169,043', '143,674', '197,211', '287,083',\n",
      "       '115,993', '391,627', '211,006', '489,345', '87,748', '53,849',\n",
      "       '23,035', '268,661', '122,443', '166,659', '541,453', '119,865',\n",
      "       '564,539', '476,918', '145,832', '183,636', '66,801', '499,796',\n",
      "       '240,017', '388,511', '110,280', '122,998', '381,910', '465,520',\n",
      "       '66,146', '35,069', '171,684', '533,138', '253,298', '58,342',\n",
      "       '272,683', '217,998', '12,059', '320,380', '337,574', '448,679',\n",
      "       '363,292', '231,630', '169,597', '331,392', '6,853', '265,327',\n",
      "       '72,557', '232,754', '33,488', '183,892', '469,298', '303,397',\n",
      "       '181,831', '568,361', '95,104', '60,453', '98,285', '92,406',\n",
      "       '207,012', '101,870', '55,416', '33,075', '105,381', '221,919',\n",
      "       '281,870', '290,954', '502,506', '79,723', '22,776', '98,012',\n",
      "       '381,321', '31,089', '150,336', '58,248', '11,277', '116,087',\n",
      "       '455,303', '146,863', '478,437', '18,611', '4,857', '72,008',\n",
      "       '4,085', '520,159', '44,651', '151,161', '149,018', '122,693',\n",
      "       '74,755', '164,692', '6,020', '17,130', '115,886', '133,669',\n",
      "       '449,363', '445,899', '5,968', '1,224', '16,790', '173', '7,103',\n",
      "       '6,957', '507,906', '592,424', '28,852', '30,629', '595,371',\n",
      "       '30,805', '4,885', '482,251', '342,046', '129,816', '3,498',\n",
      "       '64,260', '5,220', '50,862', '8,030', '9,742', '4,358', '258,206',\n",
      "       '2,944', '356,034', '299,119', '975', '518,868', '5,006', '4,362',\n",
      "       '3,144', '135,894', '269,559', '254,892', '61,942', '89,839',\n",
      "       '166,976', '75,035', '2,285', '1,376', '12,814', '109,870',\n",
      "       '78,343', '2,959', '3,971', '20,884', '474,132', '596,762',\n",
      "       '272,623', '4,842', '398,796', '31,741', '140,582', '623', '4,497',\n",
      "       '443,335', '2,715', '93,047', '703,959', '15,852', '2,888',\n",
      "       '1,519', '455,743', '158,865', '2,162', '1,616', '4,284', '16,980',\n",
      "       '979', '29,874', '609,154', '596,131', '513,533', '172,161',\n",
      "       '2,728', '293,095', '1,534', '1,786', '11,367', '150,182',\n",
      "       '78,743', '217,668', '15,441', '254,342', '2,973', '367,192',\n",
      "       '4,889', '301,485', '210,117', '383', '37,069', '421,623',\n",
      "       '247,077', '2,777', '381', '83,063', '91,429', '4,263', '9,335',\n",
      "       '1,501', '933', '435', '238,757', '63,756', '121,420', '363,610',\n",
      "       '160,539', '27,363', '299,457', '531,423', '422,911', '253,775',\n",
      "       '27,792', '553,568', '532,919', '281,168', '221,586', '1,188',\n",
      "       '69,295', nan, '49,322', '36,295', '1,658', '16'], dtype=object)}\n",
      "{'Deaths_in_M': array(['3,239', '376', '2,365', '3,186', '1,788', '553', '2,773', '2,938',\n",
      "       '356', '2,655', '1,182', '2,442', '436', '575', '2,823', '1,316',\n",
      "       '1,679', '2,509', '566', '461', '2,753', '3,114', '2,468', '2,528',\n",
      "       '2,287', '3,209', '1,096', '3', '468', '1,254', '3,176', '2,799',\n",
      "       '1,172', '6,429', '3,824', '1,617', '1,682', '559', '3,521',\n",
      "       '1,211', '1,976', '601', '1,965', '4,945', '175', '272', '3,746',\n",
      "       '4,258', '604', '1,335', '1,371', '1,575', '133', '744', '713',\n",
      "       '1,077', '431', '5,510', '3,502', '4,164', '1,597', '3,282',\n",
      "       '2,428', '1,065', '754', '1,854', '1,720', '233', '1,982', '398',\n",
      "       '755', '1,911', '2,141', '645', '3,240', '962', '261', '2,680',\n",
      "       '852', '777', '585', '397', '352', '1,011', '2,028', '2,951',\n",
      "       '965', '199', '232', '914', '63', '983', '1,076', '229', '2,922',\n",
      "       '4,966', '800', '4,581', '101', '206', '1,252', '1,142', '1,748',\n",
      "       '4,429', '152', '15', '365', '4', '48', '67', '505', '2,791',\n",
      "       '445', '617', '646', '191', '2,474', '569', '2,982', '75', '1,543',\n",
      "       '45', '1,111', '178', '108', '69', '1,815', '55', '1,941', '1,305',\n",
      "       '1,145', '111', '30', '2,321', '2,284', '1,079', '1,200', '1,613',\n",
      "       '1,657', '203', '722', '27', '163', '131', '1,700', '2,001',\n",
      "       '1,704', '72', '2,109', '803', '653', '13', '33', '1,353', '32',\n",
      "       '2,080', '324', '73', '35', '476', '2,112', '80', '18', '212',\n",
      "       '3,462', '3,204', '2,240', '2,089', '2,389', '12', '122', '143',\n",
      "       '1,023', '186', '283', '23', '1,584', '145', '1,586', '369', '44',\n",
      "       '1,351', '1,979', '28', '247', '1,467', '85', '177', '11', '2,092',\n",
      "       '1,031', '854', '57', '906', '338', '329', '603', '92', '788',\n",
      "       '105', '174', nan, '1,611', '9', '637', '2'], dtype=object)}\n",
      "{'Total_Tests': array(['1,118,158,870', '894,416,853', '271,490,188', '63,776,166',\n",
      "       '122,332,384', '15,804,065', '522,526,476', '246,636,495',\n",
      "       '76,201,407', '273,400,000', '162,743,369', '471,036,328',\n",
      "       '85,826,548', '78,835,048', '35,716,069', '21,107,399',\n",
      "       '54,095,556', '18,393,211', '108,656,989', '25,998,416',\n",
      "       '36,572,720', '37,335,609', '44,988,307', '19,521,252',\n",
      "       '197,543,761', '94,139,966', '64,604,259', nan, '17,270,775',\n",
      "       '41,373,364', '45,128,974', '35,555,508', '64,928,884',\n",
      "       '35,126,382', '56,212,735', '22,318,542', '26,174,429',\n",
      "       '32,796,350', '25,094,131', '128,397,719', '18,965,590',\n",
      "       '19,239,264', '11,030,499', '11,394,556', '14,872,260',\n",
      "       '24,345,019', '7,298,163', '16,920,079', '7,544,063', '54,352,132',\n",
      "       '17,201,885', '12,708,583', '30,477,451', '11,002,430',\n",
      "       '11,575,012', '11,505,032', '12,577,650', '10,559,171',\n",
      "       '10,174,473', '5,225,875', '4,795,578', '2,743,244', '4,948,208',\n",
      "       '5,884,813', '14,149,157', '2,705,422', '4,659,757', '190,586,733',\n",
      "       '3,082,403', '5,936,702', '13,646,641', '7,062,027', '6,114,822',\n",
      "       '4,030,048', '7,650,009', '7,245,111', '44,321,147', '2,657,506',\n",
      "       '10,376,306', '6,486,117', '8,365,279', '3,657,057', '9,056,450',\n",
      "       '3,078,533', '3,536,858', '3,216,305', '9,640,118', '3,359,014',\n",
      "       '3,693,367', '2,481,983', '5,258,807', '1,603,660', '1,528,531',\n",
      "       '3,951,470', '3,210,961', '1,861,041', '25,000,000', '2,130,257',\n",
      "       '3,881,967', '3,731,374', '1,941,032', '2,026,898', '4,402,293',\n",
      "       '2,624,193', '230,861', '5,441,162', '2,511,501', '160,000,000',\n",
      "       '1,377,915', '1,371,127', '717,784', '828,928', '1,233,207',\n",
      "       '1,907,195', '1,996,384', '2,610,114', '1,103,716', '938,039',\n",
      "       '2,213,831', '834,508', '3,012,408', '1,062,663', '2,504,017',\n",
      "       '1,183,986', '3,069,567', '5,816,624', '1,751,774', '2,060,900',\n",
      "       '1,499,795', '765,378', '651,257', '846,704', '1,252,808',\n",
      "       '1,146,543', '616,772', '1,628,106', '239,178', '98,964',\n",
      "       '1,045,903', '695,695', '576,016', '662,620', '512,993', '562,941',\n",
      "       '970,892', '401,622', '2,303,734', '146,269', '345,742',\n",
      "       '1,616,256', '249,838', '496,693', '249,149', '177,885', '358,675',\n",
      "       '176,919', '791,865', '150,753', '660,107', '248,846', '778,000',\n",
      "       '431,221', '132,422', '759,178', '222,773', '210,354', '604,310',\n",
      "       '400,466', '347,815', '278,529', '248,995', '5,117', '157,634',\n",
      "       '534,283', '102,174', '179,808', '1,006,083', '410,280', '365,697',\n",
      "       '535,009', '187,397', '228,799', '305,941', '81,294', '78,646',\n",
      "       '155,686', '112,382', '164,926', '329,592', '24,976', '30,126',\n",
      "       '62,056', '23,693', '254,538', '21,923', '18,901', '145,231',\n",
      "       '139,824', '259,958', '191,341', '107,339', '100,856', '124,861',\n",
      "       '19,690', '550,093', '29,036', '64,681', '20,509', '51,382',\n",
      "       '24,902', '8,632', '17,579', '7,850', '20,508'], dtype=object)}\n",
      "{'Test_in_M': array(['3,339,729', '635,857', '4,139,547', '296,146', '1,458,359',\n",
      "       '307,892', '7,628,357', '4,092,684', '606,772', '1,875,095',\n",
      "       '1,902,052', '10,082,298', '867,342', '3,024,116', '776,264',\n",
      "       '1,226,358', '628,851', '139,806', '389,264', '1,088,319',\n",
      "       '709,974', '989,290', '4,436,467', '451,963', '21,787,811',\n",
      "       '9,125,063', '1,947,021', nan, '246,450', '4,436,346', '2,344,339',\n",
      "       '3,047,194', '1,691,366', '1,042,815', '5,235,528', '2,543,819',\n",
      "       '430,811', '291,500', '1,318,569', '22,004,939', '1,855,920',\n",
      "       '456,286', '1,274,758', '1,186,160', '88,586', '4,096,043',\n",
      "       '1,336,613', '4,263,340', '1,540,170', '7,147,553', '1,669,945',\n",
      "       '2,531,490', '132,806', '1,996,315', '602,707', '2,071,128',\n",
      "       '332,982', '1,542,702', '3,822,535', '1,287,388', '717,380',\n",
      "       '1,320,115', '410,754', '316,660', '1,251,512', '225,590',\n",
      "       '899,158', '18,904,066', '170,173', '196,413', '1,446,722',\n",
      "       '1,588,056', '1,749,083', '1,193,000', '4,137,741', '703,395',\n",
      "       '1,236,470', '363,751', '5,816,370', '300,619', '1,909,739',\n",
      "       '330,765', '163,985', '575,907', '2,675,566', '801,437',\n",
      "       '7,879,860', '114,771', '34,792', '352,517', '43,529', '1,766,027',\n",
      "       '149,544', '1,326,034', '1,080,416', '572,748', '4,695,724',\n",
      "       '1,023,520', '69,055', '191,645', '677,173', '830,300',\n",
      "       '6,853,194', '4,178,984', '5,091', '25,104', '163,814', '110,461',\n",
      "       '40,077', '41,437', '1,611,437', '2,215,870', '164,845', '283,460',\n",
      "       '5,780,036', '398,467', '27,082', '2,346,306', '4,092,223',\n",
      "       '593,287', '62,198', '403,460', '77,295', '396,633', '178,789',\n",
      "       '427,678', '62,762', '4,641,322', '42,818', '2,657,350',\n",
      "       '2,072,951', '8,890', '7,099,551', '64,946', '30,562', '58,687',\n",
      "       '400,747', '340,182', '882,755', '876,141', '1,397,453', '728,581',\n",
      "       '17,581', '12,240', '198,061', '707,482', '2,923,739', '7,553',\n",
      "       '27,386', '693,216', '3,225,256', '3,000,640', '26,813',\n",
      "       '1,653,068', '281,374', '618,038', '91,220', '1,758,422', '47,607',\n",
      "       '621,314', '15,802,409', '198,199', '11,337', '35,354',\n",
      "       '3,311,280', '1,136,355', '47,268', '23,778', '59,991', '203,391',\n",
      "       '11,265', '7,096', '4,624,732', '15,852,213', '2,661,682',\n",
      "       '1,584,560', '16,243,126', '35,313', '244,342', '4,965,327',\n",
      "       '926,612', '3,162,653', '301,094', '16,205', '1,976,875', '60,851',\n",
      "       '2,828,643', '2,894,810', '10,579', '77,606', '1,130,559',\n",
      "       '1,411,454', '6,470', '9,759', '186,596', '189,943', '70,385',\n",
      "       '26,356', '31,296', '10,988', '3,508,269', '904,125', '2,317,778',\n",
      "       '1,120,596', '13,841,952', '127,530', '3,547,469', '7,908,095',\n",
      "       '1,881,042', '3,373,736', '4,324,015', '2,439,107', '3,540,584',\n",
      "       '11,760', '1,867,419'], dtype=object)}\n",
      "{'Population': array(['334,805,269', '1,406,631,776', '65,584,518', '215,353,593',\n",
      "       '83,883,596', '51,329,899', '68,497,907', '60,262,770',\n",
      "       '125,584,838', '145,805,947', '85,561,976', '46,719,142',\n",
      "       '98,953,541', '26,068,792', '46,010,234', '17,211,447',\n",
      "       '86,022,837', '131,562,772', '279,134,505', '23,888,595',\n",
      "       '51,512,762', '37,739,785', '10,140,570', '43,192,122',\n",
      "       '9,066,710', '10,316,637', '33,181,072', '25,990,679',\n",
      "       '70,078,203', '9,326,000', '19,250,195', '11,668,278',\n",
      "       '38,388,419', '33,684,208', '10,736,784', '8,773,637',\n",
      "       '60,756,135', '112,508,994', '19,031,335', '5,834,950',\n",
      "       '10,218,971', '42,164,965', '8,653,016', '9,606,259',\n",
      "       '167,885,689', '5,943,546', '5,460,193', '3,968,738', '4,898,203',\n",
      "       '7,604,299', '10,300,869', '5,020,199', '229,488,994', '5,511,370',\n",
      "       '19,205,043', '5,554,960', '37,772,756', '6,844,597', '2,661,708',\n",
      "       '4,059,286', '6,684,849', '2,078,034', '12,046,656', '18,584,039',\n",
      "       '11,305,652', '11,992,656', '5,182,354', '10,081,785',\n",
      "       '18,113,361', '30,225,582', '9,432,800', '4,446,964', '3,496,016',\n",
      "       '3,378,078', '1,848,837', '10,300,205', '35,844,909', '7,305,843',\n",
      "       '1,783,983', '21,575,842', '4,380,326', '11,056,370', '55,227,143',\n",
      "       '5,345,541', '1,321,910', '4,013,171', '1,223,387', '29,266,991',\n",
      "       '106,156,692', '7,040,745', '120,812,698', '908,061', '10,221,247',\n",
      "       '2,979,915', '2,971,966', '3,249,317', '5,323,993', '2,081,304',\n",
      "       '56,215,221', '19,470,234', '2,866,374', '2,441,162', '642,371',\n",
      "       '627,950', '45,350,148', '216,746,934', '15,331,428',\n",
      "       '1,448,471,400', '34,382,084', '33,089,461', '445,431', '374,087',\n",
      "       '7,481,023', '6,728,271', '345,393', '6,550,389', '40,754,388',\n",
      "       '399,794', '540,985', '1,406,585', '48,432,863', '2,633,874',\n",
      "       '32,395,450', '2,985,094', '17,168,639', '13,600,464',\n",
      "       '27,911,548', '444,033', '35,027,343', '288,023', '314,169',\n",
      "       '95,240,792', '176,463', '17,653,671', '20,180,839', '27,742,298',\n",
      "       '596,831', '284,164', '290,915', '1,184,817', '794,045', '412,190',\n",
      "       '909,466', '29,178,077', '45,992,020', '4,901,981', '567,678',\n",
      "       '787,941', '19,364,809', '12,624,840', '2,331,533', '99,426',\n",
      "       '77,463', '165,529', '9,292,169', '107,609', '1,274,727',\n",
      "       '286,259', '63,298,550', '8,680,837', '85,732', '13,865,691',\n",
      "       '400,516', '49,233', '2,175,699', '11,680,283', '21,473,764',\n",
      "       '67,277', '185,113', '12,784,726', '16,841,795', '5,797,805',\n",
      "       '1,369,429', '22,102,838', '721,159', '34,085', '33,704', '38,387',\n",
      "       '113,475', '6,779,100', '61,939', '11,618,511', '9,957,464',\n",
      "       '1,496,662', '107,749', '202,239', '72,344', '1,016,097', '60,057',\n",
      "       '5,016,678', '39,783', '2,558,482', '39,730', '56,973',\n",
      "       '31,154,867', '321,832', '26,647', '43,966', '3,662,244',\n",
      "       '26,083,660', '117,489', '99,509', '2,063,367', '907,419',\n",
      "       '5,305,117', '8,306,436', '17,413,580', '30,596', '111,551',\n",
      "       '53,871', '17,571', '39,741', '227,679', '18,233', '9,945',\n",
      "       '10,903', '15,230', '123,419', '5,759', '3,539', '4,965', '6,115',\n",
      "       '667,490', '10,982', nan, '1,622', '799', '12,066', '626,161'],\n",
      "      dtype=object)}\n"
     ]
    }
   ],
   "source": [
    "#This code help to find the unique values from the coln which help us to find other then ? which values are present\n",
    "for i in data.columns:\n",
    "    print({i:data[i].unique()})"
   ]
  },
  {
   "cell_type": "code",
   "execution_count": 64,
   "metadata": {},
   "outputs": [
    {
     "data": {
      "text/plain": [
       "Country               0\n",
       "Total_Cases           0\n",
       "Total_Deaths          5\n",
       "New_Death           227\n",
       "Total_Recovered      16\n",
       "Active_Cases         15\n",
       "Serious_Cases        83\n",
       "Total_Cases_in_M      2\n",
       "Deaths_in_M           7\n",
       "Total_Tests          16\n",
       "Test_in_M            16\n",
       "Population            2\n",
       "dtype: int64"
      ]
     },
     "execution_count": 64,
     "metadata": {},
     "output_type": "execute_result"
    }
   ],
   "source": [
    "#isnull()-It return the null values\n",
    "#sum()-It return the sum of null values\n",
    "data.isnull().sum()"
   ]
  },
  {
   "cell_type": "markdown",
   "metadata": {},
   "source": [
    "New_Death has 227 missing values out of 230 values so will will drop this column as it contain max no of missing values"
   ]
  },
  {
   "cell_type": "code",
   "execution_count": 65,
   "metadata": {},
   "outputs": [],
   "source": [
    "#drop unrelated data\n",
    "data.drop(['New_Death'],axis=1,inplace=True)"
   ]
  },
  {
   "cell_type": "code",
   "execution_count": 66,
   "metadata": {},
   "outputs": [
    {
     "data": {
      "text/html": [
       "<div>\n",
       "<style scoped>\n",
       "    .dataframe tbody tr th:only-of-type {\n",
       "        vertical-align: middle;\n",
       "    }\n",
       "\n",
       "    .dataframe tbody tr th {\n",
       "        vertical-align: top;\n",
       "    }\n",
       "\n",
       "    .dataframe thead th {\n",
       "        text-align: right;\n",
       "    }\n",
       "</style>\n",
       "<table border=\"1\" class=\"dataframe\">\n",
       "  <thead>\n",
       "    <tr style=\"text-align: right;\">\n",
       "      <th></th>\n",
       "      <th>Country</th>\n",
       "      <th>Total_Cases</th>\n",
       "      <th>Total_Deaths</th>\n",
       "      <th>Total_Recovered</th>\n",
       "      <th>Active_Cases</th>\n",
       "      <th>Serious_Cases</th>\n",
       "      <th>Total_Cases_in_M</th>\n",
       "      <th>Deaths_in_M</th>\n",
       "      <th>Total_Tests</th>\n",
       "      <th>Test_in_M</th>\n",
       "      <th>Population</th>\n",
       "    </tr>\n",
       "    <tr>\n",
       "      <th>#</th>\n",
       "      <th></th>\n",
       "      <th></th>\n",
       "      <th></th>\n",
       "      <th></th>\n",
       "      <th></th>\n",
       "      <th></th>\n",
       "      <th></th>\n",
       "      <th></th>\n",
       "      <th></th>\n",
       "      <th></th>\n",
       "      <th></th>\n",
       "    </tr>\n",
       "  </thead>\n",
       "  <tbody>\n",
       "    <tr>\n",
       "      <th>1</th>\n",
       "      <td>USA</td>\n",
       "      <td>98,166,904</td>\n",
       "      <td>1,084,282</td>\n",
       "      <td>94,962,112</td>\n",
       "      <td>2,120,510</td>\n",
       "      <td>2,970</td>\n",
       "      <td>293,206</td>\n",
       "      <td>3,239</td>\n",
       "      <td>1,118,158,870</td>\n",
       "      <td>3,339,729</td>\n",
       "      <td>334,805,269</td>\n",
       "    </tr>\n",
       "    <tr>\n",
       "      <th>2</th>\n",
       "      <td>India</td>\n",
       "      <td>44,587,307</td>\n",
       "      <td>528,629</td>\n",
       "      <td>44,019,095</td>\n",
       "      <td>39,583</td>\n",
       "      <td>698</td>\n",
       "      <td>31,698</td>\n",
       "      <td>376</td>\n",
       "      <td>894,416,853</td>\n",
       "      <td>635,857</td>\n",
       "      <td>1,406,631,776</td>\n",
       "    </tr>\n",
       "    <tr>\n",
       "      <th>3</th>\n",
       "      <td>France</td>\n",
       "      <td>35,342,950</td>\n",
       "      <td>155,078</td>\n",
       "      <td>34,527,115</td>\n",
       "      <td>660,757</td>\n",
       "      <td>869</td>\n",
       "      <td>538,892</td>\n",
       "      <td>2,365</td>\n",
       "      <td>271,490,188</td>\n",
       "      <td>4,139,547</td>\n",
       "      <td>65,584,518</td>\n",
       "    </tr>\n",
       "    <tr>\n",
       "      <th>4</th>\n",
       "      <td>Brazil</td>\n",
       "      <td>34,706,757</td>\n",
       "      <td>686,027</td>\n",
       "      <td>33,838,636</td>\n",
       "      <td>182,094</td>\n",
       "      <td>8,318</td>\n",
       "      <td>161,162</td>\n",
       "      <td>3,186</td>\n",
       "      <td>63,776,166</td>\n",
       "      <td>296,146</td>\n",
       "      <td>215,353,593</td>\n",
       "    </tr>\n",
       "    <tr>\n",
       "      <th>5</th>\n",
       "      <td>Germany</td>\n",
       "      <td>33,312,373</td>\n",
       "      <td>149,948</td>\n",
       "      <td>32,315,200</td>\n",
       "      <td>847,225</td>\n",
       "      <td>1,406</td>\n",
       "      <td>397,126</td>\n",
       "      <td>1,788</td>\n",
       "      <td>122,332,384</td>\n",
       "      <td>1,458,359</td>\n",
       "      <td>83,883,596</td>\n",
       "    </tr>\n",
       "    <tr>\n",
       "      <th>...</th>\n",
       "      <td>...</td>\n",
       "      <td>...</td>\n",
       "      <td>...</td>\n",
       "      <td>...</td>\n",
       "      <td>...</td>\n",
       "      <td>...</td>\n",
       "      <td>...</td>\n",
       "      <td>...</td>\n",
       "      <td>...</td>\n",
       "      <td>...</td>\n",
       "      <td>...</td>\n",
       "    </tr>\n",
       "    <tr>\n",
       "      <th>226</th>\n",
       "      <td>Niue</td>\n",
       "      <td>80</td>\n",
       "      <td>NaN</td>\n",
       "      <td>80</td>\n",
       "      <td>0</td>\n",
       "      <td>NaN</td>\n",
       "      <td>49,322</td>\n",
       "      <td>NaN</td>\n",
       "      <td>NaN</td>\n",
       "      <td>NaN</td>\n",
       "      <td>1,622</td>\n",
       "    </tr>\n",
       "    <tr>\n",
       "      <th>227</th>\n",
       "      <td>Vatican City</td>\n",
       "      <td>29</td>\n",
       "      <td>NaN</td>\n",
       "      <td>29</td>\n",
       "      <td>0</td>\n",
       "      <td>NaN</td>\n",
       "      <td>36,295</td>\n",
       "      <td>NaN</td>\n",
       "      <td>NaN</td>\n",
       "      <td>NaN</td>\n",
       "      <td>799</td>\n",
       "    </tr>\n",
       "    <tr>\n",
       "      <th>228</th>\n",
       "      <td>Tuvalu</td>\n",
       "      <td>20</td>\n",
       "      <td>NaN</td>\n",
       "      <td>NaN</td>\n",
       "      <td>20</td>\n",
       "      <td>NaN</td>\n",
       "      <td>1,658</td>\n",
       "      <td>NaN</td>\n",
       "      <td>NaN</td>\n",
       "      <td>NaN</td>\n",
       "      <td>12,066</td>\n",
       "    </tr>\n",
       "    <tr>\n",
       "      <th>229</th>\n",
       "      <td>Western Sahara</td>\n",
       "      <td>10</td>\n",
       "      <td>1</td>\n",
       "      <td>9</td>\n",
       "      <td>0</td>\n",
       "      <td>NaN</td>\n",
       "      <td>16</td>\n",
       "      <td>2</td>\n",
       "      <td>NaN</td>\n",
       "      <td>NaN</td>\n",
       "      <td>626,161</td>\n",
       "    </tr>\n",
       "    <tr>\n",
       "      <th>230</th>\n",
       "      <td>MS Zaandam</td>\n",
       "      <td>9</td>\n",
       "      <td>2</td>\n",
       "      <td>7</td>\n",
       "      <td>0</td>\n",
       "      <td>NaN</td>\n",
       "      <td>NaN</td>\n",
       "      <td>NaN</td>\n",
       "      <td>NaN</td>\n",
       "      <td>NaN</td>\n",
       "      <td>NaN</td>\n",
       "    </tr>\n",
       "  </tbody>\n",
       "</table>\n",
       "<p>230 rows × 11 columns</p>\n",
       "</div>"
      ],
      "text/plain": [
       "            Country Total_Cases Total_Deaths Total_Recovered Active_Cases  \\\n",
       "#                                                                           \n",
       "1               USA  98,166,904    1,084,282      94,962,112    2,120,510   \n",
       "2             India  44,587,307      528,629      44,019,095       39,583   \n",
       "3            France  35,342,950      155,078      34,527,115      660,757   \n",
       "4            Brazil  34,706,757      686,027      33,838,636      182,094   \n",
       "5           Germany  33,312,373      149,948      32,315,200      847,225   \n",
       "..              ...         ...          ...             ...          ...   \n",
       "226            Niue          80          NaN              80            0   \n",
       "227    Vatican City          29          NaN              29            0   \n",
       "228          Tuvalu          20          NaN             NaN           20   \n",
       "229  Western Sahara          10            1               9            0   \n",
       "230      MS Zaandam           9            2               7            0   \n",
       "\n",
       "    Serious_Cases Total_Cases_in_M Deaths_in_M    Total_Tests  Test_in_M  \\\n",
       "#                                                                          \n",
       "1           2,970          293,206       3,239  1,118,158,870  3,339,729   \n",
       "2             698           31,698         376    894,416,853    635,857   \n",
       "3             869          538,892       2,365    271,490,188  4,139,547   \n",
       "4           8,318          161,162       3,186     63,776,166    296,146   \n",
       "5           1,406          397,126       1,788    122,332,384  1,458,359   \n",
       "..            ...              ...         ...            ...        ...   \n",
       "226           NaN           49,322         NaN            NaN        NaN   \n",
       "227           NaN           36,295         NaN            NaN        NaN   \n",
       "228           NaN            1,658         NaN            NaN        NaN   \n",
       "229           NaN               16           2            NaN        NaN   \n",
       "230           NaN              NaN         NaN            NaN        NaN   \n",
       "\n",
       "        Population  \n",
       "#                   \n",
       "1      334,805,269  \n",
       "2    1,406,631,776  \n",
       "3       65,584,518  \n",
       "4      215,353,593  \n",
       "5       83,883,596  \n",
       "..             ...  \n",
       "226          1,622  \n",
       "227            799  \n",
       "228         12,066  \n",
       "229        626,161  \n",
       "230            NaN  \n",
       "\n",
       "[230 rows x 11 columns]"
      ]
     },
     "execution_count": 66,
     "metadata": {},
     "output_type": "execute_result"
    }
   ],
   "source": [
    "data"
   ]
  },
  {
   "cell_type": "code",
   "execution_count": 67,
   "metadata": {},
   "outputs": [
    {
     "data": {
      "text/plain": [
       "(230, 11)"
      ]
     },
     "execution_count": 67,
     "metadata": {},
     "output_type": "execute_result"
    }
   ],
   "source": [
    "#droping the duplicate values if they contain any\n",
    "\n",
    "data.drop_duplicates(inplace=True,keep=\"first\")\n",
    "data.shape"
   ]
  },
  {
   "cell_type": "code",
   "execution_count": 68,
   "metadata": {},
   "outputs": [],
   "source": [
    "for x in data.columns:\n",
    "    if data[x].dtype=='object' or data[x].dtype=='bool':\n",
    "        data[x].fillna(data[x].mode()[0],inplace=True)\n",
    "    elif data[x].dtype=='int64' or data[x].dtype=='float64':\n",
    "        data[x].fillna(round(data[x].mean()),inplace=True)"
   ]
  },
  {
   "cell_type": "code",
   "execution_count": 69,
   "metadata": {},
   "outputs": [
    {
     "data": {
      "text/plain": [
       "Country             0\n",
       "Total_Cases         0\n",
       "Total_Deaths        0\n",
       "Total_Recovered     0\n",
       "Active_Cases        0\n",
       "Serious_Cases       0\n",
       "Total_Cases_in_M    0\n",
       "Deaths_in_M         0\n",
       "Total_Tests         0\n",
       "Test_in_M           0\n",
       "Population          0\n",
       "dtype: int64"
      ]
     },
     "execution_count": 69,
     "metadata": {},
     "output_type": "execute_result"
    }
   ],
   "source": [
    "data.isnull().sum()"
   ]
  },
  {
   "cell_type": "code",
   "execution_count": 70,
   "metadata": {},
   "outputs": [
    {
     "name": "stdout",
     "output_type": "stream",
     "text": [
      "<class 'pandas.core.frame.DataFrame'>\n",
      "Int64Index: 230 entries, 1 to 230\n",
      "Data columns (total 11 columns):\n",
      " #   Column            Non-Null Count  Dtype \n",
      "---  ------            --------------  ----- \n",
      " 0   Country           230 non-null    object\n",
      " 1   Total_Cases       230 non-null    object\n",
      " 2   Total_Deaths      230 non-null    object\n",
      " 3   Total_Recovered   230 non-null    object\n",
      " 4   Active_Cases      230 non-null    object\n",
      " 5   Serious_Cases     230 non-null    object\n",
      " 6   Total_Cases_in_M  230 non-null    object\n",
      " 7   Deaths_in_M       230 non-null    object\n",
      " 8   Total_Tests       230 non-null    object\n",
      " 9   Test_in_M         230 non-null    object\n",
      " 10  Population        230 non-null    object\n",
      "dtypes: object(11)\n",
      "memory usage: 21.6+ KB\n"
     ]
    }
   ],
   "source": [
    "data.info()"
   ]
  },
  {
   "cell_type": "code",
   "execution_count": 76,
   "metadata": {},
   "outputs": [],
   "source": [
    "# Lets convert the columns of string datatype into float datatype\n",
    "data[\"Total_Cases\"]=data[\"Total_Cases\"].apply(str).str.replace(',', '').astype(float)\n",
    "data[\"Total_Deaths\"]=data[\"Total_Deaths\"].apply(str).str.replace(',', '').astype(float)\n",
    "data[\"Total_Recovered\"]=data[\"Total_Recovered\"].apply(str).str.replace(',', '').astype(float)\n",
    "data[\"Active_Cases\"]=data[\"Active_Cases\"].apply(str).str.replace(',', '').astype(float)\n",
    "data[\"Serious_Cases\"]=data[\"Serious_Cases\"].apply(str).str.replace(',', '').astype(float)\n",
    "data[\"Total_Cases_in_M\"]=data[\"Total_Cases_in_M\"].apply(str).str.replace(',', '').astype(float)\n",
    "data[\"Deaths_in_M\"]=data[\"Deaths_in_M\"].apply(str).str.replace(',', '').astype(float)\n",
    "data[\"Total_Tests\"]=data[\"Total_Tests\"].apply(str).str.replace(',', '').astype(float)\n",
    "data[\"Test_in_M\"]=data[\"Test_in_M\"].apply(str).str.replace(',', '').astype(float)\n",
    "data[\"Population\"]=data[\"Population\"].apply(str).str.replace(',', '').astype(float)"
   ]
  },
  {
   "cell_type": "code",
   "execution_count": 77,
   "metadata": {},
   "outputs": [
    {
     "name": "stdout",
     "output_type": "stream",
     "text": [
      "<class 'pandas.core.frame.DataFrame'>\n",
      "Int64Index: 230 entries, 1 to 230\n",
      "Data columns (total 11 columns):\n",
      " #   Column            Non-Null Count  Dtype  \n",
      "---  ------            --------------  -----  \n",
      " 0   Country           230 non-null    object \n",
      " 1   Total_Cases       230 non-null    float64\n",
      " 2   Total_Deaths      230 non-null    float64\n",
      " 3   Total_Recovered   230 non-null    float64\n",
      " 4   Active_Cases      230 non-null    float64\n",
      " 5   Serious_Cases     230 non-null    float64\n",
      " 6   Total_Cases_in_M  230 non-null    float64\n",
      " 7   Deaths_in_M       230 non-null    float64\n",
      " 8   Total_Tests       230 non-null    float64\n",
      " 9   Test_in_M         230 non-null    float64\n",
      " 10  Population        230 non-null    float64\n",
      "dtypes: float64(10), object(1)\n",
      "memory usage: 21.6+ KB\n"
     ]
    }
   ],
   "source": [
    "data.info()"
   ]
  },
  {
   "cell_type": "code",
   "execution_count": 79,
   "metadata": {},
   "outputs": [
    {
     "data": {
      "text/html": [
       "<div>\n",
       "<style scoped>\n",
       "    .dataframe tbody tr th:only-of-type {\n",
       "        vertical-align: middle;\n",
       "    }\n",
       "\n",
       "    .dataframe tbody tr th {\n",
       "        vertical-align: top;\n",
       "    }\n",
       "\n",
       "    .dataframe thead th {\n",
       "        text-align: right;\n",
       "    }\n",
       "</style>\n",
       "<table border=\"1\" class=\"dataframe\">\n",
       "  <thead>\n",
       "    <tr style=\"text-align: right;\">\n",
       "      <th></th>\n",
       "      <th>Total_Cases</th>\n",
       "      <th>Total_Deaths</th>\n",
       "      <th>Total_Recovered</th>\n",
       "      <th>Active_Cases</th>\n",
       "      <th>Serious_Cases</th>\n",
       "      <th>Total_Cases_in_M</th>\n",
       "      <th>Deaths_in_M</th>\n",
       "      <th>Total_Tests</th>\n",
       "      <th>Test_in_M</th>\n",
       "      <th>Population</th>\n",
       "    </tr>\n",
       "  </thead>\n",
       "  <tbody>\n",
       "    <tr>\n",
       "      <th>Total_Cases</th>\n",
       "      <td>1.000000</td>\n",
       "      <td>0.890969</td>\n",
       "      <td>0.999553</td>\n",
       "      <td>0.805833</td>\n",
       "      <td>0.512773</td>\n",
       "      <td>0.144405</td>\n",
       "      <td>0.214923</td>\n",
       "      <td>0.860491</td>\n",
       "      <td>0.060495</td>\n",
       "      <td>0.392307</td>\n",
       "    </tr>\n",
       "    <tr>\n",
       "      <th>Total_Deaths</th>\n",
       "      <td>0.890969</td>\n",
       "      <td>1.000000</td>\n",
       "      <td>0.889481</td>\n",
       "      <td>0.657758</td>\n",
       "      <td>0.715977</td>\n",
       "      <td>0.022642</td>\n",
       "      <td>0.287575</td>\n",
       "      <td>0.787531</td>\n",
       "      <td>0.000229</td>\n",
       "      <td>0.419534</td>\n",
       "    </tr>\n",
       "    <tr>\n",
       "      <th>Total_Recovered</th>\n",
       "      <td>0.999553</td>\n",
       "      <td>0.889481</td>\n",
       "      <td>1.000000</td>\n",
       "      <td>0.797729</td>\n",
       "      <td>0.509002</td>\n",
       "      <td>0.149354</td>\n",
       "      <td>0.213943</td>\n",
       "      <td>0.862345</td>\n",
       "      <td>0.064034</td>\n",
       "      <td>0.394411</td>\n",
       "    </tr>\n",
       "    <tr>\n",
       "      <th>Active_Cases</th>\n",
       "      <td>0.805833</td>\n",
       "      <td>0.657758</td>\n",
       "      <td>0.797729</td>\n",
       "      <td>1.000000</td>\n",
       "      <td>0.412874</td>\n",
       "      <td>0.135493</td>\n",
       "      <td>0.165695</td>\n",
       "      <td>0.587349</td>\n",
       "      <td>0.022751</td>\n",
       "      <td>0.158667</td>\n",
       "    </tr>\n",
       "    <tr>\n",
       "      <th>Serious_Cases</th>\n",
       "      <td>0.512773</td>\n",
       "      <td>0.715977</td>\n",
       "      <td>0.509002</td>\n",
       "      <td>0.412874</td>\n",
       "      <td>1.000000</td>\n",
       "      <td>-0.031878</td>\n",
       "      <td>0.183736</td>\n",
       "      <td>0.290604</td>\n",
       "      <td>-0.060932</td>\n",
       "      <td>0.221815</td>\n",
       "    </tr>\n",
       "    <tr>\n",
       "      <th>Total_Cases_in_M</th>\n",
       "      <td>0.144405</td>\n",
       "      <td>0.022642</td>\n",
       "      <td>0.149354</td>\n",
       "      <td>0.135493</td>\n",
       "      <td>-0.031878</td>\n",
       "      <td>1.000000</td>\n",
       "      <td>0.463054</td>\n",
       "      <td>0.095647</td>\n",
       "      <td>0.556967</td>\n",
       "      <td>-0.137231</td>\n",
       "    </tr>\n",
       "    <tr>\n",
       "      <th>Deaths_in_M</th>\n",
       "      <td>0.214923</td>\n",
       "      <td>0.287575</td>\n",
       "      <td>0.213943</td>\n",
       "      <td>0.165695</td>\n",
       "      <td>0.183736</td>\n",
       "      <td>0.463054</td>\n",
       "      <td>1.000000</td>\n",
       "      <td>0.163801</td>\n",
       "      <td>0.220254</td>\n",
       "      <td>-0.068768</td>\n",
       "    </tr>\n",
       "    <tr>\n",
       "      <th>Total_Tests</th>\n",
       "      <td>0.860491</td>\n",
       "      <td>0.787531</td>\n",
       "      <td>0.862345</td>\n",
       "      <td>0.587349</td>\n",
       "      <td>0.290604</td>\n",
       "      <td>0.095647</td>\n",
       "      <td>0.163801</td>\n",
       "      <td>1.000000</td>\n",
       "      <td>0.208847</td>\n",
       "      <td>0.543714</td>\n",
       "    </tr>\n",
       "    <tr>\n",
       "      <th>Test_in_M</th>\n",
       "      <td>0.060495</td>\n",
       "      <td>0.000229</td>\n",
       "      <td>0.064034</td>\n",
       "      <td>0.022751</td>\n",
       "      <td>-0.060932</td>\n",
       "      <td>0.556967</td>\n",
       "      <td>0.220254</td>\n",
       "      <td>0.208847</td>\n",
       "      <td>1.000000</td>\n",
       "      <td>-0.083237</td>\n",
       "    </tr>\n",
       "    <tr>\n",
       "      <th>Population</th>\n",
       "      <td>0.392307</td>\n",
       "      <td>0.419534</td>\n",
       "      <td>0.394411</td>\n",
       "      <td>0.158667</td>\n",
       "      <td>0.221815</td>\n",
       "      <td>-0.137231</td>\n",
       "      <td>-0.068768</td>\n",
       "      <td>0.543714</td>\n",
       "      <td>-0.083237</td>\n",
       "      <td>1.000000</td>\n",
       "    </tr>\n",
       "  </tbody>\n",
       "</table>\n",
       "</div>"
      ],
      "text/plain": [
       "                  Total_Cases  Total_Deaths  Total_Recovered  Active_Cases  \\\n",
       "Total_Cases          1.000000      0.890969         0.999553      0.805833   \n",
       "Total_Deaths         0.890969      1.000000         0.889481      0.657758   \n",
       "Total_Recovered      0.999553      0.889481         1.000000      0.797729   \n",
       "Active_Cases         0.805833      0.657758         0.797729      1.000000   \n",
       "Serious_Cases        0.512773      0.715977         0.509002      0.412874   \n",
       "Total_Cases_in_M     0.144405      0.022642         0.149354      0.135493   \n",
       "Deaths_in_M          0.214923      0.287575         0.213943      0.165695   \n",
       "Total_Tests          0.860491      0.787531         0.862345      0.587349   \n",
       "Test_in_M            0.060495      0.000229         0.064034      0.022751   \n",
       "Population           0.392307      0.419534         0.394411      0.158667   \n",
       "\n",
       "                  Serious_Cases  Total_Cases_in_M  Deaths_in_M  Total_Tests  \\\n",
       "Total_Cases            0.512773          0.144405     0.214923     0.860491   \n",
       "Total_Deaths           0.715977          0.022642     0.287575     0.787531   \n",
       "Total_Recovered        0.509002          0.149354     0.213943     0.862345   \n",
       "Active_Cases           0.412874          0.135493     0.165695     0.587349   \n",
       "Serious_Cases          1.000000         -0.031878     0.183736     0.290604   \n",
       "Total_Cases_in_M      -0.031878          1.000000     0.463054     0.095647   \n",
       "Deaths_in_M            0.183736          0.463054     1.000000     0.163801   \n",
       "Total_Tests            0.290604          0.095647     0.163801     1.000000   \n",
       "Test_in_M             -0.060932          0.556967     0.220254     0.208847   \n",
       "Population             0.221815         -0.137231    -0.068768     0.543714   \n",
       "\n",
       "                  Test_in_M  Population  \n",
       "Total_Cases        0.060495    0.392307  \n",
       "Total_Deaths       0.000229    0.419534  \n",
       "Total_Recovered    0.064034    0.394411  \n",
       "Active_Cases       0.022751    0.158667  \n",
       "Serious_Cases     -0.060932    0.221815  \n",
       "Total_Cases_in_M   0.556967   -0.137231  \n",
       "Deaths_in_M        0.220254   -0.068768  \n",
       "Total_Tests        0.208847    0.543714  \n",
       "Test_in_M          1.000000   -0.083237  \n",
       "Population        -0.083237    1.000000  "
      ]
     },
     "execution_count": 79,
     "metadata": {},
     "output_type": "execute_result"
    }
   ],
   "source": [
    "# Let's make the correlation matrix\n",
    "corr_matrix= data.corr()\n",
    "corr_matrix"
   ]
  },
  {
   "cell_type": "code",
   "execution_count": 81,
   "metadata": {},
   "outputs": [],
   "source": [
    "import plotly.express as px\n",
    "import matplotlib.pyplot as plt"
   ]
  },
  {
   "cell_type": "code",
   "execution_count": 83,
   "metadata": {},
   "outputs": [
    {
     "data": {
      "image/png": "[encoded data removed]",
      "text/plain": [
       "<Figure size 576x360 with 2 Axes>"
      ]
     },
     "metadata": {
      "needs_background": "light"
     },
     "output_type": "display_data"
    }
   ],
   "source": [
    "plt.figure(figsize=(8,5))\n",
    "sns.heatmap(corr_matrix, annot=True, cmap=\"Purples\", fmt=\".2f\")\n",
    "plt.show()"
   ]
  },
  {
   "cell_type": "code",
   "execution_count": 87,
   "metadata": {},
   "outputs": [
    {
     "data": {
      "application/vnd.plotly.v1+json": {
       "config": {
        "plotlyServerURL": "https://plot.ly"
       },
       "data": [
        {
         "alignmentgroup": "True",
         "bingroup": "x",
         "hovertemplate": "Population=%{x}<br>count=%{y}<extra></extra>",
         "legendgroup": "",
         "marker": {
          "color": "#636efa",
          "pattern": {
           "shape": ""
          }
         },
         "name": "",
         "offsetgroup": "",
         "orientation": "v",
         "showlegend": false,
         "type": "histogram",
         "x": [
          334805269,
          1406631776,
          65584518,
          215353593,
          83883596,
          51329899,
          68497907,
          60262770,
          125584838,
          145805947,
          85561976,
          46719142,
          98953541,
          26068792,
          46010234,
          17211447,
          86022837,
          131562772,
          279134505,
          23888595,
          51512762,
          37739785,
          10140570,
          43192122,
          9066710,
          10316637,
          33181072,
          25990679,
          70078203,
          9326000,
          19250195,
          11668278,
          38388419,
          33684208,
          10736784,
          8773637,
          60756135,
          112508994,
          19031335,
          5834950,
          10218971,
          42164965,
          8653016,
          9606259,
          167885689,
          5943546,
          5460193,
          3968738,
          4898203,
          7604299,
          10300869,
          5020199,
          229488994,
          5511370,
          19205043,
          5554960,
          37772756,
          6844597,
          2661708,
          4059286,
          6684849,
          2078034,
          12046656,
          18584039,
          11305652,
          11992656,
          5182354,
          10081785,
          18113361,
          30225582,
          9432800,
          4446964,
          3496016,
          3378078,
          1848837,
          10300205,
          35844909,
          7305843,
          1783983,
          21575842,
          4380326,
          11056370,
          55227143,
          5345541,
          1321910,
          4013171,
          1223387,
          29266991,
          106156692,
          7040745,
          120812698,
          908061,
          10221247,
          2979915,
          2971966,
          3249317,
          5323993,
          2081304,
          56215221,
          19470234,
          2866374,
          2441162,
          642371,
          627950,
          45350148,
          216746934,
          15331428,
          1448471400,
          34382084,
          33089461,
          445431,
          374087,
          7481023,
          6728271,
          345393,
          6550389,
          40754388,
          399794,
          540985,
          1406585,
          48432863,
          2633874,
          32395450,
          2985094,
          17168639,
          13600464,
          27911548,
          444033,
          35027343,
          288023,
          314169,
          95240792,
          176463,
          17653671,
          20180839,
          27742298,
          596831,
          284164,
          290915,
          1184817,
          794045,
          412190,
          909466,
          29178077,
          45992020,
          4901981,
          567678,
          787941,
          19364809,
          12624840,
          2331533,
          99426,
          77463,
          165529,
          9292169,
          107609,
          1274727,
          286259,
          63298550,
          8680837,
          85732,
          13865691,
          400516,
          49233,
          2175699,
          11680283,
          21473764,
          67277,
          185113,
          12784726,
          16841795,
          5797805,
          1369429,
          22102838,
          721159,
          34085,
          33704,
          38387,
          113475,
          6779100,
          61939,
          11618511,
          9957464,
          1496662,
          107749,
          202239,
          72344,
          1016097,
          60057,
          5016678,
          39783,
          2558482,
          39730,
          56973,
          31154867,
          321832,
          26647,
          43966,
          3662244,
          26083660,
          117489,
          99509,
          2063367,
          907419,
          5305117,
          8306436,
          17413580,
          30596,
          111551,
          53871,
          17571,
          39741,
          227679,
          18233,
          9945,
          10903,
          15230,
          123419,
          5759,
          3539,
          4965,
          6115,
          667490,
          10982,
          1016097,
          1622,
          799,
          12066,
          626161,
          1016097
         ],
         "xaxis": "x",
         "yaxis": "y"
        }
       ],
       "layout": {
        "barmode": "relative",
        "legend": {
         "tracegroupgap": 0
        },
        "template": {
         "data": {
          "bar": [
           {
            "error_x": {
             "color": "#2a3f5f"
            },
            "error_y": {
             "color": "#2a3f5f"
            },
            "marker": {
             "line": {
              "color": "#E5ECF6",
              "width": 0.5
             },
             "pattern": {
              "fillmode": "overlay",
              "size": 10,
              "solidity": 0.2
             }
            },
            "type": "bar"
           }
          ],
          "barpolar": [
           {
            "marker": {
             "line": {
              "color": "#E5ECF6",
              "width": 0.5
             },
             "pattern": {
              "fillmode": "overlay",
              "size": 10,
              "solidity": 0.2
             }
            },
            "type": "barpolar"
           }
          ],
          "carpet": [
           {
            "aaxis": {
             "endlinecolor": "#2a3f5f",
             "gridcolor": "white",
             "linecolor": "white",
             "minorgridcolor": "white",
             "startlinecolor": "#2a3f5f"
            },
            "baxis": {
             "endlinecolor": "#2a3f5f",
             "gridcolor": "white",
             "linecolor": "white",
             "minorgridcolor": "white",
             "startlinecolor": "#2a3f5f"
            },
            "type": "carpet"
           }
          ],
          "choropleth": [
           {
            "colorbar": {
             "outlinewidth": 0,
             "ticks": ""
            },
            "type": "choropleth"
           }
          ],
          "contour": [
           {
            "colorbar": {
             "outlinewidth": 0,
             "ticks": ""
            },
            "colorscale": [
             [
              0,
              "#0d0887"
             ],
             [
              0.1111111111111111,
              "#46039f"
             ],
             [
              0.2222222222222222,
              "#7201a8"
             ],
             [
              0.3333333333333333,
              "#9c179e"
             ],
             [
              0.4444444444444444,
              "#bd3786"
             ],
             [
              0.5555555555555556,
              "#d8576b"
             ],
             [
              0.6666666666666666,
              "#ed7953"
             ],
             [
              0.7777777777777778,
              "#fb9f3a"
             ],
             [
              0.8888888888888888,
              "#fdca26"
             ],
             [
              1,
              "#f0f921"
             ]
            ],
            "type": "contour"
           }
          ],
          "contourcarpet": [
           {
            "colorbar": {
             "outlinewidth": 0,
             "ticks": ""
            },
            "type": "contourcarpet"
           }
          ],
          "heatmap": [
           {
            "colorbar": {
             "outlinewidth": 0,
             "ticks": ""
            },
            "colorscale": [
             [
              0,
              "#0d0887"
             ],
             [
              0.1111111111111111,
              "#46039f"
             ],
             [
              0.2222222222222222,
              "#7201a8"
             ],
             [
              0.3333333333333333,
              "#9c179e"
             ],
             [
              0.4444444444444444,
              "#bd3786"
             ],
             [
              0.5555555555555556,
              "#d8576b"
             ],
             [
              0.6666666666666666,
              "#ed7953"
             ],
             [
              0.7777777777777778,
              "#fb9f3a"
             ],
             [
              0.8888888888888888,
              "#fdca26"
             ],
             [
              1,
              "#f0f921"
             ]
            ],
            "type": "heatmap"
           }
          ],
          "heatmapgl": [
           {
            "colorbar": {
             "outlinewidth": 0,
             "ticks": ""
            },
            "colorscale": [
             [
              0,
              "#0d0887"
             ],
             [
              0.1111111111111111,
              "#46039f"
             ],
             [
              0.2222222222222222,
              "#7201a8"
             ],
             [
              0.3333333333333333,
              "#9c179e"
             ],
             [
              0.4444444444444444,
              "#bd3786"
             ],
             [
              0.5555555555555556,
              "#d8576b"
             ],
             [
              0.6666666666666666,
              "#ed7953"
             ],
             [
              0.7777777777777778,
              "#fb9f3a"
             ],
             [
              0.8888888888888888,
              "#fdca26"
             ],
             [
              1,
              "#f0f921"
             ]
            ],
            "type": "heatmapgl"
           }
          ],
          "histogram": [
           {
            "marker": {
             "pattern": {
              "fillmode": "overlay",
              "size": 10,
              "solidity": 0.2
             }
            },
            "type": "histogram"
           }
          ],
          "histogram2d": [
           {
            "colorbar": {
             "outlinewidth": 0,
             "ticks": ""
            },
            "colorscale": [
             [
              0,
              "#0d0887"
             ],
             [
              0.1111111111111111,
              "#46039f"
             ],
             [
              0.2222222222222222,
              "#7201a8"
             ],
             [
              0.3333333333333333,
              "#9c179e"
             ],
             [
              0.4444444444444444,
              "#bd3786"
             ],
             [
              0.5555555555555556,
              "#d8576b"
             ],
             [
              0.6666666666666666,
              "#ed7953"
             ],
             [
              0.7777777777777778,
              "#fb9f3a"
             ],
             [
              0.8888888888888888,
              "#fdca26"
             ],
             [
              1,
              "#f0f921"
             ]
            ],
            "type": "histogram2d"
           }
          ],
          "histogram2dcontour": [
           {
            "colorbar": {
             "outlinewidth": 0,
             "ticks": ""
            },
            "colorscale": [
             [
              0,
              "#0d0887"
             ],
             [
              0.1111111111111111,
              "#46039f"
             ],
             [
              0.2222222222222222,
              "#7201a8"
             ],
             [
              0.3333333333333333,
              "#9c179e"
             ],
             [
              0.4444444444444444,
              "#bd3786"
             ],
             [
              0.5555555555555556,
              "#d8576b"
             ],
             [
              0.6666666666666666,
              "#ed7953"
             ],
             [
              0.7777777777777778,
              "#fb9f3a"
             ],
             [
              0.8888888888888888,
              "#fdca26"
             ],
             [
              1,
              "#f0f921"
             ]
            ],
            "type": "histogram2dcontour"
           }
          ],
          "mesh3d": [
           {
            "colorbar": {
             "outlinewidth": 0,
             "ticks": ""
            },
            "type": "mesh3d"
           }
          ],
          "parcoords": [
           {
            "line": {
             "colorbar": {
              "outlinewidth": 0,
              "ticks": ""
             }
            },
            "type": "parcoords"
           }
          ],
          "pie": [
           {
            "automargin": true,
            "type": "pie"
           }
          ],
          "scatter": [
           {
            "fillpattern": {
             "fillmode": "overlay",
             "size": 10,
             "solidity": 0.2
            },
            "type": "scatter"
           }
          ],
          "scatter3d": [
           {
            "line": {
             "colorbar": {
              "outlinewidth": 0,
              "ticks": ""
             }
            },
            "marker": {
             "colorbar": {
              "outlinewidth": 0,
              "ticks": ""
             }
            },
            "type": "scatter3d"
           }
          ],
          "scattercarpet": [
           {
            "marker": {
             "colorbar": {
              "outlinewidth": 0,
              "ticks": ""
             }
            },
            "type": "scattercarpet"
           }
          ],
          "scattergeo": [
           {
            "marker": {
             "colorbar": {
              "outlinewidth": 0,
              "ticks": ""
             }
            },
            "type": "scattergeo"
           }
          ],
          "scattergl": [
           {
            "marker": {
             "colorbar": {
              "outlinewidth": 0,
              "ticks": ""
             }
            },
            "type": "scattergl"
           }
          ],
          "scattermapbox": [
           {
            "marker": {
             "colorbar": {
              "outlinewidth": 0,
              "ticks": ""
             }
            },
            "type": "scattermapbox"
           }
          ],
          "scatterpolar": [
           {
            "marker": {
             "colorbar": {
              "outlinewidth": 0,
              "ticks": ""
             }
            },
            "type": "scatterpolar"
           }
          ],
          "scatterpolargl": [
           {
            "marker": {
             "colorbar": {
              "outlinewidth": 0,
              "ticks": ""
             }
            },
            "type": "scatterpolargl"
           }
          ],
          "scatterternary": [
           {
            "marker": {
             "colorbar": {
              "outlinewidth": 0,
              "ticks": ""
             }
            },
            "type": "scatterternary"
           }
          ],
          "surface": [
           {
            "colorbar": {
             "outlinewidth": 0,
             "ticks": ""
            },
            "colorscale": [
             [
              0,
              "#0d0887"
             ],
             [
              0.1111111111111111,
              "#46039f"
             ],
             [
              0.2222222222222222,
              "#7201a8"
             ],
             [
              0.3333333333333333,
              "#9c179e"
             ],
             [
              0.4444444444444444,
              "#bd3786"
             ],
             [
              0.5555555555555556,
              "#d8576b"
             ],
             [
              0.6666666666666666,
              "#ed7953"
             ],
             [
              0.7777777777777778,
              "#fb9f3a"
             ],
             [
              0.8888888888888888,
              "#fdca26"
             ],
             [
              1,
              "#f0f921"
             ]
            ],
            "type": "surface"
           }
          ],
          "table": [
           {
            "cells": {
             "fill": {
              "color": "#EBF0F8"
             },
             "line": {
              "color": "white"
             }
            },
            "header": {
             "fill": {
              "color": "#C8D4E3"
             },
             "line": {
              "color": "white"
             }
            },
            "type": "table"
           }
          ]
         },
         "layout": {
          "annotationdefaults": {
           "arrowcolor": "#2a3f5f",
           "arrowhead": 0,
           "arrowwidth": 1
          },
          "autotypenumbers": "strict",
          "coloraxis": {
           "colorbar": {
            "outlinewidth": 0,
            "ticks": ""
           }
          },
          "colorscale": {
           "diverging": [
            [
             0,
             "#8e0152"
            ],
            [
             0.1,
             "#c51b7d"
            ],
            [
             0.2,
             "#de77ae"
            ],
            [
             0.3,
             "#f1b6da"
            ],
            [
             0.4,
             "#fde0ef"
            ],
            [
             0.5,
             "#f7f7f7"
            ],
            [
             0.6,
             "#e6f5d0"
            ],
            [
             0.7,
             "#b8e186"
            ],
            [
             0.8,
             "#7fbc41"
            ],
            [
             0.9,
             "#4d9221"
            ],
            [
             1,
             "#276419"
            ]
           ],
           "sequential": [
            [
             0,
             "#0d0887"
            ],
            [
             0.1111111111111111,
             "#46039f"
            ],
            [
             0.2222222222222222,
             "#7201a8"
            ],
            [
             0.3333333333333333,
             "#9c179e"
            ],
            [
             0.4444444444444444,
             "#bd3786"
            ],
            [
             0.5555555555555556,
             "#d8576b"
            ],
            [
             0.6666666666666666,
             "#ed7953"
            ],
            [
             0.7777777777777778,
             "#fb9f3a"
            ],
            [
             0.8888888888888888,
             "#fdca26"
            ],
            [
             1,
             "#f0f921"
            ]
           ],
           "sequentialminus": [
            [
             0,
             "#0d0887"
            ],
            [
             0.1111111111111111,
             "#46039f"
            ],
            [
             0.2222222222222222,
             "#7201a8"
            ],
            [
             0.3333333333333333,
             "#9c179e"
            ],
            [
             0.4444444444444444,
             "#bd3786"
            ],
            [
             0.5555555555555556,
             "#d8576b"
            ],
            [
             0.6666666666666666,
             "#ed7953"
            ],
            [
             0.7777777777777778,
             "#fb9f3a"
            ],
            [
             0.8888888888888888,
             "#fdca26"
            ],
            [
             1,
             "#f0f921"
            ]
           ]
          },
          "colorway": [
           "#636efa",
           "#EF553B",
           "#00cc96",
           "#ab63fa",
           "#FFA15A",
           "#19d3f3",
           "#FF6692",
           "#B6E880",
           "#FF97FF",
           "#FECB52"
          ],
          "font": {
           "color": "#2a3f5f"
          },
          "geo": {
           "bgcolor": "white",
           "lakecolor": "white",
           "landcolor": "#E5ECF6",
           "showlakes": true,
           "showland": true,
           "subunitcolor": "white"
          },
          "hoverlabel": {
           "align": "left"
          },
          "hovermode": "closest",
          "mapbox": {
           "style": "light"
          },
          "paper_bgcolor": "white",
          "plot_bgcolor": "#E5ECF6",
          "polar": {
           "angularaxis": {
            "gridcolor": "white",
            "linecolor": "white",
            "ticks": ""
           },
           "bgcolor": "#E5ECF6",
           "radialaxis": {
            "gridcolor": "white",
            "linecolor": "white",
            "ticks": ""
           }
          },
          "scene": {
           "xaxis": {
            "backgroundcolor": "#E5ECF6",
            "gridcolor": "white",
            "gridwidth": 2,
            "linecolor": "white",
            "showbackground": true,
            "ticks": "",
            "zerolinecolor": "white"
           },
           "yaxis": {
            "backgroundcolor": "#E5ECF6",
            "gridcolor": "white",
            "gridwidth": 2,
            "linecolor": "white",
            "showbackground": true,
            "ticks": "",
            "zerolinecolor": "white"
           },
           "zaxis": {
            "backgroundcolor": "#E5ECF6",
            "gridcolor": "white",
            "gridwidth": 2,
            "linecolor": "white",
            "showbackground": true,
            "ticks": "",
            "zerolinecolor": "white"
           }
          },
          "shapedefaults": {
           "line": {
            "color": "#2a3f5f"
           }
          },
          "ternary": {
           "aaxis": {
            "gridcolor": "white",
            "linecolor": "white",
            "ticks": ""
           },
           "baxis": {
            "gridcolor": "white",
            "linecolor": "white",
            "ticks": ""
           },
           "bgcolor": "#E5ECF6",
           "caxis": {
            "gridcolor": "white",
            "linecolor": "white",
            "ticks": ""
           }
          },
          "title": {
           "x": 0.05
          },
          "xaxis": {
           "automargin": true,
           "gridcolor": "white",
           "linecolor": "white",
           "ticks": "",
           "title": {
            "standoff": 15
           },
           "zerolinecolor": "white",
           "zerolinewidth": 2
          },
          "yaxis": {
           "automargin": true,
           "gridcolor": "white",
           "linecolor": "white",
           "ticks": "",
           "title": {
            "standoff": 15
           },
           "zerolinecolor": "white",
           "zerolinewidth": 2
          }
         }
        },
        "title": {
         "text": "Data Distribution of Population"
        },
        "xaxis": {
         "anchor": "y",
         "domain": [
          0,
          1
         ],
         "title": {
          "text": "Population"
         }
        },
        "yaxis": {
         "anchor": "x",
         "domain": [
          0,
          1
         ],
         "title": {
          "text": "count"
         }
        }
       }
      },
      "text/html": [
       "<div>                            <div id=\"78fa6478-c4e0-4c99-a601-e8f6c88c5ef9\" class=\"plotly-graph-div\" style=\"height:525px; width:100%;\"></div>            <script type=\"text/javascript\">                require([\"plotly\"], function(Plotly) {                    window.PLOTLYENV=window.PLOTLYENV || {};                                    if (document.getElementById(\"78fa6478-c4e0-4c99-a601-e8f6c88c5ef9\")) {                    Plotly.newPlot(                        \"78fa6478-c4e0-4c99-a601-e8f6c88c5ef9\",                        [{\"alignmentgroup\":\"True\",\"bingroup\":\"x\",\"hovertemplate\":\"Population=%{x}\\u003cbr\\u003ecount=%{y}\\u003cextra\\u003e\\u003c\\u002fextra\\u003e\",\"legendgroup\":\"\",\"marker\":{\"color\":\"#636efa\",\"pattern\":{\"shape\":\"\"}},\"name\":\"\",\"offsetgroup\":\"\",\"orientation\":\"v\",\"showlegend\":false,\"x\":[334805269.0,1406631776.0,65584518.0,215353593.0,83883596.0,51329899.0,68497907.0,60262770.0,125584838.0,145805947.0,85561976.0,46719142.0,98953541.0,26068792.0,46010234.0,17211447.0,86022837.0,131562772.0,279134505.0,23888595.0,51512762.0,37739785.0,10140570.0,43192122.0,9066710.0,10316637.0,33181072.0,25990679.0,70078203.0,9326000.0,19250195.0,11668278.0,38388419.0,33684208.0,10736784.0,8773637.0,60756135.0,112508994.0,19031335.0,5834950.0,10218971.0,42164965.0,8653016.0,9606259.0,167885689.0,5943546.0,5460193.0,3968738.0,4898203.0,7604299.0,10300869.0,5020199.0,229488994.0,5511370.0,19205043.0,5554960.0,37772756.0,6844597.0,2661708.0,4059286.0,6684849.0,2078034.0,12046656.0,18584039.0,11305652.0,11992656.0,5182354.0,10081785.0,18113361.0,30225582.0,9432800.0,4446964.0,3496016.0,3378078.0,1848837.0,10300205.0,35844909.0,7305843.0,1783983.0,21575842.0,4380326.0,11056370.0,55227143.0,5345541.0,1321910.0,4013171.0,1223387.0,29266991.0,106156692.0,7040745.0,120812698.0,908061.0,10221247.0,2979915.0,2971966.0,3249317.0,5323993.0,2081304.0,56215221.0,19470234.0,2866374.0,2441162.0,642371.0,627950.0,45350148.0,216746934.0,15331428.0,1448471400.0,34382084.0,33089461.0,445431.0,374087.0,7481023.0,6728271.0,345393.0,6550389.0,40754388.0,399794.0,540985.0,1406585.0,48432863.0,2633874.0,32395450.0,2985094.0,17168639.0,13600464.0,27911548.0,444033.0,35027343.0,288023.0,314169.0,95240792.0,176463.0,17653671.0,20180839.0,27742298.0,596831.0,284164.0,290915.0,1184817.0,794045.0,412190.0,909466.0,29178077.0,45992020.0,4901981.0,567678.0,787941.0,19364809.0,12624840.0,2331533.0,99426.0,77463.0,165529.0,9292169.0,107609.0,1274727.0,286259.0,63298550.0,8680837.0,85732.0,13865691.0,400516.0,49233.0,2175699.0,11680283.0,21473764.0,67277.0,185113.0,12784726.0,16841795.0,5797805.0,1369429.0,22102838.0,721159.0,34085.0,33704.0,38387.0,113475.0,6779100.0,61939.0,11618511.0,9957464.0,1496662.0,107749.0,202239.0,72344.0,1016097.0,60057.0,5016678.0,39783.0,2558482.0,39730.0,56973.0,31154867.0,321832.0,26647.0,43966.0,3662244.0,26083660.0,117489.0,99509.0,2063367.0,907419.0,5305117.0,8306436.0,17413580.0,30596.0,111551.0,53871.0,17571.0,39741.0,227679.0,18233.0,9945.0,10903.0,15230.0,123419.0,5759.0,3539.0,4965.0,6115.0,667490.0,10982.0,1016097.0,1622.0,799.0,12066.0,626161.0,1016097.0],\"xaxis\":\"x\",\"yaxis\":\"y\",\"type\":\"histogram\"}],                        {\"template\":{\"data\":{\"histogram2dcontour\":[{\"type\":\"histogram2dcontour\",\"colorbar\":{\"outlinewidth\":0,\"ticks\":\"\"},\"colorscale\":[[0.0,\"#0d0887\"],[0.1111111111111111,\"#46039f\"],[0.2222222222222222,\"#7201a8\"],[0.3333333333333333,\"#9c179e\"],[0.4444444444444444,\"#bd3786\"],[0.5555555555555556,\"#d8576b\"],[0.6666666666666666,\"#ed7953\"],[0.7777777777777778,\"#fb9f3a\"],[0.8888888888888888,\"#fdca26\"],[1.0,\"#f0f921\"]]}],\"choropleth\":[{\"type\":\"choropleth\",\"colorbar\":{\"outlinewidth\":0,\"ticks\":\"\"}}],\"histogram2d\":[{\"type\":\"histogram2d\",\"colorbar\":{\"outlinewidth\":0,\"ticks\":\"\"},\"colorscale\":[[0.0,\"#0d0887\"],[0.1111111111111111,\"#46039f\"],[0.2222222222222222,\"#7201a8\"],[0.3333333333333333,\"#9c179e\"],[0.4444444444444444,\"#bd3786\"],[0.5555555555555556,\"#d8576b\"],[0.6666666666666666,\"#ed7953\"],[0.7777777777777778,\"#fb9f3a\"],[0.8888888888888888,\"#fdca26\"],[1.0,\"#f0f921\"]]}],\"heatmap\":[{\"type\":\"heatmap\",\"colorbar\":{\"outlinewidth\":0,\"ticks\":\"\"},\"colorscale\":[[0.0,\"#0d0887\"],[0.1111111111111111,\"#46039f\"],[0.2222222222222222,\"#7201a8\"],[0.3333333333333333,\"#9c179e\"],[0.4444444444444444,\"#bd3786\"],[0.5555555555555556,\"#d8576b\"],[0.6666666666666666,\"#ed7953\"],[0.7777777777777778,\"#fb9f3a\"],[0.8888888888888888,\"#fdca26\"],[1.0,\"#f0f921\"]]}],\"heatmapgl\":[{\"type\":\"heatmapgl\",\"colorbar\":{\"outlinewidth\":0,\"ticks\":\"\"},\"colorscale\":[[0.0,\"#0d0887\"],[0.1111111111111111,\"#46039f\"],[0.2222222222222222,\"#7201a8\"],[0.3333333333333333,\"#9c179e\"],[0.4444444444444444,\"#bd3786\"],[0.5555555555555556,\"#d8576b\"],[0.6666666666666666,\"#ed7953\"],[0.7777777777777778,\"#fb9f3a\"],[0.8888888888888888,\"#fdca26\"],[1.0,\"#f0f921\"]]}],\"contourcarpet\":[{\"type\":\"contourcarpet\",\"colorbar\":{\"outlinewidth\":0,\"ticks\":\"\"}}],\"contour\":[{\"type\":\"contour\",\"colorbar\":{\"outlinewidth\":0,\"ticks\":\"\"},\"colorscale\":[[0.0,\"#0d0887\"],[0.1111111111111111,\"#46039f\"],[0.2222222222222222,\"#7201a8\"],[0.3333333333333333,\"#9c179e\"],[0.4444444444444444,\"#bd3786\"],[0.5555555555555556,\"#d8576b\"],[0.6666666666666666,\"#ed7953\"],[0.7777777777777778,\"#fb9f3a\"],[0.8888888888888888,\"#fdca26\"],[1.0,\"#f0f921\"]]}],\"surface\":[{\"type\":\"surface\",\"colorbar\":{\"outlinewidth\":0,\"ticks\":\"\"},\"colorscale\":[[0.0,\"#0d0887\"],[0.1111111111111111,\"#46039f\"],[0.2222222222222222,\"#7201a8\"],[0.3333333333333333,\"#9c179e\"],[0.4444444444444444,\"#bd3786\"],[0.5555555555555556,\"#d8576b\"],[0.6666666666666666,\"#ed7953\"],[0.7777777777777778,\"#fb9f3a\"],[0.8888888888888888,\"#fdca26\"],[1.0,\"#f0f921\"]]}],\"mesh3d\":[{\"type\":\"mesh3d\",\"colorbar\":{\"outlinewidth\":0,\"ticks\":\"\"}}],\"scatter\":[{\"fillpattern\":{\"fillmode\":\"overlay\",\"size\":10,\"solidity\":0.2},\"type\":\"scatter\"}],\"parcoords\":[{\"type\":\"parcoords\",\"line\":{\"colorbar\":{\"outlinewidth\":0,\"ticks\":\"\"}}}],\"scatterpolargl\":[{\"type\":\"scatterpolargl\",\"marker\":{\"colorbar\":{\"outlinewidth\":0,\"ticks\":\"\"}}}],\"bar\":[{\"error_x\":{\"color\":\"#2a3f5f\"},\"error_y\":{\"color\":\"#2a3f5f\"},\"marker\":{\"line\":{\"color\":\"#E5ECF6\",\"width\":0.5},\"pattern\":{\"fillmode\":\"overlay\",\"size\":10,\"solidity\":0.2}},\"type\":\"bar\"}],\"scattergeo\":[{\"type\":\"scattergeo\",\"marker\":{\"colorbar\":{\"outlinewidth\":0,\"ticks\":\"\"}}}],\"scatterpolar\":[{\"type\":\"scatterpolar\",\"marker\":{\"colorbar\":{\"outlinewidth\":0,\"ticks\":\"\"}}}],\"histogram\":[{\"marker\":{\"pattern\":{\"fillmode\":\"overlay\",\"size\":10,\"solidity\":0.2}},\"type\":\"histogram\"}],\"scattergl\":[{\"type\":\"scattergl\",\"marker\":{\"colorbar\":{\"outlinewidth\":0,\"ticks\":\"\"}}}],\"scatter3d\":[{\"type\":\"scatter3d\",\"line\":{\"colorbar\":{\"outlinewidth\":0,\"ticks\":\"\"}},\"marker\":{\"colorbar\":{\"outlinewidth\":0,\"ticks\":\"\"}}}],\"scattermapbox\":[{\"type\":\"scattermapbox\",\"marker\":{\"colorbar\":{\"outlinewidth\":0,\"ticks\":\"\"}}}],\"scatterternary\":[{\"type\":\"scatterternary\",\"marker\":{\"colorbar\":{\"outlinewidth\":0,\"ticks\":\"\"}}}],\"scattercarpet\":[{\"type\":\"scattercarpet\",\"marker\":{\"colorbar\":{\"outlinewidth\":0,\"ticks\":\"\"}}}],\"carpet\":[{\"aaxis\":{\"endlinecolor\":\"#2a3f5f\",\"gridcolor\":\"white\",\"linecolor\":\"white\",\"minorgridcolor\":\"white\",\"startlinecolor\":\"#2a3f5f\"},\"baxis\":{\"endlinecolor\":\"#2a3f5f\",\"gridcolor\":\"white\",\"linecolor\":\"white\",\"minorgridcolor\":\"white\",\"startlinecolor\":\"#2a3f5f\"},\"type\":\"carpet\"}],\"table\":[{\"cells\":{\"fill\":{\"color\":\"#EBF0F8\"},\"line\":{\"color\":\"white\"}},\"header\":{\"fill\":{\"color\":\"#C8D4E3\"},\"line\":{\"color\":\"white\"}},\"type\":\"table\"}],\"barpolar\":[{\"marker\":{\"line\":{\"color\":\"#E5ECF6\",\"width\":0.5},\"pattern\":{\"fillmode\":\"overlay\",\"size\":10,\"solidity\":0.2}},\"type\":\"barpolar\"}],\"pie\":[{\"automargin\":true,\"type\":\"pie\"}]},\"layout\":{\"autotypenumbers\":\"strict\",\"colorway\":[\"#636efa\",\"#EF553B\",\"#00cc96\",\"#ab63fa\",\"#FFA15A\",\"#19d3f3\",\"#FF6692\",\"#B6E880\",\"#FF97FF\",\"#FECB52\"],\"font\":{\"color\":\"#2a3f5f\"},\"hovermode\":\"closest\",\"hoverlabel\":{\"align\":\"left\"},\"paper_bgcolor\":\"white\",\"plot_bgcolor\":\"#E5ECF6\",\"polar\":{\"bgcolor\":\"#E5ECF6\",\"angularaxis\":{\"gridcolor\":\"white\",\"linecolor\":\"white\",\"ticks\":\"\"},\"radialaxis\":{\"gridcolor\":\"white\",\"linecolor\":\"white\",\"ticks\":\"\"}},\"ternary\":{\"bgcolor\":\"#E5ECF6\",\"aaxis\":{\"gridcolor\":\"white\",\"linecolor\":\"white\",\"ticks\":\"\"},\"baxis\":{\"gridcolor\":\"white\",\"linecolor\":\"white\",\"ticks\":\"\"},\"caxis\":{\"gridcolor\":\"white\",\"linecolor\":\"white\",\"ticks\":\"\"}},\"coloraxis\":{\"colorbar\":{\"outlinewidth\":0,\"ticks\":\"\"}},\"colorscale\":{\"sequential\":[[0.0,\"#0d0887\"],[0.1111111111111111,\"#46039f\"],[0.2222222222222222,\"#7201a8\"],[0.3333333333333333,\"#9c179e\"],[0.4444444444444444,\"#bd3786\"],[0.5555555555555556,\"#d8576b\"],[0.6666666666666666,\"#ed7953\"],[0.7777777777777778,\"#fb9f3a\"],[0.8888888888888888,\"#fdca26\"],[1.0,\"#f0f921\"]],\"sequentialminus\":[[0.0,\"#0d0887\"],[0.1111111111111111,\"#46039f\"],[0.2222222222222222,\"#7201a8\"],[0.3333333333333333,\"#9c179e\"],[0.4444444444444444,\"#bd3786\"],[0.5555555555555556,\"#d8576b\"],[0.6666666666666666,\"#ed7953\"],[0.7777777777777778,\"#fb9f3a\"],[0.8888888888888888,\"#fdca26\"],[1.0,\"#f0f921\"]],\"diverging\":[[0,\"#8e0152\"],[0.1,\"#c51b7d\"],[0.2,\"#de77ae\"],[0.3,\"#f1b6da\"],[0.4,\"#fde0ef\"],[0.5,\"#f7f7f7\"],[0.6,\"#e6f5d0\"],[0.7,\"#b8e186\"],[0.8,\"#7fbc41\"],[0.9,\"#4d9221\"],[1,\"#276419\"]]},\"xaxis\":{\"gridcolor\":\"white\",\"linecolor\":\"white\",\"ticks\":\"\",\"title\":{\"standoff\":15},\"zerolinecolor\":\"white\",\"automargin\":true,\"zerolinewidth\":2},\"yaxis\":{\"gridcolor\":\"white\",\"linecolor\":\"white\",\"ticks\":\"\",\"title\":{\"standoff\":15},\"zerolinecolor\":\"white\",\"automargin\":true,\"zerolinewidth\":2},\"scene\":{\"xaxis\":{\"backgroundcolor\":\"#E5ECF6\",\"gridcolor\":\"white\",\"linecolor\":\"white\",\"showbackground\":true,\"ticks\":\"\",\"zerolinecolor\":\"white\",\"gridwidth\":2},\"yaxis\":{\"backgroundcolor\":\"#E5ECF6\",\"gridcolor\":\"white\",\"linecolor\":\"white\",\"showbackground\":true,\"ticks\":\"\",\"zerolinecolor\":\"white\",\"gridwidth\":2},\"zaxis\":{\"backgroundcolor\":\"#E5ECF6\",\"gridcolor\":\"white\",\"linecolor\":\"white\",\"showbackground\":true,\"ticks\":\"\",\"zerolinecolor\":\"white\",\"gridwidth\":2}},\"shapedefaults\":{\"line\":{\"color\":\"#2a3f5f\"}},\"annotationdefaults\":{\"arrowcolor\":\"#2a3f5f\",\"arrowhead\":0,\"arrowwidth\":1},\"geo\":{\"bgcolor\":\"white\",\"landcolor\":\"#E5ECF6\",\"subunitcolor\":\"white\",\"showland\":true,\"showlakes\":true,\"lakecolor\":\"white\"},\"title\":{\"x\":0.05},\"mapbox\":{\"style\":\"light\"}}},\"xaxis\":{\"anchor\":\"y\",\"domain\":[0.0,1.0],\"title\":{\"text\":\"Population\"}},\"yaxis\":{\"anchor\":\"x\",\"domain\":[0.0,1.0],\"title\":{\"text\":\"count\"}},\"legend\":{\"tracegroupgap\":0},\"title\":{\"text\":\"Data Distribution of Population\"},\"barmode\":\"relative\"},                        {\"responsive\": true}                    ).then(function(){\n",
       "                            \n",
       "var gd = document.getElementById('78fa6478-c4e0-4c99-a601-e8f6c88c5ef9');\n",
       "var x = new MutationObserver(function (mutations, observer) {{\n",
       "        var display = window.getComputedStyle(gd).display;\n",
       "        if (!display || display === 'none') {{\n",
       "            console.log([gd, 'removed!']);\n",
       "            Plotly.purge(gd);\n",
       "            observer.disconnect();\n",
       "        }}\n",
       "}});\n",
       "\n",
       "// Listen for the removal of the full notebook cells\n",
       "var notebookContainer = gd.closest('#notebook-container');\n",
       "if (notebookContainer) {{\n",
       "    x.observe(notebookContainer, {childList: true});\n",
       "}}\n",
       "\n",
       "// Listen for the clearing of the current output cell\n",
       "var outputEl = gd.closest('.output');\n",
       "if (outputEl) {{\n",
       "    x.observe(outputEl, {childList: true});\n",
       "}}\n",
       "\n",
       "                        })                };                });            </script>        </div>"
      ]
     },
     "metadata": {},
     "output_type": "display_data"
    }
   ],
   "source": [
    "fig = px.histogram(data, x=\"Population\", title=\"Data Distribution of Population\")\n",
    "fig.show()"
   ]
  },
  {
   "cell_type": "code",
   "execution_count": 92,
   "metadata": {},
   "outputs": [
    {
     "data": {
      "application/vnd.plotly.v1+json": {
       "config": {
        "plotlyServerURL": "https://plot.ly"
       },
       "data": [
        {
         "alignmentgroup": "True",
         "bingroup": "x",
         "hovertemplate": "Total_Cases=%{x}<br>count=%{y}<extra></extra>",
         "legendgroup": "",
         "marker": {
          "color": "#636efa",
          "pattern": {
           "shape": ""
          }
         },
         "name": "",
         "offsetgroup": "",
         "orientation": "v",
         "showlegend": false,
         "type": "histogram",
         "x": [
          98166904,
          44587307,
          35342950,
          34706757,
          33312373,
          24769101,
          23621952,
          22432803,
          21229216,
          20948470,
          16873793,
          13412263,
          11477886,
          10209239,
          9708420,
          8422336,
          7548320,
          7084488,
          6429767,
          6417941,
          6307372,
          6289672,
          5490639,
          5177217,
          5118512,
          4920192,
          4838872,
          4772813,
          4681309,
          4661096,
          4620377,
          4533249,
          4233468,
          4143085,
          4100480,
          4084307,
          4018769,
          3945566,
          3267370,
          3110831,
          2588441,
          2459982,
          2359530,
          2094142,
          2024489,
          1904192,
          1843220,
          1780691,
          1779476,
          1761381,
          1746997,
          1663653,
          1572598,
          1462318,
          1393468,
          1292940,
          1264935,
          1258670,
          1249134,
          1231575,
          1215511,
          1181073,
          1145686,
          1123465,
          1111179,
          1108195,
          1072807,
          1027031,
          1003778,
          999712,
          994037,
          986866,
          985422,
          982864,
          929051,
          821162,
          816389,
          716059,
          680271,
          670763,
          658520,
          644016,
          622802,
          620548,
          601869,
          589388,
          585313,
          544687,
          515645,
          506991,
          493563,
          472336,
          456391,
          450448,
          442875,
          398668,
          397993,
          342775,
          338420,
          333531,
          332173,
          326308,
          288658,
          280002,
          270668,
          265382,
          257409,
          250449,
          244199,
          230219,
          226237,
          221618,
          215843,
          206083,
          205637,
          201785,
          199067,
          192801,
          185042,
          182597,
          169396,
          169253,
          169100,
          151829,
          137870,
          132498,
          121652,
          114652,
          103131,
          102546,
          93974,
          92852,
          91561,
          88373,
          88024,
          87208,
          81106,
          76599,
          74152,
          73390,
          71336,
          68826,
          68242,
          66676,
          63285,
          62812,
          62371,
          61730,
          57299,
          50129,
          48691,
          47141,
          46227,
          45127,
          44997,
          42914,
          40461,
          40243,
          39440,
          39034,
          38008,
          37652,
          37267,
          34658,
          34490,
          33733,
          32625,
          30661,
          29408,
          27638,
          27214,
          24837,
          23253,
          21631,
          21544,
          20763,
          20092,
          19713,
          19536,
          18491,
          18154,
          17823,
          17786,
          17012,
          16182,
          15925,
          15747,
          15690,
          15275,
          14913,
          14608,
          12508,
          11978,
          11971,
          11935,
          11930,
          11235,
          10863,
          10169,
          9931,
          9759,
          9098,
          8796,
          8471,
          7961,
          7751,
          7583,
          7305,
          7112,
          6541,
          6389,
          6380,
          6230,
          5460,
          5285,
          4611,
          3865,
          3430,
          3188,
          1886,
          1396,
          1355,
          793,
          761,
          712,
          80,
          29,
          20,
          10,
          9
         ],
         "xaxis": "x",
         "yaxis": "y"
        }
       ],
       "layout": {
        "barmode": "relative",
        "legend": {
         "tracegroupgap": 0
        },
        "template": {
         "data": {
          "bar": [
           {
            "error_x": {
             "color": "#2a3f5f"
            },
            "error_y": {
             "color": "#2a3f5f"
            },
            "marker": {
             "line": {
              "color": "#E5ECF6",
              "width": 0.5
             },
             "pattern": {
              "fillmode": "overlay",
              "size": 10,
              "solidity": 0.2
             }
            },
            "type": "bar"
           }
          ],
          "barpolar": [
           {
            "marker": {
             "line": {
              "color": "#E5ECF6",
              "width": 0.5
             },
             "pattern": {
              "fillmode": "overlay",
              "size": 10,
              "solidity": 0.2
             }
            },
            "type": "barpolar"
           }
          ],
          "carpet": [
           {
            "aaxis": {
             "endlinecolor": "#2a3f5f",
             "gridcolor": "white",
             "linecolor": "white",
             "minorgridcolor": "white",
             "startlinecolor": "#2a3f5f"
            },
            "baxis": {
             "endlinecolor": "#2a3f5f",
             "gridcolor": "white",
             "linecolor": "white",
             "minorgridcolor": "white",
             "startlinecolor": "#2a3f5f"
            },
            "type": "carpet"
           }
          ],
          "choropleth": [
           {
            "colorbar": {
             "outlinewidth": 0,
             "ticks": ""
            },
            "type": "choropleth"
           }
          ],
          "contour": [
           {
            "colorbar": {
             "outlinewidth": 0,
             "ticks": ""
            },
            "colorscale": [
             [
              0,
              "#0d0887"
             ],
             [
              0.1111111111111111,
              "#46039f"
             ],
             [
              0.2222222222222222,
              "#7201a8"
             ],
             [
              0.3333333333333333,
              "#9c179e"
             ],
             [
              0.4444444444444444,
              "#bd3786"
             ],
             [
              0.5555555555555556,
              "#d8576b"
             ],
             [
              0.6666666666666666,
              "#ed7953"
             ],
             [
              0.7777777777777778,
              "#fb9f3a"
             ],
             [
              0.8888888888888888,
              "#fdca26"
             ],
             [
              1,
              "#f0f921"
             ]
            ],
            "type": "contour"
           }
          ],
          "contourcarpet": [
           {
            "colorbar": {
             "outlinewidth": 0,
             "ticks": ""
            },
            "type": "contourcarpet"
           }
          ],
          "heatmap": [
           {
            "colorbar": {
             "outlinewidth": 0,
             "ticks": ""
            },
            "colorscale": [
             [
              0,
              "#0d0887"
             ],
             [
              0.1111111111111111,
              "#46039f"
             ],
             [
              0.2222222222222222,
              "#7201a8"
             ],
             [
              0.3333333333333333,
              "#9c179e"
             ],
             [
              0.4444444444444444,
              "#bd3786"
             ],
             [
              0.5555555555555556,
              "#d8576b"
             ],
             [
              0.6666666666666666,
              "#ed7953"
             ],
             [
              0.7777777777777778,
              "#fb9f3a"
             ],
             [
              0.8888888888888888,
              "#fdca26"
             ],
             [
              1,
              "#f0f921"
             ]
            ],
            "type": "heatmap"
           }
          ],
          "heatmapgl": [
           {
            "colorbar": {
             "outlinewidth": 0,
             "ticks": ""
            },
            "colorscale": [
             [
              0,
              "#0d0887"
             ],
             [
              0.1111111111111111,
              "#46039f"
             ],
             [
              0.2222222222222222,
              "#7201a8"
             ],
             [
              0.3333333333333333,
              "#9c179e"
             ],
             [
              0.4444444444444444,
              "#bd3786"
             ],
             [
              0.5555555555555556,
              "#d8576b"
             ],
             [
              0.6666666666666666,
              "#ed7953"
             ],
             [
              0.7777777777777778,
              "#fb9f3a"
             ],
             [
              0.8888888888888888,
              "#fdca26"
             ],
             [
              1,
              "#f0f921"
             ]
            ],
            "type": "heatmapgl"
           }
          ],
          "histogram": [
           {
            "marker": {
             "pattern": {
              "fillmode": "overlay",
              "size": 10,
              "solidity": 0.2
             }
            },
            "type": "histogram"
           }
          ],
          "histogram2d": [
           {
            "colorbar": {
             "outlinewidth": 0,
             "ticks": ""
            },
            "colorscale": [
             [
              0,
              "#0d0887"
             ],
             [
              0.1111111111111111,
              "#46039f"
             ],
             [
              0.2222222222222222,
              "#7201a8"
             ],
             [
              0.3333333333333333,
              "#9c179e"
             ],
             [
              0.4444444444444444,
              "#bd3786"
             ],
             [
              0.5555555555555556,
              "#d8576b"
             ],
             [
              0.6666666666666666,
              "#ed7953"
             ],
             [
              0.7777777777777778,
              "#fb9f3a"
             ],
             [
              0.8888888888888888,
              "#fdca26"
             ],
             [
              1,
              "#f0f921"
             ]
            ],
            "type": "histogram2d"
           }
          ],
          "histogram2dcontour": [
           {
            "colorbar": {
             "outlinewidth": 0,
             "ticks": ""
            },
            "colorscale": [
             [
              0,
              "#0d0887"
             ],
             [
              0.1111111111111111,
              "#46039f"
             ],
             [
              0.2222222222222222,
              "#7201a8"
             ],
             [
              0.3333333333333333,
              "#9c179e"
             ],
             [
              0.4444444444444444,
              "#bd3786"
             ],
             [
              0.5555555555555556,
              "#d8576b"
             ],
             [
              0.6666666666666666,
              "#ed7953"
             ],
             [
              0.7777777777777778,
              "#fb9f3a"
             ],
             [
              0.8888888888888888,
              "#fdca26"
             ],
             [
              1,
              "#f0f921"
             ]
            ],
            "type": "histogram2dcontour"
           }
          ],
          "mesh3d": [
           {
            "colorbar": {
             "outlinewidth": 0,
             "ticks": ""
            },
            "type": "mesh3d"
           }
          ],
          "parcoords": [
           {
            "line": {
             "colorbar": {
              "outlinewidth": 0,
              "ticks": ""
             }
            },
            "type": "parcoords"
           }
          ],
          "pie": [
           {
            "automargin": true,
            "type": "pie"
           }
          ],
          "scatter": [
           {
            "fillpattern": {
             "fillmode": "overlay",
             "size": 10,
             "solidity": 0.2
            },
            "type": "scatter"
           }
          ],
          "scatter3d": [
           {
            "line": {
             "colorbar": {
              "outlinewidth": 0,
              "ticks": ""
             }
            },
            "marker": {
             "colorbar": {
              "outlinewidth": 0,
              "ticks": ""
             }
            },
            "type": "scatter3d"
           }
          ],
          "scattercarpet": [
           {
            "marker": {
             "colorbar": {
              "outlinewidth": 0,
              "ticks": ""
             }
            },
            "type": "scattercarpet"
           }
          ],
          "scattergeo": [
           {
            "marker": {
             "colorbar": {
              "outlinewidth": 0,
              "ticks": ""
             }
            },
            "type": "scattergeo"
           }
          ],
          "scattergl": [
           {
            "marker": {
             "colorbar": {
              "outlinewidth": 0,
              "ticks": ""
             }
            },
            "type": "scattergl"
           }
          ],
          "scattermapbox": [
           {
            "marker": {
             "colorbar": {
              "outlinewidth": 0,
              "ticks": ""
             }
            },
            "type": "scattermapbox"
           }
          ],
          "scatterpolar": [
           {
            "marker": {
             "colorbar": {
              "outlinewidth": 0,
              "ticks": ""
             }
            },
            "type": "scatterpolar"
           }
          ],
          "scatterpolargl": [
           {
            "marker": {
             "colorbar": {
              "outlinewidth": 0,
              "ticks": ""
             }
            },
            "type": "scatterpolargl"
           }
          ],
          "scatterternary": [
           {
            "marker": {
             "colorbar": {
              "outlinewidth": 0,
              "ticks": ""
             }
            },
            "type": "scatterternary"
           }
          ],
          "surface": [
           {
            "colorbar": {
             "outlinewidth": 0,
             "ticks": ""
            },
            "colorscale": [
             [
              0,
              "#0d0887"
             ],
             [
              0.1111111111111111,
              "#46039f"
             ],
             [
              0.2222222222222222,
              "#7201a8"
             ],
             [
              0.3333333333333333,
              "#9c179e"
             ],
             [
              0.4444444444444444,
              "#bd3786"
             ],
             [
              0.5555555555555556,
              "#d8576b"
             ],
             [
              0.6666666666666666,
              "#ed7953"
             ],
             [
              0.7777777777777778,
              "#fb9f3a"
             ],
             [
              0.8888888888888888,
              "#fdca26"
             ],
             [
              1,
              "#f0f921"
             ]
            ],
            "type": "surface"
           }
          ],
          "table": [
           {
            "cells": {
             "fill": {
              "color": "#EBF0F8"
             },
             "line": {
              "color": "white"
             }
            },
            "header": {
             "fill": {
              "color": "#C8D4E3"
             },
             "line": {
              "color": "white"
             }
            },
            "type": "table"
           }
          ]
         },
         "layout": {
          "annotationdefaults": {
           "arrowcolor": "#2a3f5f",
           "arrowhead": 0,
           "arrowwidth": 1
          },
          "autotypenumbers": "strict",
          "coloraxis": {
           "colorbar": {
            "outlinewidth": 0,
            "ticks": ""
           }
          },
          "colorscale": {
           "diverging": [
            [
             0,
             "#8e0152"
            ],
            [
             0.1,
             "#c51b7d"
            ],
            [
             0.2,
             "#de77ae"
            ],
            [
             0.3,
             "#f1b6da"
            ],
            [
             0.4,
             "#fde0ef"
            ],
            [
             0.5,
             "#f7f7f7"
            ],
            [
             0.6,
             "#e6f5d0"
            ],
            [
             0.7,
             "#b8e186"
            ],
            [
             0.8,
             "#7fbc41"
            ],
            [
             0.9,
             "#4d9221"
            ],
            [
             1,
             "#276419"
            ]
           ],
           "sequential": [
            [
             0,
             "#0d0887"
            ],
            [
             0.1111111111111111,
             "#46039f"
            ],
            [
             0.2222222222222222,
             "#7201a8"
            ],
            [
             0.3333333333333333,
             "#9c179e"
            ],
            [
             0.4444444444444444,
             "#bd3786"
            ],
            [
             0.5555555555555556,
             "#d8576b"
            ],
            [
             0.6666666666666666,
             "#ed7953"
            ],
            [
             0.7777777777777778,
             "#fb9f3a"
            ],
            [
             0.8888888888888888,
             "#fdca26"
            ],
            [
             1,
             "#f0f921"
            ]
           ],
           "sequentialminus": [
            [
             0,
             "#0d0887"
            ],
            [
             0.1111111111111111,
             "#46039f"
            ],
            [
             0.2222222222222222,
             "#7201a8"
            ],
            [
             0.3333333333333333,
             "#9c179e"
            ],
            [
             0.4444444444444444,
             "#bd3786"
            ],
            [
             0.5555555555555556,
             "#d8576b"
            ],
            [
             0.6666666666666666,
             "#ed7953"
            ],
            [
             0.7777777777777778,
             "#fb9f3a"
            ],
            [
             0.8888888888888888,
             "#fdca26"
            ],
            [
             1,
             "#f0f921"
            ]
           ]
          },
          "colorway": [
           "#636efa",
           "#EF553B",
           "#00cc96",
           "#ab63fa",
           "#FFA15A",
           "#19d3f3",
           "#FF6692",
           "#B6E880",
           "#FF97FF",
           "#FECB52"
          ],
          "font": {
           "color": "#2a3f5f"
          },
          "geo": {
           "bgcolor": "white",
           "lakecolor": "white",
           "landcolor": "#E5ECF6",
           "showlakes": true,
           "showland": true,
           "subunitcolor": "white"
          },
          "hoverlabel": {
           "align": "left"
          },
          "hovermode": "closest",
          "mapbox": {
           "style": "light"
          },
          "paper_bgcolor": "white",
          "plot_bgcolor": "#E5ECF6",
          "polar": {
           "angularaxis": {
            "gridcolor": "white",
            "linecolor": "white",
            "ticks": ""
           },
           "bgcolor": "#E5ECF6",
           "radialaxis": {
            "gridcolor": "white",
            "linecolor": "white",
            "ticks": ""
           }
          },
          "scene": {
           "xaxis": {
            "backgroundcolor": "#E5ECF6",
            "gridcolor": "white",
            "gridwidth": 2,
            "linecolor": "white",
            "showbackground": true,
            "ticks": "",
            "zerolinecolor": "white"
           },
           "yaxis": {
            "backgroundcolor": "#E5ECF6",
            "gridcolor": "white",
            "gridwidth": 2,
            "linecolor": "white",
            "showbackground": true,
            "ticks": "",
            "zerolinecolor": "white"
           },
           "zaxis": {
            "backgroundcolor": "#E5ECF6",
            "gridcolor": "white",
            "gridwidth": 2,
            "linecolor": "white",
            "showbackground": true,
            "ticks": "",
            "zerolinecolor": "white"
           }
          },
          "shapedefaults": {
           "line": {
            "color": "#2a3f5f"
           }
          },
          "ternary": {
           "aaxis": {
            "gridcolor": "white",
            "linecolor": "white",
            "ticks": ""
           },
           "baxis": {
            "gridcolor": "white",
            "linecolor": "white",
            "ticks": ""
           },
           "bgcolor": "#E5ECF6",
           "caxis": {
            "gridcolor": "white",
            "linecolor": "white",
            "ticks": ""
           }
          },
          "title": {
           "x": 0.05
          },
          "xaxis": {
           "automargin": true,
           "gridcolor": "white",
           "linecolor": "white",
           "ticks": "",
           "title": {
            "standoff": 15
           },
           "zerolinecolor": "white",
           "zerolinewidth": 2
          },
          "yaxis": {
           "automargin": true,
           "gridcolor": "white",
           "linecolor": "white",
           "ticks": "",
           "title": {
            "standoff": 15
           },
           "zerolinecolor": "white",
           "zerolinewidth": 2
          }
         }
        },
        "title": {
         "text": "Data Distribution of Total Cases"
        },
        "xaxis": {
         "anchor": "y",
         "domain": [
          0,
          1
         ],
         "title": {
          "text": "Total_Cases"
         }
        },
        "yaxis": {
         "anchor": "x",
         "domain": [
          0,
          1
         ],
         "title": {
          "text": "count"
         }
        }
       }
      },
      "text/html": [
       "<div>                            <div id=\"665b462a-b489-4321-a58d-95c0777b25ae\" class=\"plotly-graph-div\" style=\"height:525px; width:100%;\"></div>            <script type=\"text/javascript\">                require([\"plotly\"], function(Plotly) {                    window.PLOTLYENV=window.PLOTLYENV || {};                                    if (document.getElementById(\"665b462a-b489-4321-a58d-95c0777b25ae\")) {                    Plotly.newPlot(                        \"665b462a-b489-4321-a58d-95c0777b25ae\",                        [{\"alignmentgroup\":\"True\",\"bingroup\":\"x\",\"hovertemplate\":\"Total_Cases=%{x}\\u003cbr\\u003ecount=%{y}\\u003cextra\\u003e\\u003c\\u002fextra\\u003e\",\"legendgroup\":\"\",\"marker\":{\"color\":\"#636efa\",\"pattern\":{\"shape\":\"\"}},\"name\":\"\",\"offsetgroup\":\"\",\"orientation\":\"v\",\"showlegend\":false,\"x\":[98166904.0,44587307.0,35342950.0,34706757.0,33312373.0,24769101.0,23621952.0,22432803.0,21229216.0,20948470.0,16873793.0,13412263.0,11477886.0,10209239.0,9708420.0,8422336.0,7548320.0,7084488.0,6429767.0,6417941.0,6307372.0,6289672.0,5490639.0,5177217.0,5118512.0,4920192.0,4838872.0,4772813.0,4681309.0,4661096.0,4620377.0,4533249.0,4233468.0,4143085.0,4100480.0,4084307.0,4018769.0,3945566.0,3267370.0,3110831.0,2588441.0,2459982.0,2359530.0,2094142.0,2024489.0,1904192.0,1843220.0,1780691.0,1779476.0,1761381.0,1746997.0,1663653.0,1572598.0,1462318.0,1393468.0,1292940.0,1264935.0,1258670.0,1249134.0,1231575.0,1215511.0,1181073.0,1145686.0,1123465.0,1111179.0,1108195.0,1072807.0,1027031.0,1003778.0,999712.0,994037.0,986866.0,985422.0,982864.0,929051.0,821162.0,816389.0,716059.0,680271.0,670763.0,658520.0,644016.0,622802.0,620548.0,601869.0,589388.0,585313.0,544687.0,515645.0,506991.0,493563.0,472336.0,456391.0,450448.0,442875.0,398668.0,397993.0,342775.0,338420.0,333531.0,332173.0,326308.0,288658.0,280002.0,270668.0,265382.0,257409.0,250449.0,244199.0,230219.0,226237.0,221618.0,215843.0,206083.0,205637.0,201785.0,199067.0,192801.0,185042.0,182597.0,169396.0,169253.0,169100.0,151829.0,137870.0,132498.0,121652.0,114652.0,103131.0,102546.0,93974.0,92852.0,91561.0,88373.0,88024.0,87208.0,81106.0,76599.0,74152.0,73390.0,71336.0,68826.0,68242.0,66676.0,63285.0,62812.0,62371.0,61730.0,57299.0,50129.0,48691.0,47141.0,46227.0,45127.0,44997.0,42914.0,40461.0,40243.0,39440.0,39034.0,38008.0,37652.0,37267.0,34658.0,34490.0,33733.0,32625.0,30661.0,29408.0,27638.0,27214.0,24837.0,23253.0,21631.0,21544.0,20763.0,20092.0,19713.0,19536.0,18491.0,18154.0,17823.0,17786.0,17012.0,16182.0,15925.0,15747.0,15690.0,15275.0,14913.0,14608.0,12508.0,11978.0,11971.0,11935.0,11930.0,11235.0,10863.0,10169.0,9931.0,9759.0,9098.0,8796.0,8471.0,7961.0,7751.0,7583.0,7305.0,7112.0,6541.0,6389.0,6380.0,6230.0,5460.0,5285.0,4611.0,3865.0,3430.0,3188.0,1886.0,1396.0,1355.0,793.0,761.0,712.0,80.0,29.0,20.0,10.0,9.0],\"xaxis\":\"x\",\"yaxis\":\"y\",\"type\":\"histogram\"}],                        {\"template\":{\"data\":{\"histogram2dcontour\":[{\"type\":\"histogram2dcontour\",\"colorbar\":{\"outlinewidth\":0,\"ticks\":\"\"},\"colorscale\":[[0.0,\"#0d0887\"],[0.1111111111111111,\"#46039f\"],[0.2222222222222222,\"#7201a8\"],[0.3333333333333333,\"#9c179e\"],[0.4444444444444444,\"#bd3786\"],[0.5555555555555556,\"#d8576b\"],[0.6666666666666666,\"#ed7953\"],[0.7777777777777778,\"#fb9f3a\"],[0.8888888888888888,\"#fdca26\"],[1.0,\"#f0f921\"]]}],\"choropleth\":[{\"type\":\"choropleth\",\"colorbar\":{\"outlinewidth\":0,\"ticks\":\"\"}}],\"histogram2d\":[{\"type\":\"histogram2d\",\"colorbar\":{\"outlinewidth\":0,\"ticks\":\"\"},\"colorscale\":[[0.0,\"#0d0887\"],[0.1111111111111111,\"#46039f\"],[0.2222222222222222,\"#7201a8\"],[0.3333333333333333,\"#9c179e\"],[0.4444444444444444,\"#bd3786\"],[0.5555555555555556,\"#d8576b\"],[0.6666666666666666,\"#ed7953\"],[0.7777777777777778,\"#fb9f3a\"],[0.8888888888888888,\"#fdca26\"],[1.0,\"#f0f921\"]]}],\"heatmap\":[{\"type\":\"heatmap\",\"colorbar\":{\"outlinewidth\":0,\"ticks\":\"\"},\"colorscale\":[[0.0,\"#0d0887\"],[0.1111111111111111,\"#46039f\"],[0.2222222222222222,\"#7201a8\"],[0.3333333333333333,\"#9c179e\"],[0.4444444444444444,\"#bd3786\"],[0.5555555555555556,\"#d8576b\"],[0.6666666666666666,\"#ed7953\"],[0.7777777777777778,\"#fb9f3a\"],[0.8888888888888888,\"#fdca26\"],[1.0,\"#f0f921\"]]}],\"heatmapgl\":[{\"type\":\"heatmapgl\",\"colorbar\":{\"outlinewidth\":0,\"ticks\":\"\"},\"colorscale\":[[0.0,\"#0d0887\"],[0.1111111111111111,\"#46039f\"],[0.2222222222222222,\"#7201a8\"],[0.3333333333333333,\"#9c179e\"],[0.4444444444444444,\"#bd3786\"],[0.5555555555555556,\"#d8576b\"],[0.6666666666666666,\"#ed7953\"],[0.7777777777777778,\"#fb9f3a\"],[0.8888888888888888,\"#fdca26\"],[1.0,\"#f0f921\"]]}],\"contourcarpet\":[{\"type\":\"contourcarpet\",\"colorbar\":{\"outlinewidth\":0,\"ticks\":\"\"}}],\"contour\":[{\"type\":\"contour\",\"colorbar\":{\"outlinewidth\":0,\"ticks\":\"\"},\"colorscale\":[[0.0,\"#0d0887\"],[0.1111111111111111,\"#46039f\"],[0.2222222222222222,\"#7201a8\"],[0.3333333333333333,\"#9c179e\"],[0.4444444444444444,\"#bd3786\"],[0.5555555555555556,\"#d8576b\"],[0.6666666666666666,\"#ed7953\"],[0.7777777777777778,\"#fb9f3a\"],[0.8888888888888888,\"#fdca26\"],[1.0,\"#f0f921\"]]}],\"surface\":[{\"type\":\"surface\",\"colorbar\":{\"outlinewidth\":0,\"ticks\":\"\"},\"colorscale\":[[0.0,\"#0d0887\"],[0.1111111111111111,\"#46039f\"],[0.2222222222222222,\"#7201a8\"],[0.3333333333333333,\"#9c179e\"],[0.4444444444444444,\"#bd3786\"],[0.5555555555555556,\"#d8576b\"],[0.6666666666666666,\"#ed7953\"],[0.7777777777777778,\"#fb9f3a\"],[0.8888888888888888,\"#fdca26\"],[1.0,\"#f0f921\"]]}],\"mesh3d\":[{\"type\":\"mesh3d\",\"colorbar\":{\"outlinewidth\":0,\"ticks\":\"\"}}],\"scatter\":[{\"fillpattern\":{\"fillmode\":\"overlay\",\"size\":10,\"solidity\":0.2},\"type\":\"scatter\"}],\"parcoords\":[{\"type\":\"parcoords\",\"line\":{\"colorbar\":{\"outlinewidth\":0,\"ticks\":\"\"}}}],\"scatterpolargl\":[{\"type\":\"scatterpolargl\",\"marker\":{\"colorbar\":{\"outlinewidth\":0,\"ticks\":\"\"}}}],\"bar\":[{\"error_x\":{\"color\":\"#2a3f5f\"},\"error_y\":{\"color\":\"#2a3f5f\"},\"marker\":{\"line\":{\"color\":\"#E5ECF6\",\"width\":0.5},\"pattern\":{\"fillmode\":\"overlay\",\"size\":10,\"solidity\":0.2}},\"type\":\"bar\"}],\"scattergeo\":[{\"type\":\"scattergeo\",\"marker\":{\"colorbar\":{\"outlinewidth\":0,\"ticks\":\"\"}}}],\"scatterpolar\":[{\"type\":\"scatterpolar\",\"marker\":{\"colorbar\":{\"outlinewidth\":0,\"ticks\":\"\"}}}],\"histogram\":[{\"marker\":{\"pattern\":{\"fillmode\":\"overlay\",\"size\":10,\"solidity\":0.2}},\"type\":\"histogram\"}],\"scattergl\":[{\"type\":\"scattergl\",\"marker\":{\"colorbar\":{\"outlinewidth\":0,\"ticks\":\"\"}}}],\"scatter3d\":[{\"type\":\"scatter3d\",\"line\":{\"colorbar\":{\"outlinewidth\":0,\"ticks\":\"\"}},\"marker\":{\"colorbar\":{\"outlinewidth\":0,\"ticks\":\"\"}}}],\"scattermapbox\":[{\"type\":\"scattermapbox\",\"marker\":{\"colorbar\":{\"outlinewidth\":0,\"ticks\":\"\"}}}],\"scatterternary\":[{\"type\":\"scatterternary\",\"marker\":{\"colorbar\":{\"outlinewidth\":0,\"ticks\":\"\"}}}],\"scattercarpet\":[{\"type\":\"scattercarpet\",\"marker\":{\"colorbar\":{\"outlinewidth\":0,\"ticks\":\"\"}}}],\"carpet\":[{\"aaxis\":{\"endlinecolor\":\"#2a3f5f\",\"gridcolor\":\"white\",\"linecolor\":\"white\",\"minorgridcolor\":\"white\",\"startlinecolor\":\"#2a3f5f\"},\"baxis\":{\"endlinecolor\":\"#2a3f5f\",\"gridcolor\":\"white\",\"linecolor\":\"white\",\"minorgridcolor\":\"white\",\"startlinecolor\":\"#2a3f5f\"},\"type\":\"carpet\"}],\"table\":[{\"cells\":{\"fill\":{\"color\":\"#EBF0F8\"},\"line\":{\"color\":\"white\"}},\"header\":{\"fill\":{\"color\":\"#C8D4E3\"},\"line\":{\"color\":\"white\"}},\"type\":\"table\"}],\"barpolar\":[{\"marker\":{\"line\":{\"color\":\"#E5ECF6\",\"width\":0.5},\"pattern\":{\"fillmode\":\"overlay\",\"size\":10,\"solidity\":0.2}},\"type\":\"barpolar\"}],\"pie\":[{\"automargin\":true,\"type\":\"pie\"}]},\"layout\":{\"autotypenumbers\":\"strict\",\"colorway\":[\"#636efa\",\"#EF553B\",\"#00cc96\",\"#ab63fa\",\"#FFA15A\",\"#19d3f3\",\"#FF6692\",\"#B6E880\",\"#FF97FF\",\"#FECB52\"],\"font\":{\"color\":\"#2a3f5f\"},\"hovermode\":\"closest\",\"hoverlabel\":{\"align\":\"left\"},\"paper_bgcolor\":\"white\",\"plot_bgcolor\":\"#E5ECF6\",\"polar\":{\"bgcolor\":\"#E5ECF6\",\"angularaxis\":{\"gridcolor\":\"white\",\"linecolor\":\"white\",\"ticks\":\"\"},\"radialaxis\":{\"gridcolor\":\"white\",\"linecolor\":\"white\",\"ticks\":\"\"}},\"ternary\":{\"bgcolor\":\"#E5ECF6\",\"aaxis\":{\"gridcolor\":\"white\",\"linecolor\":\"white\",\"ticks\":\"\"},\"baxis\":{\"gridcolor\":\"white\",\"linecolor\":\"white\",\"ticks\":\"\"},\"caxis\":{\"gridcolor\":\"white\",\"linecolor\":\"white\",\"ticks\":\"\"}},\"coloraxis\":{\"colorbar\":{\"outlinewidth\":0,\"ticks\":\"\"}},\"colorscale\":{\"sequential\":[[0.0,\"#0d0887\"],[0.1111111111111111,\"#46039f\"],[0.2222222222222222,\"#7201a8\"],[0.3333333333333333,\"#9c179e\"],[0.4444444444444444,\"#bd3786\"],[0.5555555555555556,\"#d8576b\"],[0.6666666666666666,\"#ed7953\"],[0.7777777777777778,\"#fb9f3a\"],[0.8888888888888888,\"#fdca26\"],[1.0,\"#f0f921\"]],\"sequentialminus\":[[0.0,\"#0d0887\"],[0.1111111111111111,\"#46039f\"],[0.2222222222222222,\"#7201a8\"],[0.3333333333333333,\"#9c179e\"],[0.4444444444444444,\"#bd3786\"],[0.5555555555555556,\"#d8576b\"],[0.6666666666666666,\"#ed7953\"],[0.7777777777777778,\"#fb9f3a\"],[0.8888888888888888,\"#fdca26\"],[1.0,\"#f0f921\"]],\"diverging\":[[0,\"#8e0152\"],[0.1,\"#c51b7d\"],[0.2,\"#de77ae\"],[0.3,\"#f1b6da\"],[0.4,\"#fde0ef\"],[0.5,\"#f7f7f7\"],[0.6,\"#e6f5d0\"],[0.7,\"#b8e186\"],[0.8,\"#7fbc41\"],[0.9,\"#4d9221\"],[1,\"#276419\"]]},\"xaxis\":{\"gridcolor\":\"white\",\"linecolor\":\"white\",\"ticks\":\"\",\"title\":{\"standoff\":15},\"zerolinecolor\":\"white\",\"automargin\":true,\"zerolinewidth\":2},\"yaxis\":{\"gridcolor\":\"white\",\"linecolor\":\"white\",\"ticks\":\"\",\"title\":{\"standoff\":15},\"zerolinecolor\":\"white\",\"automargin\":true,\"zerolinewidth\":2},\"scene\":{\"xaxis\":{\"backgroundcolor\":\"#E5ECF6\",\"gridcolor\":\"white\",\"linecolor\":\"white\",\"showbackground\":true,\"ticks\":\"\",\"zerolinecolor\":\"white\",\"gridwidth\":2},\"yaxis\":{\"backgroundcolor\":\"#E5ECF6\",\"gridcolor\":\"white\",\"linecolor\":\"white\",\"showbackground\":true,\"ticks\":\"\",\"zerolinecolor\":\"white\",\"gridwidth\":2},\"zaxis\":{\"backgroundcolor\":\"#E5ECF6\",\"gridcolor\":\"white\",\"linecolor\":\"white\",\"showbackground\":true,\"ticks\":\"\",\"zerolinecolor\":\"white\",\"gridwidth\":2}},\"shapedefaults\":{\"line\":{\"color\":\"#2a3f5f\"}},\"annotationdefaults\":{\"arrowcolor\":\"#2a3f5f\",\"arrowhead\":0,\"arrowwidth\":1},\"geo\":{\"bgcolor\":\"white\",\"landcolor\":\"#E5ECF6\",\"subunitcolor\":\"white\",\"showland\":true,\"showlakes\":true,\"lakecolor\":\"white\"},\"title\":{\"x\":0.05},\"mapbox\":{\"style\":\"light\"}}},\"xaxis\":{\"anchor\":\"y\",\"domain\":[0.0,1.0],\"title\":{\"text\":\"Total_Cases\"}},\"yaxis\":{\"anchor\":\"x\",\"domain\":[0.0,1.0],\"title\":{\"text\":\"count\"}},\"legend\":{\"tracegroupgap\":0},\"title\":{\"text\":\"Data Distribution of Total Cases\"},\"barmode\":\"relative\"},                        {\"responsive\": true}                    ).then(function(){\n",
       "                            \n",
       "var gd = document.getElementById('665b462a-b489-4321-a58d-95c0777b25ae');\n",
       "var x = new MutationObserver(function (mutations, observer) {{\n",
       "        var display = window.getComputedStyle(gd).display;\n",
       "        if (!display || display === 'none') {{\n",
       "            console.log([gd, 'removed!']);\n",
       "            Plotly.purge(gd);\n",
       "            observer.disconnect();\n",
       "        }}\n",
       "}});\n",
       "\n",
       "// Listen for the removal of the full notebook cells\n",
       "var notebookContainer = gd.closest('#notebook-container');\n",
       "if (notebookContainer) {{\n",
       "    x.observe(notebookContainer, {childList: true});\n",
       "}}\n",
       "\n",
       "// Listen for the clearing of the current output cell\n",
       "var outputEl = gd.closest('.output');\n",
       "if (outputEl) {{\n",
       "    x.observe(outputEl, {childList: true});\n",
       "}}\n",
       "\n",
       "                        })                };                });            </script>        </div>"
      ]
     },
     "metadata": {},
     "output_type": "display_data"
    }
   ],
   "source": [
    "fig = px.histogram(data,x=\"Total_Cases\", title=\"Data Distribution of Total Cases\")\n",
    "fig.show()"
   ]
  },
  {
   "cell_type": "code",
   "execution_count": 93,
   "metadata": {},
   "outputs": [
    {
     "data": {
      "application/vnd.plotly.v1+json": {
       "config": {
        "plotlyServerURL": "https://plot.ly"
       },
       "data": [
        {
         "alignmentgroup": "True",
         "bingroup": "x",
         "hovertemplate": "Total_Cases_in_M=%{x}<br>count=%{y}<extra></extra>",
         "legendgroup": "",
         "marker": {
          "color": "green",
          "pattern": {
           "shape": ""
          }
         },
         "name": "",
         "offsetgroup": "",
         "orientation": "v",
         "showlegend": false,
         "type": "histogram",
         "x": [
          293206,
          31698,
          538892,
          161162,
          397126,
          482547,
          344857,
          372250,
          169043,
          143674,
          197211,
          287083,
          115993,
          391627,
          211006,
          489345,
          87748,
          53849,
          23035,
          268661,
          122443,
          166659,
          541453,
          119865,
          564539,
          476918,
          145832,
          183636,
          66801,
          499796,
          240017,
          388511,
          110280,
          122998,
          381910,
          465520,
          66146,
          35069,
          171684,
          533138,
          253298,
          58342,
          272683,
          217998,
          12059,
          320380,
          337574,
          448679,
          363292,
          231630,
          169597,
          331392,
          6853,
          265327,
          72557,
          232754,
          33488,
          183892,
          469298,
          303397,
          181831,
          568361,
          95104,
          60453,
          98285,
          92406,
          207012,
          101870,
          55416,
          33075,
          105381,
          221919,
          281870,
          290954,
          502506,
          79723,
          22776,
          98012,
          381321,
          31089,
          150336,
          58248,
          11277,
          116087,
          455303,
          146863,
          478437,
          18611,
          4857,
          72008,
          4085,
          520159,
          44651,
          151161,
          149018,
          122693,
          74755,
          164692,
          6020,
          17130,
          115886,
          133669,
          449363,
          445899,
          5968,
          1224,
          16790,
          173,
          7103,
          6957,
          507906,
          592424,
          28852,
          30629,
          595371,
          30805,
          4885,
          482251,
          342046,
          129816,
          3498,
          64260,
          5220,
          50862,
          8030,
          9742,
          4358,
          258206,
          2944,
          356034,
          299119,
          975,
          518868,
          5006,
          4362,
          3144,
          135894,
          269559,
          254892,
          61942,
          89839,
          166976,
          75035,
          2285,
          1376,
          12814,
          109870,
          78343,
          2959,
          3971,
          20884,
          474132,
          596762,
          272623,
          4842,
          398796,
          31741,
          140582,
          623,
          4497,
          443335,
          2715,
          93047,
          703959,
          15852,
          2888,
          1519,
          455743,
          158865,
          2162,
          1616,
          4284,
          16980,
          979,
          29874,
          609154,
          596131,
          513533,
          172161,
          2728,
          293095,
          1534,
          1786,
          11367,
          150182,
          78743,
          217668,
          15441,
          254342,
          2973,
          367192,
          4889,
          301485,
          210117,
          383,
          37069,
          421623,
          247077,
          2777,
          381,
          83063,
          91429,
          4263,
          9335,
          1501,
          933,
          435,
          238757,
          63756,
          121420,
          363610,
          160539,
          27363,
          299457,
          531423,
          422911,
          253775,
          27792,
          553568,
          532919,
          281168,
          221586,
          1188,
          69295,
          1188,
          49322,
          36295,
          1658,
          16,
          1188
         ],
         "xaxis": "x",
         "yaxis": "y"
        }
       ],
       "layout": {
        "barmode": "relative",
        "legend": {
         "tracegroupgap": 0
        },
        "template": {
         "data": {
          "bar": [
           {
            "error_x": {
             "color": "#2a3f5f"
            },
            "error_y": {
             "color": "#2a3f5f"
            },
            "marker": {
             "line": {
              "color": "#E5ECF6",
              "width": 0.5
             },
             "pattern": {
              "fillmode": "overlay",
              "size": 10,
              "solidity": 0.2
             }
            },
            "type": "bar"
           }
          ],
          "barpolar": [
           {
            "marker": {
             "line": {
              "color": "#E5ECF6",
              "width": 0.5
             },
             "pattern": {
              "fillmode": "overlay",
              "size": 10,
              "solidity": 0.2
             }
            },
            "type": "barpolar"
           }
          ],
          "carpet": [
           {
            "aaxis": {
             "endlinecolor": "#2a3f5f",
             "gridcolor": "white",
             "linecolor": "white",
             "minorgridcolor": "white",
             "startlinecolor": "#2a3f5f"
            },
            "baxis": {
             "endlinecolor": "#2a3f5f",
             "gridcolor": "white",
             "linecolor": "white",
             "minorgridcolor": "white",
             "startlinecolor": "#2a3f5f"
            },
            "type": "carpet"
           }
          ],
          "choropleth": [
           {
            "colorbar": {
             "outlinewidth": 0,
             "ticks": ""
            },
            "type": "choropleth"
           }
          ],
          "contour": [
           {
            "colorbar": {
             "outlinewidth": 0,
             "ticks": ""
            },
            "colorscale": [
             [
              0,
              "#0d0887"
             ],
             [
              0.1111111111111111,
              "#46039f"
             ],
             [
              0.2222222222222222,
              "#7201a8"
             ],
             [
              0.3333333333333333,
              "#9c179e"
             ],
             [
              0.4444444444444444,
              "#bd3786"
             ],
             [
              0.5555555555555556,
              "#d8576b"
             ],
             [
              0.6666666666666666,
              "#ed7953"
             ],
             [
              0.7777777777777778,
              "#fb9f3a"
             ],
             [
              0.8888888888888888,
              "#fdca26"
             ],
             [
              1,
              "#f0f921"
             ]
            ],
            "type": "contour"
           }
          ],
          "contourcarpet": [
           {
            "colorbar": {
             "outlinewidth": 0,
             "ticks": ""
            },
            "type": "contourcarpet"
           }
          ],
          "heatmap": [
           {
            "colorbar": {
             "outlinewidth": 0,
             "ticks": ""
            },
            "colorscale": [
             [
              0,
              "#0d0887"
             ],
             [
              0.1111111111111111,
              "#46039f"
             ],
             [
              0.2222222222222222,
              "#7201a8"
             ],
             [
              0.3333333333333333,
              "#9c179e"
             ],
             [
              0.4444444444444444,
              "#bd3786"
             ],
             [
              0.5555555555555556,
              "#d8576b"
             ],
             [
              0.6666666666666666,
              "#ed7953"
             ],
             [
              0.7777777777777778,
              "#fb9f3a"
             ],
             [
              0.8888888888888888,
              "#fdca26"
             ],
             [
              1,
              "#f0f921"
             ]
            ],
            "type": "heatmap"
           }
          ],
          "heatmapgl": [
           {
            "colorbar": {
             "outlinewidth": 0,
             "ticks": ""
            },
            "colorscale": [
             [
              0,
              "#0d0887"
             ],
             [
              0.1111111111111111,
              "#46039f"
             ],
             [
              0.2222222222222222,
              "#7201a8"
             ],
             [
              0.3333333333333333,
              "#9c179e"
             ],
             [
              0.4444444444444444,
              "#bd3786"
             ],
             [
              0.5555555555555556,
              "#d8576b"
             ],
             [
              0.6666666666666666,
              "#ed7953"
             ],
             [
              0.7777777777777778,
              "#fb9f3a"
             ],
             [
              0.8888888888888888,
              "#fdca26"
             ],
             [
              1,
              "#f0f921"
             ]
            ],
            "type": "heatmapgl"
           }
          ],
          "histogram": [
           {
            "marker": {
             "pattern": {
              "fillmode": "overlay",
              "size": 10,
              "solidity": 0.2
             }
            },
            "type": "histogram"
           }
          ],
          "histogram2d": [
           {
            "colorbar": {
             "outlinewidth": 0,
             "ticks": ""
            },
            "colorscale": [
             [
              0,
              "#0d0887"
             ],
             [
              0.1111111111111111,
              "#46039f"
             ],
             [
              0.2222222222222222,
              "#7201a8"
             ],
             [
              0.3333333333333333,
              "#9c179e"
             ],
             [
              0.4444444444444444,
              "#bd3786"
             ],
             [
              0.5555555555555556,
              "#d8576b"
             ],
             [
              0.6666666666666666,
              "#ed7953"
             ],
             [
              0.7777777777777778,
              "#fb9f3a"
             ],
             [
              0.8888888888888888,
              "#fdca26"
             ],
             [
              1,
              "#f0f921"
             ]
            ],
            "type": "histogram2d"
           }
          ],
          "histogram2dcontour": [
           {
            "colorbar": {
             "outlinewidth": 0,
             "ticks": ""
            },
            "colorscale": [
             [
              0,
              "#0d0887"
             ],
             [
              0.1111111111111111,
              "#46039f"
             ],
             [
              0.2222222222222222,
              "#7201a8"
             ],
             [
              0.3333333333333333,
              "#9c179e"
             ],
             [
              0.4444444444444444,
              "#bd3786"
             ],
             [
              0.5555555555555556,
              "#d8576b"
             ],
             [
              0.6666666666666666,
              "#ed7953"
             ],
             [
              0.7777777777777778,
              "#fb9f3a"
             ],
             [
              0.8888888888888888,
              "#fdca26"
             ],
             [
              1,
              "#f0f921"
             ]
            ],
            "type": "histogram2dcontour"
           }
          ],
          "mesh3d": [
           {
            "colorbar": {
             "outlinewidth": 0,
             "ticks": ""
            },
            "type": "mesh3d"
           }
          ],
          "parcoords": [
           {
            "line": {
             "colorbar": {
              "outlinewidth": 0,
              "ticks": ""
             }
            },
            "type": "parcoords"
           }
          ],
          "pie": [
           {
            "automargin": true,
            "type": "pie"
           }
          ],
          "scatter": [
           {
            "fillpattern": {
             "fillmode": "overlay",
             "size": 10,
             "solidity": 0.2
            },
            "type": "scatter"
           }
          ],
          "scatter3d": [
           {
            "line": {
             "colorbar": {
              "outlinewidth": 0,
              "ticks": ""
             }
            },
            "marker": {
             "colorbar": {
              "outlinewidth": 0,
              "ticks": ""
             }
            },
            "type": "scatter3d"
           }
          ],
          "scattercarpet": [
           {
            "marker": {
             "colorbar": {
              "outlinewidth": 0,
              "ticks": ""
             }
            },
            "type": "scattercarpet"
           }
          ],
          "scattergeo": [
           {
            "marker": {
             "colorbar": {
              "outlinewidth": 0,
              "ticks": ""
             }
            },
            "type": "scattergeo"
           }
          ],
          "scattergl": [
           {
            "marker": {
             "colorbar": {
              "outlinewidth": 0,
              "ticks": ""
             }
            },
            "type": "scattergl"
           }
          ],
          "scattermapbox": [
           {
            "marker": {
             "colorbar": {
              "outlinewidth": 0,
              "ticks": ""
             }
            },
            "type": "scattermapbox"
           }
          ],
          "scatterpolar": [
           {
            "marker": {
             "colorbar": {
              "outlinewidth": 0,
              "ticks": ""
             }
            },
            "type": "scatterpolar"
           }
          ],
          "scatterpolargl": [
           {
            "marker": {
             "colorbar": {
              "outlinewidth": 0,
              "ticks": ""
             }
            },
            "type": "scatterpolargl"
           }
          ],
          "scatterternary": [
           {
            "marker": {
             "colorbar": {
              "outlinewidth": 0,
              "ticks": ""
             }
            },
            "type": "scatterternary"
           }
          ],
          "surface": [
           {
            "colorbar": {
             "outlinewidth": 0,
             "ticks": ""
            },
            "colorscale": [
             [
              0,
              "#0d0887"
             ],
             [
              0.1111111111111111,
              "#46039f"
             ],
             [
              0.2222222222222222,
              "#7201a8"
             ],
             [
              0.3333333333333333,
              "#9c179e"
             ],
             [
              0.4444444444444444,
              "#bd3786"
             ],
             [
              0.5555555555555556,
              "#d8576b"
             ],
             [
              0.6666666666666666,
              "#ed7953"
             ],
             [
              0.7777777777777778,
              "#fb9f3a"
             ],
             [
              0.8888888888888888,
              "#fdca26"
             ],
             [
              1,
              "#f0f921"
             ]
            ],
            "type": "surface"
           }
          ],
          "table": [
           {
            "cells": {
             "fill": {
              "color": "#EBF0F8"
             },
             "line": {
              "color": "white"
             }
            },
            "header": {
             "fill": {
              "color": "#C8D4E3"
             },
             "line": {
              "color": "white"
             }
            },
            "type": "table"
           }
          ]
         },
         "layout": {
          "annotationdefaults": {
           "arrowcolor": "#2a3f5f",
           "arrowhead": 0,
           "arrowwidth": 1
          },
          "autotypenumbers": "strict",
          "coloraxis": {
           "colorbar": {
            "outlinewidth": 0,
            "ticks": ""
           }
          },
          "colorscale": {
           "diverging": [
            [
             0,
             "#8e0152"
            ],
            [
             0.1,
             "#c51b7d"
            ],
            [
             0.2,
             "#de77ae"
            ],
            [
             0.3,
             "#f1b6da"
            ],
            [
             0.4,
             "#fde0ef"
            ],
            [
             0.5,
             "#f7f7f7"
            ],
            [
             0.6,
             "#e6f5d0"
            ],
            [
             0.7,
             "#b8e186"
            ],
            [
             0.8,
             "#7fbc41"
            ],
            [
             0.9,
             "#4d9221"
            ],
            [
             1,
             "#276419"
            ]
           ],
           "sequential": [
            [
             0,
             "#0d0887"
            ],
            [
             0.1111111111111111,
             "#46039f"
            ],
            [
             0.2222222222222222,
             "#7201a8"
            ],
            [
             0.3333333333333333,
             "#9c179e"
            ],
            [
             0.4444444444444444,
             "#bd3786"
            ],
            [
             0.5555555555555556,
             "#d8576b"
            ],
            [
             0.6666666666666666,
             "#ed7953"
            ],
            [
             0.7777777777777778,
             "#fb9f3a"
            ],
            [
             0.8888888888888888,
             "#fdca26"
            ],
            [
             1,
             "#f0f921"
            ]
           ],
           "sequentialminus": [
            [
             0,
             "#0d0887"
            ],
            [
             0.1111111111111111,
             "#46039f"
            ],
            [
             0.2222222222222222,
             "#7201a8"
            ],
            [
             0.3333333333333333,
             "#9c179e"
            ],
            [
             0.4444444444444444,
             "#bd3786"
            ],
            [
             0.5555555555555556,
             "#d8576b"
            ],
            [
             0.6666666666666666,
             "#ed7953"
            ],
            [
             0.7777777777777778,
             "#fb9f3a"
            ],
            [
             0.8888888888888888,
             "#fdca26"
            ],
            [
             1,
             "#f0f921"
            ]
           ]
          },
          "colorway": [
           "#636efa",
           "#EF553B",
           "#00cc96",
           "#ab63fa",
           "#FFA15A",
           "#19d3f3",
           "#FF6692",
           "#B6E880",
           "#FF97FF",
           "#FECB52"
          ],
          "font": {
           "color": "#2a3f5f"
          },
          "geo": {
           "bgcolor": "white",
           "lakecolor": "white",
           "landcolor": "#E5ECF6",
           "showlakes": true,
           "showland": true,
           "subunitcolor": "white"
          },
          "hoverlabel": {
           "align": "left"
          },
          "hovermode": "closest",
          "mapbox": {
           "style": "light"
          },
          "paper_bgcolor": "white",
          "plot_bgcolor": "#E5ECF6",
          "polar": {
           "angularaxis": {
            "gridcolor": "white",
            "linecolor": "white",
            "ticks": ""
           },
           "bgcolor": "#E5ECF6",
           "radialaxis": {
            "gridcolor": "white",
            "linecolor": "white",
            "ticks": ""
           }
          },
          "scene": {
           "xaxis": {
            "backgroundcolor": "#E5ECF6",
            "gridcolor": "white",
            "gridwidth": 2,
            "linecolor": "white",
            "showbackground": true,
            "ticks": "",
            "zerolinecolor": "white"
           },
           "yaxis": {
            "backgroundcolor": "#E5ECF6",
            "gridcolor": "white",
            "gridwidth": 2,
            "linecolor": "white",
            "showbackground": true,
            "ticks": "",
            "zerolinecolor": "white"
           },
           "zaxis": {
            "backgroundcolor": "#E5ECF6",
            "gridcolor": "white",
            "gridwidth": 2,
            "linecolor": "white",
            "showbackground": true,
            "ticks": "",
            "zerolinecolor": "white"
           }
          },
          "shapedefaults": {
           "line": {
            "color": "#2a3f5f"
           }
          },
          "ternary": {
           "aaxis": {
            "gridcolor": "white",
            "linecolor": "white",
            "ticks": ""
           },
           "baxis": {
            "gridcolor": "white",
            "linecolor": "white",
            "ticks": ""
           },
           "bgcolor": "#E5ECF6",
           "caxis": {
            "gridcolor": "white",
            "linecolor": "white",
            "ticks": ""
           }
          },
          "title": {
           "x": 0.05
          },
          "xaxis": {
           "automargin": true,
           "gridcolor": "white",
           "linecolor": "white",
           "ticks": "",
           "title": {
            "standoff": 15
           },
           "zerolinecolor": "white",
           "zerolinewidth": 2
          },
          "yaxis": {
           "automargin": true,
           "gridcolor": "white",
           "linecolor": "white",
           "ticks": "",
           "title": {
            "standoff": 15
           },
           "zerolinecolor": "white",
           "zerolinewidth": 2
          }
         }
        },
        "title": {
         "text": "Data Distribution of Total Cases Per 1M Population"
        },
        "xaxis": {
         "anchor": "y",
         "domain": [
          0,
          1
         ],
         "title": {
          "text": "Total_Cases_in_M"
         }
        },
        "yaxis": {
         "anchor": "x",
         "domain": [
          0,
          1
         ],
         "title": {
          "text": "count"
         }
        }
       }
      },
      "text/html": [
       "<div>                            <div id=\"c77b23f2-abc1-48f9-9b3e-03f284e67a99\" class=\"plotly-graph-div\" style=\"height:525px; width:100%;\"></div>            <script type=\"text/javascript\">                require([\"plotly\"], function(Plotly) {                    window.PLOTLYENV=window.PLOTLYENV || {};                                    if (document.getElementById(\"c77b23f2-abc1-48f9-9b3e-03f284e67a99\")) {                    Plotly.newPlot(                        \"c77b23f2-abc1-48f9-9b3e-03f284e67a99\",                        [{\"alignmentgroup\":\"True\",\"bingroup\":\"x\",\"hovertemplate\":\"Total_Cases_in_M=%{x}\\u003cbr\\u003ecount=%{y}\\u003cextra\\u003e\\u003c\\u002fextra\\u003e\",\"legendgroup\":\"\",\"marker\":{\"color\":\"green\",\"pattern\":{\"shape\":\"\"}},\"name\":\"\",\"offsetgroup\":\"\",\"orientation\":\"v\",\"showlegend\":false,\"x\":[293206.0,31698.0,538892.0,161162.0,397126.0,482547.0,344857.0,372250.0,169043.0,143674.0,197211.0,287083.0,115993.0,391627.0,211006.0,489345.0,87748.0,53849.0,23035.0,268661.0,122443.0,166659.0,541453.0,119865.0,564539.0,476918.0,145832.0,183636.0,66801.0,499796.0,240017.0,388511.0,110280.0,122998.0,381910.0,465520.0,66146.0,35069.0,171684.0,533138.0,253298.0,58342.0,272683.0,217998.0,12059.0,320380.0,337574.0,448679.0,363292.0,231630.0,169597.0,331392.0,6853.0,265327.0,72557.0,232754.0,33488.0,183892.0,469298.0,303397.0,181831.0,568361.0,95104.0,60453.0,98285.0,92406.0,207012.0,101870.0,55416.0,33075.0,105381.0,221919.0,281870.0,290954.0,502506.0,79723.0,22776.0,98012.0,381321.0,31089.0,150336.0,58248.0,11277.0,116087.0,455303.0,146863.0,478437.0,18611.0,4857.0,72008.0,4085.0,520159.0,44651.0,151161.0,149018.0,122693.0,74755.0,164692.0,6020.0,17130.0,115886.0,133669.0,449363.0,445899.0,5968.0,1224.0,16790.0,173.0,7103.0,6957.0,507906.0,592424.0,28852.0,30629.0,595371.0,30805.0,4885.0,482251.0,342046.0,129816.0,3498.0,64260.0,5220.0,50862.0,8030.0,9742.0,4358.0,258206.0,2944.0,356034.0,299119.0,975.0,518868.0,5006.0,4362.0,3144.0,135894.0,269559.0,254892.0,61942.0,89839.0,166976.0,75035.0,2285.0,1376.0,12814.0,109870.0,78343.0,2959.0,3971.0,20884.0,474132.0,596762.0,272623.0,4842.0,398796.0,31741.0,140582.0,623.0,4497.0,443335.0,2715.0,93047.0,703959.0,15852.0,2888.0,1519.0,455743.0,158865.0,2162.0,1616.0,4284.0,16980.0,979.0,29874.0,609154.0,596131.0,513533.0,172161.0,2728.0,293095.0,1534.0,1786.0,11367.0,150182.0,78743.0,217668.0,15441.0,254342.0,2973.0,367192.0,4889.0,301485.0,210117.0,383.0,37069.0,421623.0,247077.0,2777.0,381.0,83063.0,91429.0,4263.0,9335.0,1501.0,933.0,435.0,238757.0,63756.0,121420.0,363610.0,160539.0,27363.0,299457.0,531423.0,422911.0,253775.0,27792.0,553568.0,532919.0,281168.0,221586.0,1188.0,69295.0,1188.0,49322.0,36295.0,1658.0,16.0,1188.0],\"xaxis\":\"x\",\"yaxis\":\"y\",\"type\":\"histogram\"}],                        {\"template\":{\"data\":{\"histogram2dcontour\":[{\"type\":\"histogram2dcontour\",\"colorbar\":{\"outlinewidth\":0,\"ticks\":\"\"},\"colorscale\":[[0.0,\"#0d0887\"],[0.1111111111111111,\"#46039f\"],[0.2222222222222222,\"#7201a8\"],[0.3333333333333333,\"#9c179e\"],[0.4444444444444444,\"#bd3786\"],[0.5555555555555556,\"#d8576b\"],[0.6666666666666666,\"#ed7953\"],[0.7777777777777778,\"#fb9f3a\"],[0.8888888888888888,\"#fdca26\"],[1.0,\"#f0f921\"]]}],\"choropleth\":[{\"type\":\"choropleth\",\"colorbar\":{\"outlinewidth\":0,\"ticks\":\"\"}}],\"histogram2d\":[{\"type\":\"histogram2d\",\"colorbar\":{\"outlinewidth\":0,\"ticks\":\"\"},\"colorscale\":[[0.0,\"#0d0887\"],[0.1111111111111111,\"#46039f\"],[0.2222222222222222,\"#7201a8\"],[0.3333333333333333,\"#9c179e\"],[0.4444444444444444,\"#bd3786\"],[0.5555555555555556,\"#d8576b\"],[0.6666666666666666,\"#ed7953\"],[0.7777777777777778,\"#fb9f3a\"],[0.8888888888888888,\"#fdca26\"],[1.0,\"#f0f921\"]]}],\"heatmap\":[{\"type\":\"heatmap\",\"colorbar\":{\"outlinewidth\":0,\"ticks\":\"\"},\"colorscale\":[[0.0,\"#0d0887\"],[0.1111111111111111,\"#46039f\"],[0.2222222222222222,\"#7201a8\"],[0.3333333333333333,\"#9c179e\"],[0.4444444444444444,\"#bd3786\"],[0.5555555555555556,\"#d8576b\"],[0.6666666666666666,\"#ed7953\"],[0.7777777777777778,\"#fb9f3a\"],[0.8888888888888888,\"#fdca26\"],[1.0,\"#f0f921\"]]}],\"heatmapgl\":[{\"type\":\"heatmapgl\",\"colorbar\":{\"outlinewidth\":0,\"ticks\":\"\"},\"colorscale\":[[0.0,\"#0d0887\"],[0.1111111111111111,\"#46039f\"],[0.2222222222222222,\"#7201a8\"],[0.3333333333333333,\"#9c179e\"],[0.4444444444444444,\"#bd3786\"],[0.5555555555555556,\"#d8576b\"],[0.6666666666666666,\"#ed7953\"],[0.7777777777777778,\"#fb9f3a\"],[0.8888888888888888,\"#fdca26\"],[1.0,\"#f0f921\"]]}],\"contourcarpet\":[{\"type\":\"contourcarpet\",\"colorbar\":{\"outlinewidth\":0,\"ticks\":\"\"}}],\"contour\":[{\"type\":\"contour\",\"colorbar\":{\"outlinewidth\":0,\"ticks\":\"\"},\"colorscale\":[[0.0,\"#0d0887\"],[0.1111111111111111,\"#46039f\"],[0.2222222222222222,\"#7201a8\"],[0.3333333333333333,\"#9c179e\"],[0.4444444444444444,\"#bd3786\"],[0.5555555555555556,\"#d8576b\"],[0.6666666666666666,\"#ed7953\"],[0.7777777777777778,\"#fb9f3a\"],[0.8888888888888888,\"#fdca26\"],[1.0,\"#f0f921\"]]}],\"surface\":[{\"type\":\"surface\",\"colorbar\":{\"outlinewidth\":0,\"ticks\":\"\"},\"colorscale\":[[0.0,\"#0d0887\"],[0.1111111111111111,\"#46039f\"],[0.2222222222222222,\"#7201a8\"],[0.3333333333333333,\"#9c179e\"],[0.4444444444444444,\"#bd3786\"],[0.5555555555555556,\"#d8576b\"],[0.6666666666666666,\"#ed7953\"],[0.7777777777777778,\"#fb9f3a\"],[0.8888888888888888,\"#fdca26\"],[1.0,\"#f0f921\"]]}],\"mesh3d\":[{\"type\":\"mesh3d\",\"colorbar\":{\"outlinewidth\":0,\"ticks\":\"\"}}],\"scatter\":[{\"fillpattern\":{\"fillmode\":\"overlay\",\"size\":10,\"solidity\":0.2},\"type\":\"scatter\"}],\"parcoords\":[{\"type\":\"parcoords\",\"line\":{\"colorbar\":{\"outlinewidth\":0,\"ticks\":\"\"}}}],\"scatterpolargl\":[{\"type\":\"scatterpolargl\",\"marker\":{\"colorbar\":{\"outlinewidth\":0,\"ticks\":\"\"}}}],\"bar\":[{\"error_x\":{\"color\":\"#2a3f5f\"},\"error_y\":{\"color\":\"#2a3f5f\"},\"marker\":{\"line\":{\"color\":\"#E5ECF6\",\"width\":0.5},\"pattern\":{\"fillmode\":\"overlay\",\"size\":10,\"solidity\":0.2}},\"type\":\"bar\"}],\"scattergeo\":[{\"type\":\"scattergeo\",\"marker\":{\"colorbar\":{\"outlinewidth\":0,\"ticks\":\"\"}}}],\"scatterpolar\":[{\"type\":\"scatterpolar\",\"marker\":{\"colorbar\":{\"outlinewidth\":0,\"ticks\":\"\"}}}],\"histogram\":[{\"marker\":{\"pattern\":{\"fillmode\":\"overlay\",\"size\":10,\"solidity\":0.2}},\"type\":\"histogram\"}],\"scattergl\":[{\"type\":\"scattergl\",\"marker\":{\"colorbar\":{\"outlinewidth\":0,\"ticks\":\"\"}}}],\"scatter3d\":[{\"type\":\"scatter3d\",\"line\":{\"colorbar\":{\"outlinewidth\":0,\"ticks\":\"\"}},\"marker\":{\"colorbar\":{\"outlinewidth\":0,\"ticks\":\"\"}}}],\"scattermapbox\":[{\"type\":\"scattermapbox\",\"marker\":{\"colorbar\":{\"outlinewidth\":0,\"ticks\":\"\"}}}],\"scatterternary\":[{\"type\":\"scatterternary\",\"marker\":{\"colorbar\":{\"outlinewidth\":0,\"ticks\":\"\"}}}],\"scattercarpet\":[{\"type\":\"scattercarpet\",\"marker\":{\"colorbar\":{\"outlinewidth\":0,\"ticks\":\"\"}}}],\"carpet\":[{\"aaxis\":{\"endlinecolor\":\"#2a3f5f\",\"gridcolor\":\"white\",\"linecolor\":\"white\",\"minorgridcolor\":\"white\",\"startlinecolor\":\"#2a3f5f\"},\"baxis\":{\"endlinecolor\":\"#2a3f5f\",\"gridcolor\":\"white\",\"linecolor\":\"white\",\"minorgridcolor\":\"white\",\"startlinecolor\":\"#2a3f5f\"},\"type\":\"carpet\"}],\"table\":[{\"cells\":{\"fill\":{\"color\":\"#EBF0F8\"},\"line\":{\"color\":\"white\"}},\"header\":{\"fill\":{\"color\":\"#C8D4E3\"},\"line\":{\"color\":\"white\"}},\"type\":\"table\"}],\"barpolar\":[{\"marker\":{\"line\":{\"color\":\"#E5ECF6\",\"width\":0.5},\"pattern\":{\"fillmode\":\"overlay\",\"size\":10,\"solidity\":0.2}},\"type\":\"barpolar\"}],\"pie\":[{\"automargin\":true,\"type\":\"pie\"}]},\"layout\":{\"autotypenumbers\":\"strict\",\"colorway\":[\"#636efa\",\"#EF553B\",\"#00cc96\",\"#ab63fa\",\"#FFA15A\",\"#19d3f3\",\"#FF6692\",\"#B6E880\",\"#FF97FF\",\"#FECB52\"],\"font\":{\"color\":\"#2a3f5f\"},\"hovermode\":\"closest\",\"hoverlabel\":{\"align\":\"left\"},\"paper_bgcolor\":\"white\",\"plot_bgcolor\":\"#E5ECF6\",\"polar\":{\"bgcolor\":\"#E5ECF6\",\"angularaxis\":{\"gridcolor\":\"white\",\"linecolor\":\"white\",\"ticks\":\"\"},\"radialaxis\":{\"gridcolor\":\"white\",\"linecolor\":\"white\",\"ticks\":\"\"}},\"ternary\":{\"bgcolor\":\"#E5ECF6\",\"aaxis\":{\"gridcolor\":\"white\",\"linecolor\":\"white\",\"ticks\":\"\"},\"baxis\":{\"gridcolor\":\"white\",\"linecolor\":\"white\",\"ticks\":\"\"},\"caxis\":{\"gridcolor\":\"white\",\"linecolor\":\"white\",\"ticks\":\"\"}},\"coloraxis\":{\"colorbar\":{\"outlinewidth\":0,\"ticks\":\"\"}},\"colorscale\":{\"sequential\":[[0.0,\"#0d0887\"],[0.1111111111111111,\"#46039f\"],[0.2222222222222222,\"#7201a8\"],[0.3333333333333333,\"#9c179e\"],[0.4444444444444444,\"#bd3786\"],[0.5555555555555556,\"#d8576b\"],[0.6666666666666666,\"#ed7953\"],[0.7777777777777778,\"#fb9f3a\"],[0.8888888888888888,\"#fdca26\"],[1.0,\"#f0f921\"]],\"sequentialminus\":[[0.0,\"#0d0887\"],[0.1111111111111111,\"#46039f\"],[0.2222222222222222,\"#7201a8\"],[0.3333333333333333,\"#9c179e\"],[0.4444444444444444,\"#bd3786\"],[0.5555555555555556,\"#d8576b\"],[0.6666666666666666,\"#ed7953\"],[0.7777777777777778,\"#fb9f3a\"],[0.8888888888888888,\"#fdca26\"],[1.0,\"#f0f921\"]],\"diverging\":[[0,\"#8e0152\"],[0.1,\"#c51b7d\"],[0.2,\"#de77ae\"],[0.3,\"#f1b6da\"],[0.4,\"#fde0ef\"],[0.5,\"#f7f7f7\"],[0.6,\"#e6f5d0\"],[0.7,\"#b8e186\"],[0.8,\"#7fbc41\"],[0.9,\"#4d9221\"],[1,\"#276419\"]]},\"xaxis\":{\"gridcolor\":\"white\",\"linecolor\":\"white\",\"ticks\":\"\",\"title\":{\"standoff\":15},\"zerolinecolor\":\"white\",\"automargin\":true,\"zerolinewidth\":2},\"yaxis\":{\"gridcolor\":\"white\",\"linecolor\":\"white\",\"ticks\":\"\",\"title\":{\"standoff\":15},\"zerolinecolor\":\"white\",\"automargin\":true,\"zerolinewidth\":2},\"scene\":{\"xaxis\":{\"backgroundcolor\":\"#E5ECF6\",\"gridcolor\":\"white\",\"linecolor\":\"white\",\"showbackground\":true,\"ticks\":\"\",\"zerolinecolor\":\"white\",\"gridwidth\":2},\"yaxis\":{\"backgroundcolor\":\"#E5ECF6\",\"gridcolor\":\"white\",\"linecolor\":\"white\",\"showbackground\":true,\"ticks\":\"\",\"zerolinecolor\":\"white\",\"gridwidth\":2},\"zaxis\":{\"backgroundcolor\":\"#E5ECF6\",\"gridcolor\":\"white\",\"linecolor\":\"white\",\"showbackground\":true,\"ticks\":\"\",\"zerolinecolor\":\"white\",\"gridwidth\":2}},\"shapedefaults\":{\"line\":{\"color\":\"#2a3f5f\"}},\"annotationdefaults\":{\"arrowcolor\":\"#2a3f5f\",\"arrowhead\":0,\"arrowwidth\":1},\"geo\":{\"bgcolor\":\"white\",\"landcolor\":\"#E5ECF6\",\"subunitcolor\":\"white\",\"showland\":true,\"showlakes\":true,\"lakecolor\":\"white\"},\"title\":{\"x\":0.05},\"mapbox\":{\"style\":\"light\"}}},\"xaxis\":{\"anchor\":\"y\",\"domain\":[0.0,1.0],\"title\":{\"text\":\"Total_Cases_in_M\"}},\"yaxis\":{\"anchor\":\"x\",\"domain\":[0.0,1.0],\"title\":{\"text\":\"count\"}},\"legend\":{\"tracegroupgap\":0},\"title\":{\"text\":\"Data Distribution of Total Cases Per 1M Population\"},\"barmode\":\"relative\"},                        {\"responsive\": true}                    ).then(function(){\n",
       "                            \n",
       "var gd = document.getElementById('c77b23f2-abc1-48f9-9b3e-03f284e67a99');\n",
       "var x = new MutationObserver(function (mutations, observer) {{\n",
       "        var display = window.getComputedStyle(gd).display;\n",
       "        if (!display || display === 'none') {{\n",
       "            console.log([gd, 'removed!']);\n",
       "            Plotly.purge(gd);\n",
       "            observer.disconnect();\n",
       "        }}\n",
       "}});\n",
       "\n",
       "// Listen for the removal of the full notebook cells\n",
       "var notebookContainer = gd.closest('#notebook-container');\n",
       "if (notebookContainer) {{\n",
       "    x.observe(notebookContainer, {childList: true});\n",
       "}}\n",
       "\n",
       "// Listen for the clearing of the current output cell\n",
       "var outputEl = gd.closest('.output');\n",
       "if (outputEl) {{\n",
       "    x.observe(outputEl, {childList: true});\n",
       "}}\n",
       "\n",
       "                        })                };                });            </script>        </div>"
      ]
     },
     "metadata": {},
     "output_type": "display_data"
    }
   ],
   "source": [
    "fig = px.histogram(data, x=\"Total_Cases_in_M\", title=\"Data Distribution of Total Cases Per 1M Population\", color_discrete_sequence=[\"green\"])\n",
    "fig.show()"
   ]
  },
  {
   "cell_type": "code",
   "execution_count": 94,
   "metadata": {},
   "outputs": [
    {
     "data": {
      "application/vnd.plotly.v1+json": {
       "config": {
        "plotlyServerURL": "https://plot.ly"
       },
       "data": [
        {
         "hovertemplate": "Serious_Cases=%{x}<br>Total_Deaths=%{y}<extra></extra>",
         "legendgroup": "",
         "marker": {
          "color": "orange",
          "symbol": "circle"
         },
         "mode": "markers",
         "name": "",
         "orientation": "v",
         "showlegend": false,
         "type": "scatter",
         "x": [
          2970,
          698,
          869,
          8318,
          1406,
          352,
          146,
          141,
          204,
          2300,
          975,
          339,
          106,
          49,
          294,
          35,
          157,
          4798,
          2771,
          1,
          342,
          3086,
          61,
          177,
          47,
          115,
          43,
          1,
          1496,
          101,
          124,
          48,
          99,
          147,
          39,
          54,
          192,
          696,
          123,
          1,
          13,
          21,
          33,
          18,
          1331,
          9,
          22,
          1,
          1,
          8,
          59,
          13,
          47,
          20,
          24,
          21,
          293,
          43,
          12,
          10,
          74,
          22,
          99,
          5,
          23,
          220,
          52,
          1,
          759,
          1,
          1,
          16,
          18,
          192,
          5,
          1,
          32,
          7,
          2,
          1,
          3,
          4,
          1,
          17,
          4,
          49,
          60,
          36,
          122,
          101,
          1,
          10,
          105,
          4,
          1,
          1,
          2,
          1,
          1,
          1,
          1,
          1,
          1,
          6,
          6,
          11,
          12,
          36,
          23,
          11,
          3,
          8,
          1,
          131,
          2,
          8,
          1124,
          19,
          25,
          18,
          3,
          1,
          2,
          1,
          1,
          1,
          13,
          4,
          1,
          1,
          3,
          1,
          1,
          1,
          67,
          1,
          1,
          7,
          9,
          11,
          1,
          6,
          1,
          1,
          1,
          1,
          23,
          1,
          1,
          1,
          1,
          1,
          14,
          3,
          7,
          2,
          1,
          1,
          7,
          1,
          1,
          8,
          2,
          5,
          1,
          1,
          1,
          1,
          1,
          5,
          1,
          1,
          1,
          1,
          1,
          4,
          1,
          2,
          4,
          1,
          1,
          1,
          1,
          5,
          1,
          4,
          1,
          1,
          22,
          2,
          4,
          1,
          7,
          4,
          23,
          1,
          1,
          10,
          1,
          1,
          1,
          1,
          6,
          1,
          2,
          1,
          1,
          1,
          1,
          1,
          1,
          4,
          1,
          1,
          1,
          1,
          4,
          3,
          1,
          1,
          1,
          1,
          1,
          1,
          1,
          1,
          1,
          1,
          1,
          1
         ],
         "xaxis": "x",
         "y": [
          1084282,
          528629,
          155078,
          686027,
          149948,
          28406,
          189919,
          177054,
          44678,
          387163,
          101139,
          114084,
          43148,
          14984,
          129897,
          22643,
          144421,
          330065,
          158093,
          11003,
          141794,
          117539,
          25024,
          109206,
          20738,
          33111,
          36369,
          74,
          32767,
          11698,
          61141,
          32659,
          44992,
          216539,
          41059,
          14183,
          102185,
          62916,
          67016,
          7065,
          20194,
          25355,
          17000,
          47503,
          29362,
          1617,
          20455,
          16900,
          2959,
          10153,
          14122,
          7905,
          30616,
          4098,
          13690,
          5981,
          16278,
          37714,
          9320,
          16902,
          10674,
          6820,
          29249,
          19789,
          8530,
          22234,
          8913,
          2345,
          35894,
          12018,
          7118,
          8497,
          7485,
          2179,
          5990,
          9910,
          9351,
          19583,
          1520,
          16761,
          2563,
          4384,
          19458,
          5403,
          2681,
          11844,
          1180,
          5814,
          24613,
          6437,
          7572,
          893,
          10993,
          682,
          8683,
          16136,
          4260,
          9534,
          5678,
          4017,
          3588,
          2789,
          1123,
          2781,
          6879,
          3155,
          5602,
          5226,
          1637,
          2221,
          225,
          1044,
          758,
          2991,
          213,
          4229,
          7799,
          989,
          308,
          4195,
          3628,
          4065,
          1459,
          3317,
          3056,
          1466,
          1935,
          806,
          1917,
          559,
          410,
          1442,
          202,
          1968,
          2682,
          826,
          1385,
          649,
          314,
          1422,
          1281,
          683,
          878,
          1410,
          4961,
          995,
          410,
          21,
          3163,
          38,
          306,
          169,
          155,
          282,
          668,
          227,
          1024,
          187,
          845,
          285,
          116,
          449,
          833,
          28,
          706,
          857,
          742,
          32,
          391,
          163,
          1352,
          386,
          138,
          387,
          153,
          118,
          108,
          86,
          237,
          225,
          148,
          138,
          125,
          183,
          12,
          29,
          74,
          189,
          17,
          113,
          63,
          372,
          63,
          21,
          2157,
          14,
          36,
          87,
          103,
          312,
          29,
          146,
          175,
          161,
          294,
          126,
          193,
          64,
          115,
          46,
          1,
          36,
          77,
          6,
          6,
          1,
          12,
          13,
          1,
          1,
          8,
          1,
          6,
          7,
          13,
          1,
          1,
          1,
          1,
          2
         ],
         "yaxis": "y"
        }
       ],
       "layout": {
        "legend": {
         "tracegroupgap": 0
        },
        "template": {
         "data": {
          "bar": [
           {
            "error_x": {
             "color": "#2a3f5f"
            },
            "error_y": {
             "color": "#2a3f5f"
            },
            "marker": {
             "line": {
              "color": "#E5ECF6",
              "width": 0.5
             },
             "pattern": {
              "fillmode": "overlay",
              "size": 10,
              "solidity": 0.2
             }
            },
            "type": "bar"
           }
          ],
          "barpolar": [
           {
            "marker": {
             "line": {
              "color": "#E5ECF6",
              "width": 0.5
             },
             "pattern": {
              "fillmode": "overlay",
              "size": 10,
              "solidity": 0.2
             }
            },
            "type": "barpolar"
           }
          ],
          "carpet": [
           {
            "aaxis": {
             "endlinecolor": "#2a3f5f",
             "gridcolor": "white",
             "linecolor": "white",
             "minorgridcolor": "white",
             "startlinecolor": "#2a3f5f"
            },
            "baxis": {
             "endlinecolor": "#2a3f5f",
             "gridcolor": "white",
             "linecolor": "white",
             "minorgridcolor": "white",
             "startlinecolor": "#2a3f5f"
            },
            "type": "carpet"
           }
          ],
          "choropleth": [
           {
            "colorbar": {
             "outlinewidth": 0,
             "ticks": ""
            },
            "type": "choropleth"
           }
          ],
          "contour": [
           {
            "colorbar": {
             "outlinewidth": 0,
             "ticks": ""
            },
            "colorscale": [
             [
              0,
              "#0d0887"
             ],
             [
              0.1111111111111111,
              "#46039f"
             ],
             [
              0.2222222222222222,
              "#7201a8"
             ],
             [
              0.3333333333333333,
              "#9c179e"
             ],
             [
              0.4444444444444444,
              "#bd3786"
             ],
             [
              0.5555555555555556,
              "#d8576b"
             ],
             [
              0.6666666666666666,
              "#ed7953"
             ],
             [
              0.7777777777777778,
              "#fb9f3a"
             ],
             [
              0.8888888888888888,
              "#fdca26"
             ],
             [
              1,
              "#f0f921"
             ]
            ],
            "type": "contour"
           }
          ],
          "contourcarpet": [
           {
            "colorbar": {
             "outlinewidth": 0,
             "ticks": ""
            },
            "type": "contourcarpet"
           }
          ],
          "heatmap": [
           {
            "colorbar": {
             "outlinewidth": 0,
             "ticks": ""
            },
            "colorscale": [
             [
              0,
              "#0d0887"
             ],
             [
              0.1111111111111111,
              "#46039f"
             ],
             [
              0.2222222222222222,
              "#7201a8"
             ],
             [
              0.3333333333333333,
              "#9c179e"
             ],
             [
              0.4444444444444444,
              "#bd3786"
             ],
             [
              0.5555555555555556,
              "#d8576b"
             ],
             [
              0.6666666666666666,
              "#ed7953"
             ],
             [
              0.7777777777777778,
              "#fb9f3a"
             ],
             [
              0.8888888888888888,
              "#fdca26"
             ],
             [
              1,
              "#f0f921"
             ]
            ],
            "type": "heatmap"
           }
          ],
          "heatmapgl": [
           {
            "colorbar": {
             "outlinewidth": 0,
             "ticks": ""
            },
            "colorscale": [
             [
              0,
              "#0d0887"
             ],
             [
              0.1111111111111111,
              "#46039f"
             ],
             [
              0.2222222222222222,
              "#7201a8"
             ],
             [
              0.3333333333333333,
              "#9c179e"
             ],
             [
              0.4444444444444444,
              "#bd3786"
             ],
             [
              0.5555555555555556,
              "#d8576b"
             ],
             [
              0.6666666666666666,
              "#ed7953"
             ],
             [
              0.7777777777777778,
              "#fb9f3a"
             ],
             [
              0.8888888888888888,
              "#fdca26"
             ],
             [
              1,
              "#f0f921"
             ]
            ],
            "type": "heatmapgl"
           }
          ],
          "histogram": [
           {
            "marker": {
             "pattern": {
              "fillmode": "overlay",
              "size": 10,
              "solidity": 0.2
             }
            },
            "type": "histogram"
           }
          ],
          "histogram2d": [
           {
            "colorbar": {
             "outlinewidth": 0,
             "ticks": ""
            },
            "colorscale": [
             [
              0,
              "#0d0887"
             ],
             [
              0.1111111111111111,
              "#46039f"
             ],
             [
              0.2222222222222222,
              "#7201a8"
             ],
             [
              0.3333333333333333,
              "#9c179e"
             ],
             [
              0.4444444444444444,
              "#bd3786"
             ],
             [
              0.5555555555555556,
              "#d8576b"
             ],
             [
              0.6666666666666666,
              "#ed7953"
             ],
             [
              0.7777777777777778,
              "#fb9f3a"
             ],
             [
              0.8888888888888888,
              "#fdca26"
             ],
             [
              1,
              "#f0f921"
             ]
            ],
            "type": "histogram2d"
           }
          ],
          "histogram2dcontour": [
           {
            "colorbar": {
             "outlinewidth": 0,
             "ticks": ""
            },
            "colorscale": [
             [
              0,
              "#0d0887"
             ],
             [
              0.1111111111111111,
              "#46039f"
             ],
             [
              0.2222222222222222,
              "#7201a8"
             ],
             [
              0.3333333333333333,
              "#9c179e"
             ],
             [
              0.4444444444444444,
              "#bd3786"
             ],
             [
              0.5555555555555556,
              "#d8576b"
             ],
             [
              0.6666666666666666,
              "#ed7953"
             ],
             [
              0.7777777777777778,
              "#fb9f3a"
             ],
             [
              0.8888888888888888,
              "#fdca26"
             ],
             [
              1,
              "#f0f921"
             ]
            ],
            "type": "histogram2dcontour"
           }
          ],
          "mesh3d": [
           {
            "colorbar": {
             "outlinewidth": 0,
             "ticks": ""
            },
            "type": "mesh3d"
           }
          ],
          "parcoords": [
           {
            "line": {
             "colorbar": {
              "outlinewidth": 0,
              "ticks": ""
             }
            },
            "type": "parcoords"
           }
          ],
          "pie": [
           {
            "automargin": true,
            "type": "pie"
           }
          ],
          "scatter": [
           {
            "fillpattern": {
             "fillmode": "overlay",
             "size": 10,
             "solidity": 0.2
            },
            "type": "scatter"
           }
          ],
          "scatter3d": [
           {
            "line": {
             "colorbar": {
              "outlinewidth": 0,
              "ticks": ""
             }
            },
            "marker": {
             "colorbar": {
              "outlinewidth": 0,
              "ticks": ""
             }
            },
            "type": "scatter3d"
           }
          ],
          "scattercarpet": [
           {
            "marker": {
             "colorbar": {
              "outlinewidth": 0,
              "ticks": ""
             }
            },
            "type": "scattercarpet"
           }
          ],
          "scattergeo": [
           {
            "marker": {
             "colorbar": {
              "outlinewidth": 0,
              "ticks": ""
             }
            },
            "type": "scattergeo"
           }
          ],
          "scattergl": [
           {
            "marker": {
             "colorbar": {
              "outlinewidth": 0,
              "ticks": ""
             }
            },
            "type": "scattergl"
           }
          ],
          "scattermapbox": [
           {
            "marker": {
             "colorbar": {
              "outlinewidth": 0,
              "ticks": ""
             }
            },
            "type": "scattermapbox"
           }
          ],
          "scatterpolar": [
           {
            "marker": {
             "colorbar": {
              "outlinewidth": 0,
              "ticks": ""
             }
            },
            "type": "scatterpolar"
           }
          ],
          "scatterpolargl": [
           {
            "marker": {
             "colorbar": {
              "outlinewidth": 0,
              "ticks": ""
             }
            },
            "type": "scatterpolargl"
           }
          ],
          "scatterternary": [
           {
            "marker": {
             "colorbar": {
              "outlinewidth": 0,
              "ticks": ""
             }
            },
            "type": "scatterternary"
           }
          ],
          "surface": [
           {
            "colorbar": {
             "outlinewidth": 0,
             "ticks": ""
            },
            "colorscale": [
             [
              0,
              "#0d0887"
             ],
             [
              0.1111111111111111,
              "#46039f"
             ],
             [
              0.2222222222222222,
              "#7201a8"
             ],
             [
              0.3333333333333333,
              "#9c179e"
             ],
             [
              0.4444444444444444,
              "#bd3786"
             ],
             [
              0.5555555555555556,
              "#d8576b"
             ],
             [
              0.6666666666666666,
              "#ed7953"
             ],
             [
              0.7777777777777778,
              "#fb9f3a"
             ],
             [
              0.8888888888888888,
              "#fdca26"
             ],
             [
              1,
              "#f0f921"
             ]
            ],
            "type": "surface"
           }
          ],
          "table": [
           {
            "cells": {
             "fill": {
              "color": "#EBF0F8"
             },
             "line": {
              "color": "white"
             }
            },
            "header": {
             "fill": {
              "color": "#C8D4E3"
             },
             "line": {
              "color": "white"
             }
            },
            "type": "table"
           }
          ]
         },
         "layout": {
          "annotationdefaults": {
           "arrowcolor": "#2a3f5f",
           "arrowhead": 0,
           "arrowwidth": 1
          },
          "autotypenumbers": "strict",
          "coloraxis": {
           "colorbar": {
            "outlinewidth": 0,
            "ticks": ""
           }
          },
          "colorscale": {
           "diverging": [
            [
             0,
             "#8e0152"
            ],
            [
             0.1,
             "#c51b7d"
            ],
            [
             0.2,
             "#de77ae"
            ],
            [
             0.3,
             "#f1b6da"
            ],
            [
             0.4,
             "#fde0ef"
            ],
            [
             0.5,
             "#f7f7f7"
            ],
            [
             0.6,
             "#e6f5d0"
            ],
            [
             0.7,
             "#b8e186"
            ],
            [
             0.8,
             "#7fbc41"
            ],
            [
             0.9,
             "#4d9221"
            ],
            [
             1,
             "#276419"
            ]
           ],
           "sequential": [
            [
             0,
             "#0d0887"
            ],
            [
             0.1111111111111111,
             "#46039f"
            ],
            [
             0.2222222222222222,
             "#7201a8"
            ],
            [
             0.3333333333333333,
             "#9c179e"
            ],
            [
             0.4444444444444444,
             "#bd3786"
            ],
            [
             0.5555555555555556,
             "#d8576b"
            ],
            [
             0.6666666666666666,
             "#ed7953"
            ],
            [
             0.7777777777777778,
             "#fb9f3a"
            ],
            [
             0.8888888888888888,
             "#fdca26"
            ],
            [
             1,
             "#f0f921"
            ]
           ],
           "sequentialminus": [
            [
             0,
             "#0d0887"
            ],
            [
             0.1111111111111111,
             "#46039f"
            ],
            [
             0.2222222222222222,
             "#7201a8"
            ],
            [
             0.3333333333333333,
             "#9c179e"
            ],
            [
             0.4444444444444444,
             "#bd3786"
            ],
            [
             0.5555555555555556,
             "#d8576b"
            ],
            [
             0.6666666666666666,
             "#ed7953"
            ],
            [
             0.7777777777777778,
             "#fb9f3a"
            ],
            [
             0.8888888888888888,
             "#fdca26"
            ],
            [
             1,
             "#f0f921"
            ]
           ]
          },
          "colorway": [
           "#636efa",
           "#EF553B",
           "#00cc96",
           "#ab63fa",
           "#FFA15A",
           "#19d3f3",
           "#FF6692",
           "#B6E880",
           "#FF97FF",
           "#FECB52"
          ],
          "font": {
           "color": "#2a3f5f"
          },
          "geo": {
           "bgcolor": "white",
           "lakecolor": "white",
           "landcolor": "#E5ECF6",
           "showlakes": true,
           "showland": true,
           "subunitcolor": "white"
          },
          "hoverlabel": {
           "align": "left"
          },
          "hovermode": "closest",
          "mapbox": {
           "style": "light"
          },
          "paper_bgcolor": "white",
          "plot_bgcolor": "#E5ECF6",
          "polar": {
           "angularaxis": {
            "gridcolor": "white",
            "linecolor": "white",
            "ticks": ""
           },
           "bgcolor": "#E5ECF6",
           "radialaxis": {
            "gridcolor": "white",
            "linecolor": "white",
            "ticks": ""
           }
          },
          "scene": {
           "xaxis": {
            "backgroundcolor": "#E5ECF6",
            "gridcolor": "white",
            "gridwidth": 2,
            "linecolor": "white",
            "showbackground": true,
            "ticks": "",
            "zerolinecolor": "white"
           },
           "yaxis": {
            "backgroundcolor": "#E5ECF6",
            "gridcolor": "white",
            "gridwidth": 2,
            "linecolor": "white",
            "showbackground": true,
            "ticks": "",
            "zerolinecolor": "white"
           },
           "zaxis": {
            "backgroundcolor": "#E5ECF6",
            "gridcolor": "white",
            "gridwidth": 2,
            "linecolor": "white",
            "showbackground": true,
            "ticks": "",
            "zerolinecolor": "white"
           }
          },
          "shapedefaults": {
           "line": {
            "color": "#2a3f5f"
           }
          },
          "ternary": {
           "aaxis": {
            "gridcolor": "white",
            "linecolor": "white",
            "ticks": ""
           },
           "baxis": {
            "gridcolor": "white",
            "linecolor": "white",
            "ticks": ""
           },
           "bgcolor": "#E5ECF6",
           "caxis": {
            "gridcolor": "white",
            "linecolor": "white",
            "ticks": ""
           }
          },
          "title": {
           "x": 0.05
          },
          "xaxis": {
           "automargin": true,
           "gridcolor": "white",
           "linecolor": "white",
           "ticks": "",
           "title": {
            "standoff": 15
           },
           "zerolinecolor": "white",
           "zerolinewidth": 2
          },
          "yaxis": {
           "automargin": true,
           "gridcolor": "white",
           "linecolor": "white",
           "ticks": "",
           "title": {
            "standoff": 15
           },
           "zerolinecolor": "white",
           "zerolinewidth": 2
          }
         }
        },
        "title": {
         "text": "Total Deaths Vs Serious Cases"
        },
        "xaxis": {
         "anchor": "y",
         "domain": [
          0,
          1
         ],
         "title": {
          "text": "Serious_Cases"
         }
        },
        "yaxis": {
         "anchor": "x",
         "domain": [
          0,
          1
         ],
         "title": {
          "text": "Total_Deaths"
         }
        }
       }
      },
      "text/html": [
       "<div>                            <div id=\"49f9011c-3b1a-4774-9547-87c6fc1d55a5\" class=\"plotly-graph-div\" style=\"height:525px; width:100%;\"></div>            <script type=\"text/javascript\">                require([\"plotly\"], function(Plotly) {                    window.PLOTLYENV=window.PLOTLYENV || {};                                    if (document.getElementById(\"49f9011c-3b1a-4774-9547-87c6fc1d55a5\")) {                    Plotly.newPlot(                        \"49f9011c-3b1a-4774-9547-87c6fc1d55a5\",                        [{\"hovertemplate\":\"Serious_Cases=%{x}\\u003cbr\\u003eTotal_Deaths=%{y}\\u003cextra\\u003e\\u003c\\u002fextra\\u003e\",\"legendgroup\":\"\",\"marker\":{\"color\":\"orange\",\"symbol\":\"circle\"},\"mode\":\"markers\",\"name\":\"\",\"orientation\":\"v\",\"showlegend\":false,\"x\":[2970.0,698.0,869.0,8318.0,1406.0,352.0,146.0,141.0,204.0,2300.0,975.0,339.0,106.0,49.0,294.0,35.0,157.0,4798.0,2771.0,1.0,342.0,3086.0,61.0,177.0,47.0,115.0,43.0,1.0,1496.0,101.0,124.0,48.0,99.0,147.0,39.0,54.0,192.0,696.0,123.0,1.0,13.0,21.0,33.0,18.0,1331.0,9.0,22.0,1.0,1.0,8.0,59.0,13.0,47.0,20.0,24.0,21.0,293.0,43.0,12.0,10.0,74.0,22.0,99.0,5.0,23.0,220.0,52.0,1.0,759.0,1.0,1.0,16.0,18.0,192.0,5.0,1.0,32.0,7.0,2.0,1.0,3.0,4.0,1.0,17.0,4.0,49.0,60.0,36.0,122.0,101.0,1.0,10.0,105.0,4.0,1.0,1.0,2.0,1.0,1.0,1.0,1.0,1.0,1.0,6.0,6.0,11.0,12.0,36.0,23.0,11.0,3.0,8.0,1.0,131.0,2.0,8.0,1124.0,19.0,25.0,18.0,3.0,1.0,2.0,1.0,1.0,1.0,13.0,4.0,1.0,1.0,3.0,1.0,1.0,1.0,67.0,1.0,1.0,7.0,9.0,11.0,1.0,6.0,1.0,1.0,1.0,1.0,23.0,1.0,1.0,1.0,1.0,1.0,14.0,3.0,7.0,2.0,1.0,1.0,7.0,1.0,1.0,8.0,2.0,5.0,1.0,1.0,1.0,1.0,1.0,5.0,1.0,1.0,1.0,1.0,1.0,4.0,1.0,2.0,4.0,1.0,1.0,1.0,1.0,5.0,1.0,4.0,1.0,1.0,22.0,2.0,4.0,1.0,7.0,4.0,23.0,1.0,1.0,10.0,1.0,1.0,1.0,1.0,6.0,1.0,2.0,1.0,1.0,1.0,1.0,1.0,1.0,4.0,1.0,1.0,1.0,1.0,4.0,3.0,1.0,1.0,1.0,1.0,1.0,1.0,1.0,1.0,1.0,1.0,1.0,1.0],\"xaxis\":\"x\",\"y\":[1084282.0,528629.0,155078.0,686027.0,149948.0,28406.0,189919.0,177054.0,44678.0,387163.0,101139.0,114084.0,43148.0,14984.0,129897.0,22643.0,144421.0,330065.0,158093.0,11003.0,141794.0,117539.0,25024.0,109206.0,20738.0,33111.0,36369.0,74.0,32767.0,11698.0,61141.0,32659.0,44992.0,216539.0,41059.0,14183.0,102185.0,62916.0,67016.0,7065.0,20194.0,25355.0,17000.0,47503.0,29362.0,1617.0,20455.0,16900.0,2959.0,10153.0,14122.0,7905.0,30616.0,4098.0,13690.0,5981.0,16278.0,37714.0,9320.0,16902.0,10674.0,6820.0,29249.0,19789.0,8530.0,22234.0,8913.0,2345.0,35894.0,12018.0,7118.0,8497.0,7485.0,2179.0,5990.0,9910.0,9351.0,19583.0,1520.0,16761.0,2563.0,4384.0,19458.0,5403.0,2681.0,11844.0,1180.0,5814.0,24613.0,6437.0,7572.0,893.0,10993.0,682.0,8683.0,16136.0,4260.0,9534.0,5678.0,4017.0,3588.0,2789.0,1123.0,2781.0,6879.0,3155.0,5602.0,5226.0,1637.0,2221.0,225.0,1044.0,758.0,2991.0,213.0,4229.0,7799.0,989.0,308.0,4195.0,3628.0,4065.0,1459.0,3317.0,3056.0,1466.0,1935.0,806.0,1917.0,559.0,410.0,1442.0,202.0,1968.0,2682.0,826.0,1385.0,649.0,314.0,1422.0,1281.0,683.0,878.0,1410.0,4961.0,995.0,410.0,21.0,3163.0,38.0,306.0,169.0,155.0,282.0,668.0,227.0,1024.0,187.0,845.0,285.0,116.0,449.0,833.0,28.0,706.0,857.0,742.0,32.0,391.0,163.0,1352.0,386.0,138.0,387.0,153.0,118.0,108.0,86.0,237.0,225.0,148.0,138.0,125.0,183.0,12.0,29.0,74.0,189.0,17.0,113.0,63.0,372.0,63.0,21.0,2157.0,14.0,36.0,87.0,103.0,312.0,29.0,146.0,175.0,161.0,294.0,126.0,193.0,64.0,115.0,46.0,1.0,36.0,77.0,6.0,6.0,1.0,12.0,13.0,1.0,1.0,8.0,1.0,6.0,7.0,13.0,1.0,1.0,1.0,1.0,2.0],\"yaxis\":\"y\",\"type\":\"scatter\"}],                        {\"template\":{\"data\":{\"histogram2dcontour\":[{\"type\":\"histogram2dcontour\",\"colorbar\":{\"outlinewidth\":0,\"ticks\":\"\"},\"colorscale\":[[0.0,\"#0d0887\"],[0.1111111111111111,\"#46039f\"],[0.2222222222222222,\"#7201a8\"],[0.3333333333333333,\"#9c179e\"],[0.4444444444444444,\"#bd3786\"],[0.5555555555555556,\"#d8576b\"],[0.6666666666666666,\"#ed7953\"],[0.7777777777777778,\"#fb9f3a\"],[0.8888888888888888,\"#fdca26\"],[1.0,\"#f0f921\"]]}],\"choropleth\":[{\"type\":\"choropleth\",\"colorbar\":{\"outlinewidth\":0,\"ticks\":\"\"}}],\"histogram2d\":[{\"type\":\"histogram2d\",\"colorbar\":{\"outlinewidth\":0,\"ticks\":\"\"},\"colorscale\":[[0.0,\"#0d0887\"],[0.1111111111111111,\"#46039f\"],[0.2222222222222222,\"#7201a8\"],[0.3333333333333333,\"#9c179e\"],[0.4444444444444444,\"#bd3786\"],[0.5555555555555556,\"#d8576b\"],[0.6666666666666666,\"#ed7953\"],[0.7777777777777778,\"#fb9f3a\"],[0.8888888888888888,\"#fdca26\"],[1.0,\"#f0f921\"]]}],\"heatmap\":[{\"type\":\"heatmap\",\"colorbar\":{\"outlinewidth\":0,\"ticks\":\"\"},\"colorscale\":[[0.0,\"#0d0887\"],[0.1111111111111111,\"#46039f\"],[0.2222222222222222,\"#7201a8\"],[0.3333333333333333,\"#9c179e\"],[0.4444444444444444,\"#bd3786\"],[0.5555555555555556,\"#d8576b\"],[0.6666666666666666,\"#ed7953\"],[0.7777777777777778,\"#fb9f3a\"],[0.8888888888888888,\"#fdca26\"],[1.0,\"#f0f921\"]]}],\"heatmapgl\":[{\"type\":\"heatmapgl\",\"colorbar\":{\"outlinewidth\":0,\"ticks\":\"\"},\"colorscale\":[[0.0,\"#0d0887\"],[0.1111111111111111,\"#46039f\"],[0.2222222222222222,\"#7201a8\"],[0.3333333333333333,\"#9c179e\"],[0.4444444444444444,\"#bd3786\"],[0.5555555555555556,\"#d8576b\"],[0.6666666666666666,\"#ed7953\"],[0.7777777777777778,\"#fb9f3a\"],[0.8888888888888888,\"#fdca26\"],[1.0,\"#f0f921\"]]}],\"contourcarpet\":[{\"type\":\"contourcarpet\",\"colorbar\":{\"outlinewidth\":0,\"ticks\":\"\"}}],\"contour\":[{\"type\":\"contour\",\"colorbar\":{\"outlinewidth\":0,\"ticks\":\"\"},\"colorscale\":[[0.0,\"#0d0887\"],[0.1111111111111111,\"#46039f\"],[0.2222222222222222,\"#7201a8\"],[0.3333333333333333,\"#9c179e\"],[0.4444444444444444,\"#bd3786\"],[0.5555555555555556,\"#d8576b\"],[0.6666666666666666,\"#ed7953\"],[0.7777777777777778,\"#fb9f3a\"],[0.8888888888888888,\"#fdca26\"],[1.0,\"#f0f921\"]]}],\"surface\":[{\"type\":\"surface\",\"colorbar\":{\"outlinewidth\":0,\"ticks\":\"\"},\"colorscale\":[[0.0,\"#0d0887\"],[0.1111111111111111,\"#46039f\"],[0.2222222222222222,\"#7201a8\"],[0.3333333333333333,\"#9c179e\"],[0.4444444444444444,\"#bd3786\"],[0.5555555555555556,\"#d8576b\"],[0.6666666666666666,\"#ed7953\"],[0.7777777777777778,\"#fb9f3a\"],[0.8888888888888888,\"#fdca26\"],[1.0,\"#f0f921\"]]}],\"mesh3d\":[{\"type\":\"mesh3d\",\"colorbar\":{\"outlinewidth\":0,\"ticks\":\"\"}}],\"scatter\":[{\"fillpattern\":{\"fillmode\":\"overlay\",\"size\":10,\"solidity\":0.2},\"type\":\"scatter\"}],\"parcoords\":[{\"type\":\"parcoords\",\"line\":{\"colorbar\":{\"outlinewidth\":0,\"ticks\":\"\"}}}],\"scatterpolargl\":[{\"type\":\"scatterpolargl\",\"marker\":{\"colorbar\":{\"outlinewidth\":0,\"ticks\":\"\"}}}],\"bar\":[{\"error_x\":{\"color\":\"#2a3f5f\"},\"error_y\":{\"color\":\"#2a3f5f\"},\"marker\":{\"line\":{\"color\":\"#E5ECF6\",\"width\":0.5},\"pattern\":{\"fillmode\":\"overlay\",\"size\":10,\"solidity\":0.2}},\"type\":\"bar\"}],\"scattergeo\":[{\"type\":\"scattergeo\",\"marker\":{\"colorbar\":{\"outlinewidth\":0,\"ticks\":\"\"}}}],\"scatterpolar\":[{\"type\":\"scatterpolar\",\"marker\":{\"colorbar\":{\"outlinewidth\":0,\"ticks\":\"\"}}}],\"histogram\":[{\"marker\":{\"pattern\":{\"fillmode\":\"overlay\",\"size\":10,\"solidity\":0.2}},\"type\":\"histogram\"}],\"scattergl\":[{\"type\":\"scattergl\",\"marker\":{\"colorbar\":{\"outlinewidth\":0,\"ticks\":\"\"}}}],\"scatter3d\":[{\"type\":\"scatter3d\",\"line\":{\"colorbar\":{\"outlinewidth\":0,\"ticks\":\"\"}},\"marker\":{\"colorbar\":{\"outlinewidth\":0,\"ticks\":\"\"}}}],\"scattermapbox\":[{\"type\":\"scattermapbox\",\"marker\":{\"colorbar\":{\"outlinewidth\":0,\"ticks\":\"\"}}}],\"scatterternary\":[{\"type\":\"scatterternary\",\"marker\":{\"colorbar\":{\"outlinewidth\":0,\"ticks\":\"\"}}}],\"scattercarpet\":[{\"type\":\"scattercarpet\",\"marker\":{\"colorbar\":{\"outlinewidth\":0,\"ticks\":\"\"}}}],\"carpet\":[{\"aaxis\":{\"endlinecolor\":\"#2a3f5f\",\"gridcolor\":\"white\",\"linecolor\":\"white\",\"minorgridcolor\":\"white\",\"startlinecolor\":\"#2a3f5f\"},\"baxis\":{\"endlinecolor\":\"#2a3f5f\",\"gridcolor\":\"white\",\"linecolor\":\"white\",\"minorgridcolor\":\"white\",\"startlinecolor\":\"#2a3f5f\"},\"type\":\"carpet\"}],\"table\":[{\"cells\":{\"fill\":{\"color\":\"#EBF0F8\"},\"line\":{\"color\":\"white\"}},\"header\":{\"fill\":{\"color\":\"#C8D4E3\"},\"line\":{\"color\":\"white\"}},\"type\":\"table\"}],\"barpolar\":[{\"marker\":{\"line\":{\"color\":\"#E5ECF6\",\"width\":0.5},\"pattern\":{\"fillmode\":\"overlay\",\"size\":10,\"solidity\":0.2}},\"type\":\"barpolar\"}],\"pie\":[{\"automargin\":true,\"type\":\"pie\"}]},\"layout\":{\"autotypenumbers\":\"strict\",\"colorway\":[\"#636efa\",\"#EF553B\",\"#00cc96\",\"#ab63fa\",\"#FFA15A\",\"#19d3f3\",\"#FF6692\",\"#B6E880\",\"#FF97FF\",\"#FECB52\"],\"font\":{\"color\":\"#2a3f5f\"},\"hovermode\":\"closest\",\"hoverlabel\":{\"align\":\"left\"},\"paper_bgcolor\":\"white\",\"plot_bgcolor\":\"#E5ECF6\",\"polar\":{\"bgcolor\":\"#E5ECF6\",\"angularaxis\":{\"gridcolor\":\"white\",\"linecolor\":\"white\",\"ticks\":\"\"},\"radialaxis\":{\"gridcolor\":\"white\",\"linecolor\":\"white\",\"ticks\":\"\"}},\"ternary\":{\"bgcolor\":\"#E5ECF6\",\"aaxis\":{\"gridcolor\":\"white\",\"linecolor\":\"white\",\"ticks\":\"\"},\"baxis\":{\"gridcolor\":\"white\",\"linecolor\":\"white\",\"ticks\":\"\"},\"caxis\":{\"gridcolor\":\"white\",\"linecolor\":\"white\",\"ticks\":\"\"}},\"coloraxis\":{\"colorbar\":{\"outlinewidth\":0,\"ticks\":\"\"}},\"colorscale\":{\"sequential\":[[0.0,\"#0d0887\"],[0.1111111111111111,\"#46039f\"],[0.2222222222222222,\"#7201a8\"],[0.3333333333333333,\"#9c179e\"],[0.4444444444444444,\"#bd3786\"],[0.5555555555555556,\"#d8576b\"],[0.6666666666666666,\"#ed7953\"],[0.7777777777777778,\"#fb9f3a\"],[0.8888888888888888,\"#fdca26\"],[1.0,\"#f0f921\"]],\"sequentialminus\":[[0.0,\"#0d0887\"],[0.1111111111111111,\"#46039f\"],[0.2222222222222222,\"#7201a8\"],[0.3333333333333333,\"#9c179e\"],[0.4444444444444444,\"#bd3786\"],[0.5555555555555556,\"#d8576b\"],[0.6666666666666666,\"#ed7953\"],[0.7777777777777778,\"#fb9f3a\"],[0.8888888888888888,\"#fdca26\"],[1.0,\"#f0f921\"]],\"diverging\":[[0,\"#8e0152\"],[0.1,\"#c51b7d\"],[0.2,\"#de77ae\"],[0.3,\"#f1b6da\"],[0.4,\"#fde0ef\"],[0.5,\"#f7f7f7\"],[0.6,\"#e6f5d0\"],[0.7,\"#b8e186\"],[0.8,\"#7fbc41\"],[0.9,\"#4d9221\"],[1,\"#276419\"]]},\"xaxis\":{\"gridcolor\":\"white\",\"linecolor\":\"white\",\"ticks\":\"\",\"title\":{\"standoff\":15},\"zerolinecolor\":\"white\",\"automargin\":true,\"zerolinewidth\":2},\"yaxis\":{\"gridcolor\":\"white\",\"linecolor\":\"white\",\"ticks\":\"\",\"title\":{\"standoff\":15},\"zerolinecolor\":\"white\",\"automargin\":true,\"zerolinewidth\":2},\"scene\":{\"xaxis\":{\"backgroundcolor\":\"#E5ECF6\",\"gridcolor\":\"white\",\"linecolor\":\"white\",\"showbackground\":true,\"ticks\":\"\",\"zerolinecolor\":\"white\",\"gridwidth\":2},\"yaxis\":{\"backgroundcolor\":\"#E5ECF6\",\"gridcolor\":\"white\",\"linecolor\":\"white\",\"showbackground\":true,\"ticks\":\"\",\"zerolinecolor\":\"white\",\"gridwidth\":2},\"zaxis\":{\"backgroundcolor\":\"#E5ECF6\",\"gridcolor\":\"white\",\"linecolor\":\"white\",\"showbackground\":true,\"ticks\":\"\",\"zerolinecolor\":\"white\",\"gridwidth\":2}},\"shapedefaults\":{\"line\":{\"color\":\"#2a3f5f\"}},\"annotationdefaults\":{\"arrowcolor\":\"#2a3f5f\",\"arrowhead\":0,\"arrowwidth\":1},\"geo\":{\"bgcolor\":\"white\",\"landcolor\":\"#E5ECF6\",\"subunitcolor\":\"white\",\"showland\":true,\"showlakes\":true,\"lakecolor\":\"white\"},\"title\":{\"x\":0.05},\"mapbox\":{\"style\":\"light\"}}},\"xaxis\":{\"anchor\":\"y\",\"domain\":[0.0,1.0],\"title\":{\"text\":\"Serious_Cases\"}},\"yaxis\":{\"anchor\":\"x\",\"domain\":[0.0,1.0],\"title\":{\"text\":\"Total_Deaths\"}},\"legend\":{\"tracegroupgap\":0},\"title\":{\"text\":\"Total Deaths Vs Serious Cases\"}},                        {\"responsive\": true}                    ).then(function(){\n",
       "                            \n",
       "var gd = document.getElementById('49f9011c-3b1a-4774-9547-87c6fc1d55a5');\n",
       "var x = new MutationObserver(function (mutations, observer) {{\n",
       "        var display = window.getComputedStyle(gd).display;\n",
       "        if (!display || display === 'none') {{\n",
       "            console.log([gd, 'removed!']);\n",
       "            Plotly.purge(gd);\n",
       "            observer.disconnect();\n",
       "        }}\n",
       "}});\n",
       "\n",
       "// Listen for the removal of the full notebook cells\n",
       "var notebookContainer = gd.closest('#notebook-container');\n",
       "if (notebookContainer) {{\n",
       "    x.observe(notebookContainer, {childList: true});\n",
       "}}\n",
       "\n",
       "// Listen for the clearing of the current output cell\n",
       "var outputEl = gd.closest('.output');\n",
       "if (outputEl) {{\n",
       "    x.observe(outputEl, {childList: true});\n",
       "}}\n",
       "\n",
       "                        })                };                });            </script>        </div>"
      ]
     },
     "metadata": {},
     "output_type": "display_data"
    }
   ],
   "source": [
    "fig = px.scatter(data, x=\"Serious_Cases\", y=\"Total_Deaths\",title=\"Total Deaths Vs Serious Cases\", color_discrete_sequence=[\"orange\"])\n",
    "fig.show()"
   ]
  },
  {
   "cell_type": "code",
   "execution_count": 95,
   "metadata": {},
   "outputs": [
    {
     "data": {
      "application/vnd.plotly.v1+json": {
       "config": {
        "plotlyServerURL": "https://plot.ly"
       },
       "data": [
        {
         "hovertemplate": "Total_Cases=%{x}<br>Serious_Cases=%{y}<extra></extra>",
         "legendgroup": "",
         "marker": {
          "color": "black",
          "symbol": "circle"
         },
         "mode": "markers",
         "name": "",
         "orientation": "v",
         "showlegend": false,
         "type": "scatter",
         "x": [
          98166904,
          44587307,
          35342950,
          34706757,
          33312373,
          24769101,
          23621952,
          22432803,
          21229216,
          20948470,
          16873793,
          13412263,
          11477886,
          10209239,
          9708420,
          8422336,
          7548320,
          7084488,
          6429767,
          6417941,
          6307372,
          6289672,
          5490639,
          5177217,
          5118512,
          4920192,
          4838872,
          4772813,
          4681309,
          4661096,
          4620377,
          4533249,
          4233468,
          4143085,
          4100480,
          4084307,
          4018769,
          3945566,
          3267370,
          3110831,
          2588441,
          2459982,
          2359530,
          2094142,
          2024489,
          1904192,
          1843220,
          1780691,
          1779476,
          1761381,
          1746997,
          1663653,
          1572598,
          1462318,
          1393468,
          1292940,
          1264935,
          1258670,
          1249134,
          1231575,
          1215511,
          1181073,
          1145686,
          1123465,
          1111179,
          1108195,
          1072807,
          1027031,
          1003778,
          999712,
          994037,
          986866,
          985422,
          982864,
          929051,
          821162,
          816389,
          716059,
          680271,
          670763,
          658520,
          644016,
          622802,
          620548,
          601869,
          589388,
          585313,
          544687,
          515645,
          506991,
          493563,
          472336,
          456391,
          450448,
          442875,
          398668,
          397993,
          342775,
          338420,
          333531,
          332173,
          326308,
          288658,
          280002,
          270668,
          265382,
          257409,
          250449,
          244199,
          230219,
          226237,
          221618,
          215843,
          206083,
          205637,
          201785,
          199067,
          192801,
          185042,
          182597,
          169396,
          169253,
          169100,
          151829,
          137870,
          132498,
          121652,
          114652,
          103131,
          102546,
          93974,
          92852,
          91561,
          88373,
          88024,
          87208,
          81106,
          76599,
          74152,
          73390,
          71336,
          68826,
          68242,
          66676,
          63285,
          62812,
          62371,
          61730,
          57299,
          50129,
          48691,
          47141,
          46227,
          45127,
          44997,
          42914,
          40461,
          40243,
          39440,
          39034,
          38008,
          37652,
          37267,
          34658,
          34490,
          33733,
          32625,
          30661,
          29408,
          27638,
          27214,
          24837,
          23253,
          21631,
          21544,
          20763,
          20092,
          19713,
          19536,
          18491,
          18154,
          17823,
          17786,
          17012,
          16182,
          15925,
          15747,
          15690,
          15275,
          14913,
          14608,
          12508,
          11978,
          11971,
          11935,
          11930,
          11235,
          10863,
          10169,
          9931,
          9759,
          9098,
          8796,
          8471,
          7961,
          7751,
          7583,
          7305,
          7112,
          6541,
          6389,
          6380,
          6230,
          5460,
          5285,
          4611,
          3865,
          3430,
          3188,
          1886,
          1396,
          1355,
          793,
          761,
          712,
          80,
          29,
          20,
          10,
          9
         ],
         "xaxis": "x",
         "y": [
          2970,
          698,
          869,
          8318,
          1406,
          352,
          146,
          141,
          204,
          2300,
          975,
          339,
          106,
          49,
          294,
          35,
          157,
          4798,
          2771,
          1,
          342,
          3086,
          61,
          177,
          47,
          115,
          43,
          1,
          1496,
          101,
          124,
          48,
          99,
          147,
          39,
          54,
          192,
          696,
          123,
          1,
          13,
          21,
          33,
          18,
          1331,
          9,
          22,
          1,
          1,
          8,
          59,
          13,
          47,
          20,
          24,
          21,
          293,
          43,
          12,
          10,
          74,
          22,
          99,
          5,
          23,
          220,
          52,
          1,
          759,
          1,
          1,
          16,
          18,
          192,
          5,
          1,
          32,
          7,
          2,
          1,
          3,
          4,
          1,
          17,
          4,
          49,
          60,
          36,
          122,
          101,
          1,
          10,
          105,
          4,
          1,
          1,
          2,
          1,
          1,
          1,
          1,
          1,
          1,
          6,
          6,
          11,
          12,
          36,
          23,
          11,
          3,
          8,
          1,
          131,
          2,
          8,
          1124,
          19,
          25,
          18,
          3,
          1,
          2,
          1,
          1,
          1,
          13,
          4,
          1,
          1,
          3,
          1,
          1,
          1,
          67,
          1,
          1,
          7,
          9,
          11,
          1,
          6,
          1,
          1,
          1,
          1,
          23,
          1,
          1,
          1,
          1,
          1,
          14,
          3,
          7,
          2,
          1,
          1,
          7,
          1,
          1,
          8,
          2,
          5,
          1,
          1,
          1,
          1,
          1,
          5,
          1,
          1,
          1,
          1,
          1,
          4,
          1,
          2,
          4,
          1,
          1,
          1,
          1,
          5,
          1,
          4,
          1,
          1,
          22,
          2,
          4,
          1,
          7,
          4,
          23,
          1,
          1,
          10,
          1,
          1,
          1,
          1,
          6,
          1,
          2,
          1,
          1,
          1,
          1,
          1,
          1,
          4,
          1,
          1,
          1,
          1,
          4,
          3,
          1,
          1,
          1,
          1,
          1,
          1,
          1,
          1,
          1,
          1,
          1,
          1
         ],
         "yaxis": "y"
        }
       ],
       "layout": {
        "legend": {
         "tracegroupgap": 0
        },
        "template": {
         "data": {
          "bar": [
           {
            "error_x": {
             "color": "#2a3f5f"
            },
            "error_y": {
             "color": "#2a3f5f"
            },
            "marker": {
             "line": {
              "color": "#E5ECF6",
              "width": 0.5
             },
             "pattern": {
              "fillmode": "overlay",
              "size": 10,
              "solidity": 0.2
             }
            },
            "type": "bar"
           }
          ],
          "barpolar": [
           {
            "marker": {
             "line": {
              "color": "#E5ECF6",
              "width": 0.5
             },
             "pattern": {
              "fillmode": "overlay",
              "size": 10,
              "solidity": 0.2
             }
            },
            "type": "barpolar"
           }
          ],
          "carpet": [
           {
            "aaxis": {
             "endlinecolor": "#2a3f5f",
             "gridcolor": "white",
             "linecolor": "white",
             "minorgridcolor": "white",
             "startlinecolor": "#2a3f5f"
            },
            "baxis": {
             "endlinecolor": "#2a3f5f",
             "gridcolor": "white",
             "linecolor": "white",
             "minorgridcolor": "white",
             "startlinecolor": "#2a3f5f"
            },
            "type": "carpet"
           }
          ],
          "choropleth": [
           {
            "colorbar": {
             "outlinewidth": 0,
             "ticks": ""
            },
            "type": "choropleth"
           }
          ],
          "contour": [
           {
            "colorbar": {
             "outlinewidth": 0,
             "ticks": ""
            },
            "colorscale": [
             [
              0,
              "#0d0887"
             ],
             [
              0.1111111111111111,
              "#46039f"
             ],
             [
              0.2222222222222222,
              "#7201a8"
             ],
             [
              0.3333333333333333,
              "#9c179e"
             ],
             [
              0.4444444444444444,
              "#bd3786"
             ],
             [
              0.5555555555555556,
              "#d8576b"
             ],
             [
              0.6666666666666666,
              "#ed7953"
             ],
             [
              0.7777777777777778,
              "#fb9f3a"
             ],
             [
              0.8888888888888888,
              "#fdca26"
             ],
             [
              1,
              "#f0f921"
             ]
            ],
            "type": "contour"
           }
          ],
          "contourcarpet": [
           {
            "colorbar": {
             "outlinewidth": 0,
             "ticks": ""
            },
            "type": "contourcarpet"
           }
          ],
          "heatmap": [
           {
            "colorbar": {
             "outlinewidth": 0,
             "ticks": ""
            },
            "colorscale": [
             [
              0,
              "#0d0887"
             ],
             [
              0.1111111111111111,
              "#46039f"
             ],
             [
              0.2222222222222222,
              "#7201a8"
             ],
             [
              0.3333333333333333,
              "#9c179e"
             ],
             [
              0.4444444444444444,
              "#bd3786"
             ],
             [
              0.5555555555555556,
              "#d8576b"
             ],
             [
              0.6666666666666666,
              "#ed7953"
             ],
             [
              0.7777777777777778,
              "#fb9f3a"
             ],
             [
              0.8888888888888888,
              "#fdca26"
             ],
             [
              1,
              "#f0f921"
             ]
            ],
            "type": "heatmap"
           }
          ],
          "heatmapgl": [
           {
            "colorbar": {
             "outlinewidth": 0,
             "ticks": ""
            },
            "colorscale": [
             [
              0,
              "#0d0887"
             ],
             [
              0.1111111111111111,
              "#46039f"
             ],
             [
              0.2222222222222222,
              "#7201a8"
             ],
             [
              0.3333333333333333,
              "#9c179e"
             ],
             [
              0.4444444444444444,
              "#bd3786"
             ],
             [
              0.5555555555555556,
              "#d8576b"
             ],
             [
              0.6666666666666666,
              "#ed7953"
             ],
             [
              0.7777777777777778,
              "#fb9f3a"
             ],
             [
              0.8888888888888888,
              "#fdca26"
             ],
             [
              1,
              "#f0f921"
             ]
            ],
            "type": "heatmapgl"
           }
          ],
          "histogram": [
           {
            "marker": {
             "pattern": {
              "fillmode": "overlay",
              "size": 10,
              "solidity": 0.2
             }
            },
            "type": "histogram"
           }
          ],
          "histogram2d": [
           {
            "colorbar": {
             "outlinewidth": 0,
             "ticks": ""
            },
            "colorscale": [
             [
              0,
              "#0d0887"
             ],
             [
              0.1111111111111111,
              "#46039f"
             ],
             [
              0.2222222222222222,
              "#7201a8"
             ],
             [
              0.3333333333333333,
              "#9c179e"
             ],
             [
              0.4444444444444444,
              "#bd3786"
             ],
             [
              0.5555555555555556,
              "#d8576b"
             ],
             [
              0.6666666666666666,
              "#ed7953"
             ],
             [
              0.7777777777777778,
              "#fb9f3a"
             ],
             [
              0.8888888888888888,
              "#fdca26"
             ],
             [
              1,
              "#f0f921"
             ]
            ],
            "type": "histogram2d"
           }
          ],
          "histogram2dcontour": [
           {
            "colorbar": {
             "outlinewidth": 0,
             "ticks": ""
            },
            "colorscale": [
             [
              0,
              "#0d0887"
             ],
             [
              0.1111111111111111,
              "#46039f"
             ],
             [
              0.2222222222222222,
              "#7201a8"
             ],
             [
              0.3333333333333333,
              "#9c179e"
             ],
             [
              0.4444444444444444,
              "#bd3786"
             ],
             [
              0.5555555555555556,
              "#d8576b"
             ],
             [
              0.6666666666666666,
              "#ed7953"
             ],
             [
              0.7777777777777778,
              "#fb9f3a"
             ],
             [
              0.8888888888888888,
              "#fdca26"
             ],
             [
              1,
              "#f0f921"
             ]
            ],
            "type": "histogram2dcontour"
           }
          ],
          "mesh3d": [
           {
            "colorbar": {
             "outlinewidth": 0,
             "ticks": ""
            },
            "type": "mesh3d"
           }
          ],
          "parcoords": [
           {
            "line": {
             "colorbar": {
              "outlinewidth": 0,
              "ticks": ""
             }
            },
            "type": "parcoords"
           }
          ],
          "pie": [
           {
            "automargin": true,
            "type": "pie"
           }
          ],
          "scatter": [
           {
            "fillpattern": {
             "fillmode": "overlay",
             "size": 10,
             "solidity": 0.2
            },
            "type": "scatter"
           }
          ],
          "scatter3d": [
           {
            "line": {
             "colorbar": {
              "outlinewidth": 0,
              "ticks": ""
             }
            },
            "marker": {
             "colorbar": {
              "outlinewidth": 0,
              "ticks": ""
             }
            },
            "type": "scatter3d"
           }
          ],
          "scattercarpet": [
           {
            "marker": {
             "colorbar": {
              "outlinewidth": 0,
              "ticks": ""
             }
            },
            "type": "scattercarpet"
           }
          ],
          "scattergeo": [
           {
            "marker": {
             "colorbar": {
              "outlinewidth": 0,
              "ticks": ""
             }
            },
            "type": "scattergeo"
           }
          ],
          "scattergl": [
           {
            "marker": {
             "colorbar": {
              "outlinewidth": 0,
              "ticks": ""
             }
            },
            "type": "scattergl"
           }
          ],
          "scattermapbox": [
           {
            "marker": {
             "colorbar": {
              "outlinewidth": 0,
              "ticks": ""
             }
            },
            "type": "scattermapbox"
           }
          ],
          "scatterpolar": [
           {
            "marker": {
             "colorbar": {
              "outlinewidth": 0,
              "ticks": ""
             }
            },
            "type": "scatterpolar"
           }
          ],
          "scatterpolargl": [
           {
            "marker": {
             "colorbar": {
              "outlinewidth": 0,
              "ticks": ""
             }
            },
            "type": "scatterpolargl"
           }
          ],
          "scatterternary": [
           {
            "marker": {
             "colorbar": {
              "outlinewidth": 0,
              "ticks": ""
             }
            },
            "type": "scatterternary"
           }
          ],
          "surface": [
           {
            "colorbar": {
             "outlinewidth": 0,
             "ticks": ""
            },
            "colorscale": [
             [
              0,
              "#0d0887"
             ],
             [
              0.1111111111111111,
              "#46039f"
             ],
             [
              0.2222222222222222,
              "#7201a8"
             ],
             [
              0.3333333333333333,
              "#9c179e"
             ],
             [
              0.4444444444444444,
              "#bd3786"
             ],
             [
              0.5555555555555556,
              "#d8576b"
             ],
             [
              0.6666666666666666,
              "#ed7953"
             ],
             [
              0.7777777777777778,
              "#fb9f3a"
             ],
             [
              0.8888888888888888,
              "#fdca26"
             ],
             [
              1,
              "#f0f921"
             ]
            ],
            "type": "surface"
           }
          ],
          "table": [
           {
            "cells": {
             "fill": {
              "color": "#EBF0F8"
             },
             "line": {
              "color": "white"
             }
            },
            "header": {
             "fill": {
              "color": "#C8D4E3"
             },
             "line": {
              "color": "white"
             }
            },
            "type": "table"
           }
          ]
         },
         "layout": {
          "annotationdefaults": {
           "arrowcolor": "#2a3f5f",
           "arrowhead": 0,
           "arrowwidth": 1
          },
          "autotypenumbers": "strict",
          "coloraxis": {
           "colorbar": {
            "outlinewidth": 0,
            "ticks": ""
           }
          },
          "colorscale": {
           "diverging": [
            [
             0,
             "#8e0152"
            ],
            [
             0.1,
             "#c51b7d"
            ],
            [
             0.2,
             "#de77ae"
            ],
            [
             0.3,
             "#f1b6da"
            ],
            [
             0.4,
             "#fde0ef"
            ],
            [
             0.5,
             "#f7f7f7"
            ],
            [
             0.6,
             "#e6f5d0"
            ],
            [
             0.7,
             "#b8e186"
            ],
            [
             0.8,
             "#7fbc41"
            ],
            [
             0.9,
             "#4d9221"
            ],
            [
             1,
             "#276419"
            ]
           ],
           "sequential": [
            [
             0,
             "#0d0887"
            ],
            [
             0.1111111111111111,
             "#46039f"
            ],
            [
             0.2222222222222222,
             "#7201a8"
            ],
            [
             0.3333333333333333,
             "#9c179e"
            ],
            [
             0.4444444444444444,
             "#bd3786"
            ],
            [
             0.5555555555555556,
             "#d8576b"
            ],
            [
             0.6666666666666666,
             "#ed7953"
            ],
            [
             0.7777777777777778,
             "#fb9f3a"
            ],
            [
             0.8888888888888888,
             "#fdca26"
            ],
            [
             1,
             "#f0f921"
            ]
           ],
           "sequentialminus": [
            [
             0,
             "#0d0887"
            ],
            [
             0.1111111111111111,
             "#46039f"
            ],
            [
             0.2222222222222222,
             "#7201a8"
            ],
            [
             0.3333333333333333,
             "#9c179e"
            ],
            [
             0.4444444444444444,
             "#bd3786"
            ],
            [
             0.5555555555555556,
             "#d8576b"
            ],
            [
             0.6666666666666666,
             "#ed7953"
            ],
            [
             0.7777777777777778,
             "#fb9f3a"
            ],
            [
             0.8888888888888888,
             "#fdca26"
            ],
            [
             1,
             "#f0f921"
            ]
           ]
          },
          "colorway": [
           "#636efa",
           "#EF553B",
           "#00cc96",
           "#ab63fa",
           "#FFA15A",
           "#19d3f3",
           "#FF6692",
           "#B6E880",
           "#FF97FF",
           "#FECB52"
          ],
          "font": {
           "color": "#2a3f5f"
          },
          "geo": {
           "bgcolor": "white",
           "lakecolor": "white",
           "landcolor": "#E5ECF6",
           "showlakes": true,
           "showland": true,
           "subunitcolor": "white"
          },
          "hoverlabel": {
           "align": "left"
          },
          "hovermode": "closest",
          "mapbox": {
           "style": "light"
          },
          "paper_bgcolor": "white",
          "plot_bgcolor": "#E5ECF6",
          "polar": {
           "angularaxis": {
            "gridcolor": "white",
            "linecolor": "white",
            "ticks": ""
           },
           "bgcolor": "#E5ECF6",
           "radialaxis": {
            "gridcolor": "white",
            "linecolor": "white",
            "ticks": ""
           }
          },
          "scene": {
           "xaxis": {
            "backgroundcolor": "#E5ECF6",
            "gridcolor": "white",
            "gridwidth": 2,
            "linecolor": "white",
            "showbackground": true,
            "ticks": "",
            "zerolinecolor": "white"
           },
           "yaxis": {
            "backgroundcolor": "#E5ECF6",
            "gridcolor": "white",
            "gridwidth": 2,
            "linecolor": "white",
            "showbackground": true,
            "ticks": "",
            "zerolinecolor": "white"
           },
           "zaxis": {
            "backgroundcolor": "#E5ECF6",
            "gridcolor": "white",
            "gridwidth": 2,
            "linecolor": "white",
            "showbackground": true,
            "ticks": "",
            "zerolinecolor": "white"
           }
          },
          "shapedefaults": {
           "line": {
            "color": "#2a3f5f"
           }
          },
          "ternary": {
           "aaxis": {
            "gridcolor": "white",
            "linecolor": "white",
            "ticks": ""
           },
           "baxis": {
            "gridcolor": "white",
            "linecolor": "white",
            "ticks": ""
           },
           "bgcolor": "#E5ECF6",
           "caxis": {
            "gridcolor": "white",
            "linecolor": "white",
            "ticks": ""
           }
          },
          "title": {
           "x": 0.05
          },
          "xaxis": {
           "automargin": true,
           "gridcolor": "white",
           "linecolor": "white",
           "ticks": "",
           "title": {
            "standoff": 15
           },
           "zerolinecolor": "white",
           "zerolinewidth": 2
          },
          "yaxis": {
           "automargin": true,
           "gridcolor": "white",
           "linecolor": "white",
           "ticks": "",
           "title": {
            "standoff": 15
           },
           "zerolinecolor": "white",
           "zerolinewidth": 2
          }
         }
        },
        "title": {
         "text": "Total Cases Vs Serious Cases"
        },
        "xaxis": {
         "anchor": "y",
         "domain": [
          0,
          1
         ],
         "title": {
          "text": "Total_Cases"
         }
        },
        "yaxis": {
         "anchor": "x",
         "domain": [
          0,
          1
         ],
         "title": {
          "text": "Serious_Cases"
         }
        }
       }
      },
      "text/html": [
       "<div>                            <div id=\"a1d7ac90-af04-4be5-b573-eda308e73c9f\" class=\"plotly-graph-div\" style=\"height:525px; width:100%;\"></div>            <script type=\"text/javascript\">                require([\"plotly\"], function(Plotly) {                    window.PLOTLYENV=window.PLOTLYENV || {};                                    if (document.getElementById(\"a1d7ac90-af04-4be5-b573-eda308e73c9f\")) {                    Plotly.newPlot(                        \"a1d7ac90-af04-4be5-b573-eda308e73c9f\",                        [{\"hovertemplate\":\"Total_Cases=%{x}\\u003cbr\\u003eSerious_Cases=%{y}\\u003cextra\\u003e\\u003c\\u002fextra\\u003e\",\"legendgroup\":\"\",\"marker\":{\"color\":\"black\",\"symbol\":\"circle\"},\"mode\":\"markers\",\"name\":\"\",\"orientation\":\"v\",\"showlegend\":false,\"x\":[98166904.0,44587307.0,35342950.0,34706757.0,33312373.0,24769101.0,23621952.0,22432803.0,21229216.0,20948470.0,16873793.0,13412263.0,11477886.0,10209239.0,9708420.0,8422336.0,7548320.0,7084488.0,6429767.0,6417941.0,6307372.0,6289672.0,5490639.0,5177217.0,5118512.0,4920192.0,4838872.0,4772813.0,4681309.0,4661096.0,4620377.0,4533249.0,4233468.0,4143085.0,4100480.0,4084307.0,4018769.0,3945566.0,3267370.0,3110831.0,2588441.0,2459982.0,2359530.0,2094142.0,2024489.0,1904192.0,1843220.0,1780691.0,1779476.0,1761381.0,1746997.0,1663653.0,1572598.0,1462318.0,1393468.0,1292940.0,1264935.0,1258670.0,1249134.0,1231575.0,1215511.0,1181073.0,1145686.0,1123465.0,1111179.0,1108195.0,1072807.0,1027031.0,1003778.0,999712.0,994037.0,986866.0,985422.0,982864.0,929051.0,821162.0,816389.0,716059.0,680271.0,670763.0,658520.0,644016.0,622802.0,620548.0,601869.0,589388.0,585313.0,544687.0,515645.0,506991.0,493563.0,472336.0,456391.0,450448.0,442875.0,398668.0,397993.0,342775.0,338420.0,333531.0,332173.0,326308.0,288658.0,280002.0,270668.0,265382.0,257409.0,250449.0,244199.0,230219.0,226237.0,221618.0,215843.0,206083.0,205637.0,201785.0,199067.0,192801.0,185042.0,182597.0,169396.0,169253.0,169100.0,151829.0,137870.0,132498.0,121652.0,114652.0,103131.0,102546.0,93974.0,92852.0,91561.0,88373.0,88024.0,87208.0,81106.0,76599.0,74152.0,73390.0,71336.0,68826.0,68242.0,66676.0,63285.0,62812.0,62371.0,61730.0,57299.0,50129.0,48691.0,47141.0,46227.0,45127.0,44997.0,42914.0,40461.0,40243.0,39440.0,39034.0,38008.0,37652.0,37267.0,34658.0,34490.0,33733.0,32625.0,30661.0,29408.0,27638.0,27214.0,24837.0,23253.0,21631.0,21544.0,20763.0,20092.0,19713.0,19536.0,18491.0,18154.0,17823.0,17786.0,17012.0,16182.0,15925.0,15747.0,15690.0,15275.0,14913.0,14608.0,12508.0,11978.0,11971.0,11935.0,11930.0,11235.0,10863.0,10169.0,9931.0,9759.0,9098.0,8796.0,8471.0,7961.0,7751.0,7583.0,7305.0,7112.0,6541.0,6389.0,6380.0,6230.0,5460.0,5285.0,4611.0,3865.0,3430.0,3188.0,1886.0,1396.0,1355.0,793.0,761.0,712.0,80.0,29.0,20.0,10.0,9.0],\"xaxis\":\"x\",\"y\":[2970.0,698.0,869.0,8318.0,1406.0,352.0,146.0,141.0,204.0,2300.0,975.0,339.0,106.0,49.0,294.0,35.0,157.0,4798.0,2771.0,1.0,342.0,3086.0,61.0,177.0,47.0,115.0,43.0,1.0,1496.0,101.0,124.0,48.0,99.0,147.0,39.0,54.0,192.0,696.0,123.0,1.0,13.0,21.0,33.0,18.0,1331.0,9.0,22.0,1.0,1.0,8.0,59.0,13.0,47.0,20.0,24.0,21.0,293.0,43.0,12.0,10.0,74.0,22.0,99.0,5.0,23.0,220.0,52.0,1.0,759.0,1.0,1.0,16.0,18.0,192.0,5.0,1.0,32.0,7.0,2.0,1.0,3.0,4.0,1.0,17.0,4.0,49.0,60.0,36.0,122.0,101.0,1.0,10.0,105.0,4.0,1.0,1.0,2.0,1.0,1.0,1.0,1.0,1.0,1.0,6.0,6.0,11.0,12.0,36.0,23.0,11.0,3.0,8.0,1.0,131.0,2.0,8.0,1124.0,19.0,25.0,18.0,3.0,1.0,2.0,1.0,1.0,1.0,13.0,4.0,1.0,1.0,3.0,1.0,1.0,1.0,67.0,1.0,1.0,7.0,9.0,11.0,1.0,6.0,1.0,1.0,1.0,1.0,23.0,1.0,1.0,1.0,1.0,1.0,14.0,3.0,7.0,2.0,1.0,1.0,7.0,1.0,1.0,8.0,2.0,5.0,1.0,1.0,1.0,1.0,1.0,5.0,1.0,1.0,1.0,1.0,1.0,4.0,1.0,2.0,4.0,1.0,1.0,1.0,1.0,5.0,1.0,4.0,1.0,1.0,22.0,2.0,4.0,1.0,7.0,4.0,23.0,1.0,1.0,10.0,1.0,1.0,1.0,1.0,6.0,1.0,2.0,1.0,1.0,1.0,1.0,1.0,1.0,4.0,1.0,1.0,1.0,1.0,4.0,3.0,1.0,1.0,1.0,1.0,1.0,1.0,1.0,1.0,1.0,1.0,1.0,1.0],\"yaxis\":\"y\",\"type\":\"scatter\"}],                        {\"template\":{\"data\":{\"histogram2dcontour\":[{\"type\":\"histogram2dcontour\",\"colorbar\":{\"outlinewidth\":0,\"ticks\":\"\"},\"colorscale\":[[0.0,\"#0d0887\"],[0.1111111111111111,\"#46039f\"],[0.2222222222222222,\"#7201a8\"],[0.3333333333333333,\"#9c179e\"],[0.4444444444444444,\"#bd3786\"],[0.5555555555555556,\"#d8576b\"],[0.6666666666666666,\"#ed7953\"],[0.7777777777777778,\"#fb9f3a\"],[0.8888888888888888,\"#fdca26\"],[1.0,\"#f0f921\"]]}],\"choropleth\":[{\"type\":\"choropleth\",\"colorbar\":{\"outlinewidth\":0,\"ticks\":\"\"}}],\"histogram2d\":[{\"type\":\"histogram2d\",\"colorbar\":{\"outlinewidth\":0,\"ticks\":\"\"},\"colorscale\":[[0.0,\"#0d0887\"],[0.1111111111111111,\"#46039f\"],[0.2222222222222222,\"#7201a8\"],[0.3333333333333333,\"#9c179e\"],[0.4444444444444444,\"#bd3786\"],[0.5555555555555556,\"#d8576b\"],[0.6666666666666666,\"#ed7953\"],[0.7777777777777778,\"#fb9f3a\"],[0.8888888888888888,\"#fdca26\"],[1.0,\"#f0f921\"]]}],\"heatmap\":[{\"type\":\"heatmap\",\"colorbar\":{\"outlinewidth\":0,\"ticks\":\"\"},\"colorscale\":[[0.0,\"#0d0887\"],[0.1111111111111111,\"#46039f\"],[0.2222222222222222,\"#7201a8\"],[0.3333333333333333,\"#9c179e\"],[0.4444444444444444,\"#bd3786\"],[0.5555555555555556,\"#d8576b\"],[0.6666666666666666,\"#ed7953\"],[0.7777777777777778,\"#fb9f3a\"],[0.8888888888888888,\"#fdca26\"],[1.0,\"#f0f921\"]]}],\"heatmapgl\":[{\"type\":\"heatmapgl\",\"colorbar\":{\"outlinewidth\":0,\"ticks\":\"\"},\"colorscale\":[[0.0,\"#0d0887\"],[0.1111111111111111,\"#46039f\"],[0.2222222222222222,\"#7201a8\"],[0.3333333333333333,\"#9c179e\"],[0.4444444444444444,\"#bd3786\"],[0.5555555555555556,\"#d8576b\"],[0.6666666666666666,\"#ed7953\"],[0.7777777777777778,\"#fb9f3a\"],[0.8888888888888888,\"#fdca26\"],[1.0,\"#f0f921\"]]}],\"contourcarpet\":[{\"type\":\"contourcarpet\",\"colorbar\":{\"outlinewidth\":0,\"ticks\":\"\"}}],\"contour\":[{\"type\":\"contour\",\"colorbar\":{\"outlinewidth\":0,\"ticks\":\"\"},\"colorscale\":[[0.0,\"#0d0887\"],[0.1111111111111111,\"#46039f\"],[0.2222222222222222,\"#7201a8\"],[0.3333333333333333,\"#9c179e\"],[0.4444444444444444,\"#bd3786\"],[0.5555555555555556,\"#d8576b\"],[0.6666666666666666,\"#ed7953\"],[0.7777777777777778,\"#fb9f3a\"],[0.8888888888888888,\"#fdca26\"],[1.0,\"#f0f921\"]]}],\"surface\":[{\"type\":\"surface\",\"colorbar\":{\"outlinewidth\":0,\"ticks\":\"\"},\"colorscale\":[[0.0,\"#0d0887\"],[0.1111111111111111,\"#46039f\"],[0.2222222222222222,\"#7201a8\"],[0.3333333333333333,\"#9c179e\"],[0.4444444444444444,\"#bd3786\"],[0.5555555555555556,\"#d8576b\"],[0.6666666666666666,\"#ed7953\"],[0.7777777777777778,\"#fb9f3a\"],[0.8888888888888888,\"#fdca26\"],[1.0,\"#f0f921\"]]}],\"mesh3d\":[{\"type\":\"mesh3d\",\"colorbar\":{\"outlinewidth\":0,\"ticks\":\"\"}}],\"scatter\":[{\"fillpattern\":{\"fillmode\":\"overlay\",\"size\":10,\"solidity\":0.2},\"type\":\"scatter\"}],\"parcoords\":[{\"type\":\"parcoords\",\"line\":{\"colorbar\":{\"outlinewidth\":0,\"ticks\":\"\"}}}],\"scatterpolargl\":[{\"type\":\"scatterpolargl\",\"marker\":{\"colorbar\":{\"outlinewidth\":0,\"ticks\":\"\"}}}],\"bar\":[{\"error_x\":{\"color\":\"#2a3f5f\"},\"error_y\":{\"color\":\"#2a3f5f\"},\"marker\":{\"line\":{\"color\":\"#E5ECF6\",\"width\":0.5},\"pattern\":{\"fillmode\":\"overlay\",\"size\":10,\"solidity\":0.2}},\"type\":\"bar\"}],\"scattergeo\":[{\"type\":\"scattergeo\",\"marker\":{\"colorbar\":{\"outlinewidth\":0,\"ticks\":\"\"}}}],\"scatterpolar\":[{\"type\":\"scatterpolar\",\"marker\":{\"colorbar\":{\"outlinewidth\":0,\"ticks\":\"\"}}}],\"histogram\":[{\"marker\":{\"pattern\":{\"fillmode\":\"overlay\",\"size\":10,\"solidity\":0.2}},\"type\":\"histogram\"}],\"scattergl\":[{\"type\":\"scattergl\",\"marker\":{\"colorbar\":{\"outlinewidth\":0,\"ticks\":\"\"}}}],\"scatter3d\":[{\"type\":\"scatter3d\",\"line\":{\"colorbar\":{\"outlinewidth\":0,\"ticks\":\"\"}},\"marker\":{\"colorbar\":{\"outlinewidth\":0,\"ticks\":\"\"}}}],\"scattermapbox\":[{\"type\":\"scattermapbox\",\"marker\":{\"colorbar\":{\"outlinewidth\":0,\"ticks\":\"\"}}}],\"scatterternary\":[{\"type\":\"scatterternary\",\"marker\":{\"colorbar\":{\"outlinewidth\":0,\"ticks\":\"\"}}}],\"scattercarpet\":[{\"type\":\"scattercarpet\",\"marker\":{\"colorbar\":{\"outlinewidth\":0,\"ticks\":\"\"}}}],\"carpet\":[{\"aaxis\":{\"endlinecolor\":\"#2a3f5f\",\"gridcolor\":\"white\",\"linecolor\":\"white\",\"minorgridcolor\":\"white\",\"startlinecolor\":\"#2a3f5f\"},\"baxis\":{\"endlinecolor\":\"#2a3f5f\",\"gridcolor\":\"white\",\"linecolor\":\"white\",\"minorgridcolor\":\"white\",\"startlinecolor\":\"#2a3f5f\"},\"type\":\"carpet\"}],\"table\":[{\"cells\":{\"fill\":{\"color\":\"#EBF0F8\"},\"line\":{\"color\":\"white\"}},\"header\":{\"fill\":{\"color\":\"#C8D4E3\"},\"line\":{\"color\":\"white\"}},\"type\":\"table\"}],\"barpolar\":[{\"marker\":{\"line\":{\"color\":\"#E5ECF6\",\"width\":0.5},\"pattern\":{\"fillmode\":\"overlay\",\"size\":10,\"solidity\":0.2}},\"type\":\"barpolar\"}],\"pie\":[{\"automargin\":true,\"type\":\"pie\"}]},\"layout\":{\"autotypenumbers\":\"strict\",\"colorway\":[\"#636efa\",\"#EF553B\",\"#00cc96\",\"#ab63fa\",\"#FFA15A\",\"#19d3f3\",\"#FF6692\",\"#B6E880\",\"#FF97FF\",\"#FECB52\"],\"font\":{\"color\":\"#2a3f5f\"},\"hovermode\":\"closest\",\"hoverlabel\":{\"align\":\"left\"},\"paper_bgcolor\":\"white\",\"plot_bgcolor\":\"#E5ECF6\",\"polar\":{\"bgcolor\":\"#E5ECF6\",\"angularaxis\":{\"gridcolor\":\"white\",\"linecolor\":\"white\",\"ticks\":\"\"},\"radialaxis\":{\"gridcolor\":\"white\",\"linecolor\":\"white\",\"ticks\":\"\"}},\"ternary\":{\"bgcolor\":\"#E5ECF6\",\"aaxis\":{\"gridcolor\":\"white\",\"linecolor\":\"white\",\"ticks\":\"\"},\"baxis\":{\"gridcolor\":\"white\",\"linecolor\":\"white\",\"ticks\":\"\"},\"caxis\":{\"gridcolor\":\"white\",\"linecolor\":\"white\",\"ticks\":\"\"}},\"coloraxis\":{\"colorbar\":{\"outlinewidth\":0,\"ticks\":\"\"}},\"colorscale\":{\"sequential\":[[0.0,\"#0d0887\"],[0.1111111111111111,\"#46039f\"],[0.2222222222222222,\"#7201a8\"],[0.3333333333333333,\"#9c179e\"],[0.4444444444444444,\"#bd3786\"],[0.5555555555555556,\"#d8576b\"],[0.6666666666666666,\"#ed7953\"],[0.7777777777777778,\"#fb9f3a\"],[0.8888888888888888,\"#fdca26\"],[1.0,\"#f0f921\"]],\"sequentialminus\":[[0.0,\"#0d0887\"],[0.1111111111111111,\"#46039f\"],[0.2222222222222222,\"#7201a8\"],[0.3333333333333333,\"#9c179e\"],[0.4444444444444444,\"#bd3786\"],[0.5555555555555556,\"#d8576b\"],[0.6666666666666666,\"#ed7953\"],[0.7777777777777778,\"#fb9f3a\"],[0.8888888888888888,\"#fdca26\"],[1.0,\"#f0f921\"]],\"diverging\":[[0,\"#8e0152\"],[0.1,\"#c51b7d\"],[0.2,\"#de77ae\"],[0.3,\"#f1b6da\"],[0.4,\"#fde0ef\"],[0.5,\"#f7f7f7\"],[0.6,\"#e6f5d0\"],[0.7,\"#b8e186\"],[0.8,\"#7fbc41\"],[0.9,\"#4d9221\"],[1,\"#276419\"]]},\"xaxis\":{\"gridcolor\":\"white\",\"linecolor\":\"white\",\"ticks\":\"\",\"title\":{\"standoff\":15},\"zerolinecolor\":\"white\",\"automargin\":true,\"zerolinewidth\":2},\"yaxis\":{\"gridcolor\":\"white\",\"linecolor\":\"white\",\"ticks\":\"\",\"title\":{\"standoff\":15},\"zerolinecolor\":\"white\",\"automargin\":true,\"zerolinewidth\":2},\"scene\":{\"xaxis\":{\"backgroundcolor\":\"#E5ECF6\",\"gridcolor\":\"white\",\"linecolor\":\"white\",\"showbackground\":true,\"ticks\":\"\",\"zerolinecolor\":\"white\",\"gridwidth\":2},\"yaxis\":{\"backgroundcolor\":\"#E5ECF6\",\"gridcolor\":\"white\",\"linecolor\":\"white\",\"showbackground\":true,\"ticks\":\"\",\"zerolinecolor\":\"white\",\"gridwidth\":2},\"zaxis\":{\"backgroundcolor\":\"#E5ECF6\",\"gridcolor\":\"white\",\"linecolor\":\"white\",\"showbackground\":true,\"ticks\":\"\",\"zerolinecolor\":\"white\",\"gridwidth\":2}},\"shapedefaults\":{\"line\":{\"color\":\"#2a3f5f\"}},\"annotationdefaults\":{\"arrowcolor\":\"#2a3f5f\",\"arrowhead\":0,\"arrowwidth\":1},\"geo\":{\"bgcolor\":\"white\",\"landcolor\":\"#E5ECF6\",\"subunitcolor\":\"white\",\"showland\":true,\"showlakes\":true,\"lakecolor\":\"white\"},\"title\":{\"x\":0.05},\"mapbox\":{\"style\":\"light\"}}},\"xaxis\":{\"anchor\":\"y\",\"domain\":[0.0,1.0],\"title\":{\"text\":\"Total_Cases\"}},\"yaxis\":{\"anchor\":\"x\",\"domain\":[0.0,1.0],\"title\":{\"text\":\"Serious_Cases\"}},\"legend\":{\"tracegroupgap\":0},\"title\":{\"text\":\"Total Cases Vs Serious Cases\"}},                        {\"responsive\": true}                    ).then(function(){\n",
       "                            \n",
       "var gd = document.getElementById('a1d7ac90-af04-4be5-b573-eda308e73c9f');\n",
       "var x = new MutationObserver(function (mutations, observer) {{\n",
       "        var display = window.getComputedStyle(gd).display;\n",
       "        if (!display || display === 'none') {{\n",
       "            console.log([gd, 'removed!']);\n",
       "            Plotly.purge(gd);\n",
       "            observer.disconnect();\n",
       "        }}\n",
       "}});\n",
       "\n",
       "// Listen for the removal of the full notebook cells\n",
       "var notebookContainer = gd.closest('#notebook-container');\n",
       "if (notebookContainer) {{\n",
       "    x.observe(notebookContainer, {childList: true});\n",
       "}}\n",
       "\n",
       "// Listen for the clearing of the current output cell\n",
       "var outputEl = gd.closest('.output');\n",
       "if (outputEl) {{\n",
       "    x.observe(outputEl, {childList: true});\n",
       "}}\n",
       "\n",
       "                        })                };                });            </script>        </div>"
      ]
     },
     "metadata": {},
     "output_type": "display_data"
    }
   ],
   "source": [
    "fig = px.scatter(data, x=\"Total_Cases\", y=\"Serious_Cases\",title=\"Total Cases Vs Serious Cases\", color_discrete_sequence=[\"black\"])\n",
    "fig.show()"
   ]
  },
  {
   "cell_type": "code",
   "execution_count": 104,
   "metadata": {},
   "outputs": [
    {
     "data": {
      "text/plain": [
       "<matplotlib.axes._subplots.AxesSubplot at 0x1a547304388>"
      ]
     },
     "execution_count": 104,
     "metadata": {},
     "output_type": "execute_result"
    },
    {
     "data": {
      "image/png": "[encoded data removed]",
      "text/plain": [
       "<Figure size 432x288 with 1 Axes>"
      ]
     },
     "metadata": {
      "needs_background": "light"
     },
     "output_type": "display_data"
    }
   ],
   "source": [
    "sns.barplot(x=data.head()['Country'], y=data.head()['Total_Cases'])"
   ]
  },
  {
   "cell_type": "code",
   "execution_count": 112,
   "metadata": {},
   "outputs": [
    {
     "data": {
      "text/plain": [
       "<matplotlib.axes._subplots.AxesSubplot at 0x1a544e47408>"
      ]
     },
     "execution_count": 112,
     "metadata": {},
     "output_type": "execute_result"
    },
    {
     "data": {
      "image/png": "[encoded data removed]",
      "text/plain": [
       "<Figure size 432x288 with 1 Axes>"
      ]
     },
     "metadata": {
      "needs_background": "light"
     },
     "output_type": "display_data"
    }
   ],
   "source": [
    "sns.barplot(x =data.head()[\"Active_Cases\"],y =data.head()[\"Serious_Cases\"], data = data)"
   ]
  },
  {
   "cell_type": "code",
   "execution_count": 113,
   "metadata": {},
   "outputs": [
    {
     "name": "stdout",
     "output_type": "stream",
     "text": [
      "<class 'pandas.core.frame.DataFrame'>\n",
      "Int64Index: 230 entries, 1 to 230\n",
      "Data columns (total 11 columns):\n",
      " #   Column            Non-Null Count  Dtype  \n",
      "---  ------            --------------  -----  \n",
      " 0   Country           230 non-null    object \n",
      " 1   Total_Cases       230 non-null    float64\n",
      " 2   Total_Deaths      230 non-null    float64\n",
      " 3   Total_Recovered   230 non-null    float64\n",
      " 4   Active_Cases      230 non-null    float64\n",
      " 5   Serious_Cases     230 non-null    float64\n",
      " 6   Total_Cases_in_M  230 non-null    float64\n",
      " 7   Deaths_in_M       230 non-null    float64\n",
      " 8   Total_Tests       230 non-null    float64\n",
      " 9   Test_in_M         230 non-null    float64\n",
      " 10  Population        230 non-null    float64\n",
      "dtypes: float64(10), object(1)\n",
      "memory usage: 31.6+ KB\n"
     ]
    }
   ],
   "source": [
    "data.info()"
   ]
  },
  {
   "cell_type": "code",
   "execution_count": 114,
   "metadata": {},
   "outputs": [
    {
     "data": {
      "text/plain": [
       "<matplotlib.axes._subplots.AxesSubplot at 0x1a547e15888>"
      ]
     },
     "execution_count": 114,
     "metadata": {},
     "output_type": "execute_result"
    },
    {
     "data": {
      "image/png": "[encoded data removed]",
      "text/plain": [
       "<Figure size 432x288 with 1 Axes>"
      ]
     },
     "metadata": {
      "needs_background": "light"
     },
     "output_type": "display_data"
    }
   ],
   "source": [
    "sns.barplot(x =data.head()[\"Total_Deaths\"],y =data.head()[\"Population\"], data = data)"
   ]
  },
  {
   "cell_type": "code",
   "execution_count": 115,
   "metadata": {},
   "outputs": [
    {
     "data": {
      "text/plain": [
       "<matplotlib.axes._subplots.AxesSubplot at 0x1a548e5a048>"
      ]
     },
     "execution_count": 115,
     "metadata": {},
     "output_type": "execute_result"
    },
    {
     "data": {
      "image/png": "[encoded data removed]",
      "text/plain": [
       "<Figure size 432x288 with 1 Axes>"
      ]
     },
     "metadata": {
      "needs_background": "light"
     },
     "output_type": "display_data"
    }
   ],
   "source": [
    "sns.barplot(x =data.head()[\"Total_Cases\"],y =data.head()[\"Total_Recovered\"], data = data)"
   ]
  },
  {
   "cell_type": "markdown",
   "metadata": {},
   "source": [
    "# Conculsion \n",
    "This analyis has captured the diversity and complexity of people’s experiences.\n",
    "\n",
    "Country experiences of the pandemic has effected the population including:Total Cases,Serious Cases,Death,Recovered.\n",
    "\n",
    "We have also seen different graph which indicate the relationship between various variables."
   ]
  }
 ],
 "metadata": {
  "kernelspec": {
   "display_name": "Python 3",
   "language": "python",
   "name": "python3"
  },
  "language_info": {
   "codemirror_mode": {
    "name": "ipython",
    "version": 3
   },
   "file_extension": ".py",
   "mimetype": "text/x-python",
   "name": "python",
   "nbconvert_exporter": "python",
   "pygments_lexer": "ipython3",
   "version": "3.7.6"
  }
 },
 "nbformat": 4,
 "nbformat_minor": 4
}
